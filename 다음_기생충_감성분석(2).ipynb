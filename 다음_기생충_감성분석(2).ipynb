{
 "cells": [
  {
   "cell_type": "code",
   "execution_count": 37,
   "id": "13ca2525",
   "metadata": {},
   "outputs": [
    {
     "data": {
      "text/html": [
       "<div>\n",
       "<style scoped>\n",
       "    .dataframe tbody tr th:only-of-type {\n",
       "        vertical-align: middle;\n",
       "    }\n",
       "\n",
       "    .dataframe tbody tr th {\n",
       "        vertical-align: top;\n",
       "    }\n",
       "\n",
       "    .dataframe thead th {\n",
       "        text-align: right;\n",
       "    }\n",
       "</style>\n",
       "<table border=\"1\" class=\"dataframe\">\n",
       "  <thead>\n",
       "    <tr style=\"text-align: right;\">\n",
       "      <th></th>\n",
       "      <th>Unnamed: 0</th>\n",
       "      <th>rating</th>\n",
       "      <th>review</th>\n",
       "      <th>sentiment</th>\n",
       "    </tr>\n",
       "  </thead>\n",
       "  <tbody>\n",
       "    <tr>\n",
       "      <th>0</th>\n",
       "      <td>0</td>\n",
       "      <td>10</td>\n",
       "      <td>현재는시골에서  열댓마리 강아지와 살고있다. 서울서는  지하에 내리 살았어서 그 냄...</td>\n",
       "      <td>1</td>\n",
       "    </tr>\n",
       "    <tr>\n",
       "      <th>1</th>\n",
       "      <td>1</td>\n",
       "      <td>9</td>\n",
       "      <td>유럽 친구가 내 의견 궁금하다고 꼭 봐 보래서 구입해서 봐 봤는데\\n송강호가 이선균...</td>\n",
       "      <td>1</td>\n",
       "    </tr>\n",
       "    <tr>\n",
       "      <th>2</th>\n",
       "      <td>2</td>\n",
       "      <td>10</td>\n",
       "      <td>기분이 나빠진다.\\n김선균에게 이입하고 싶지만 송강호인 현실이 슬프다.</td>\n",
       "      <td>1</td>\n",
       "    </tr>\n",
       "    <tr>\n",
       "      <th>3</th>\n",
       "      <td>3</td>\n",
       "      <td>10</td>\n",
       "      <td>시대의 명작. 평점이 낮은 이유는 저급한 댓글알바들과 봉준호를 싫어하는 ♪♬들이 여...</td>\n",
       "      <td>1</td>\n",
       "    </tr>\n",
       "    <tr>\n",
       "      <th>4</th>\n",
       "      <td>4</td>\n",
       "      <td>10</td>\n",
       "      <td>몇번이나 다시봐도 진짜 명작입니다</td>\n",
       "      <td>1</td>\n",
       "    </tr>\n",
       "    <tr>\n",
       "      <th>...</th>\n",
       "      <td>...</td>\n",
       "      <td>...</td>\n",
       "      <td>...</td>\n",
       "      <td>...</td>\n",
       "    </tr>\n",
       "    <tr>\n",
       "      <th>6993</th>\n",
       "      <td>8655</td>\n",
       "      <td>1</td>\n",
       "      <td>평점이 좋은 이유를 모르겠네요. ㅎ\\n영화보는 눈이 아둔해서 그런가\\n무슨 메시지를...</td>\n",
       "      <td>-1</td>\n",
       "    </tr>\n",
       "    <tr>\n",
       "      <th>6994</th>\n",
       "      <td>8656</td>\n",
       "      <td>1</td>\n",
       "      <td>이런게 영화면 성냥팔이 소녀의 재림은 신화다 ㅋ</td>\n",
       "      <td>-1</td>\n",
       "    </tr>\n",
       "    <tr>\n",
       "      <th>6995</th>\n",
       "      <td>8657</td>\n",
       "      <td>2</td>\n",
       "      <td>별점 1점도 아깝다\\n어떤 사람이 이 영화를 봤는데 처음에는 재미 있었지만 나중에는...</td>\n",
       "      <td>-1</td>\n",
       "    </tr>\n",
       "    <tr>\n",
       "      <th>6996</th>\n",
       "      <td>8658</td>\n",
       "      <td>10</td>\n",
       "      <td>좌파폭도고발영화.전라도까는 내용이었어.</td>\n",
       "      <td>1</td>\n",
       "    </tr>\n",
       "    <tr>\n",
       "      <th>6997</th>\n",
       "      <td>8659</td>\n",
       "      <td>1</td>\n",
       "      <td>너무\\n없이사는 사람들 비하 아닌가?\\n넷플서 드디어 봤는데\\n진짜 불쾌하네\\n봉감...</td>\n",
       "      <td>-1</td>\n",
       "    </tr>\n",
       "  </tbody>\n",
       "</table>\n",
       "<p>6998 rows × 4 columns</p>\n",
       "</div>"
      ],
      "text/plain": [
       "      Unnamed: 0  rating                                             review  \\\n",
       "0              0      10  현재는시골에서  열댓마리 강아지와 살고있다. 서울서는  지하에 내리 살았어서 그 냄...   \n",
       "1              1       9  유럽 친구가 내 의견 궁금하다고 꼭 봐 보래서 구입해서 봐 봤는데\\n송강호가 이선균...   \n",
       "2              2      10            기분이 나빠진다.\\n김선균에게 이입하고 싶지만 송강호인 현실이 슬프다.   \n",
       "3              3      10  시대의 명작. 평점이 낮은 이유는 저급한 댓글알바들과 봉준호를 싫어하는 ♪♬들이 여...   \n",
       "4              4      10                                 몇번이나 다시봐도 진짜 명작입니다   \n",
       "...          ...     ...                                                ...   \n",
       "6993        8655       1  평점이 좋은 이유를 모르겠네요. ㅎ\\n영화보는 눈이 아둔해서 그런가\\n무슨 메시지를...   \n",
       "6994        8656       1                         이런게 영화면 성냥팔이 소녀의 재림은 신화다 ㅋ   \n",
       "6995        8657       2  별점 1점도 아깝다\\n어떤 사람이 이 영화를 봤는데 처음에는 재미 있었지만 나중에는...   \n",
       "6996        8658      10                              좌파폭도고발영화.전라도까는 내용이었어.   \n",
       "6997        8659       1  너무\\n없이사는 사람들 비하 아닌가?\\n넷플서 드디어 봤는데\\n진짜 불쾌하네\\n봉감...   \n",
       "\n",
       "      sentiment  \n",
       "0             1  \n",
       "1             1  \n",
       "2             1  \n",
       "3             1  \n",
       "4             1  \n",
       "...         ...  \n",
       "6993         -1  \n",
       "6994         -1  \n",
       "6995         -1  \n",
       "6996          1  \n",
       "6997         -1  \n",
       "\n",
       "[6998 rows x 4 columns]"
      ]
     },
     "execution_count": 37,
     "metadata": {},
     "output_type": "execute_result"
    }
   ],
   "source": [
    "import pandas as pd\n",
    "\n",
    "df= pd.read_csv('다음관객_수정.csv')\n",
    "df"
   ]
  },
  {
   "cell_type": "code",
   "execution_count": 40,
   "id": "302d01c3",
   "metadata": {},
   "outputs": [
    {
     "name": "stdout",
     "output_type": "stream",
     "text": [
      "Unnamed: 0    65\n",
      "rating        65\n",
      "review        65\n",
      "sentiment     65\n",
      "dtype: int64\n",
      "Unnamed: 0    86\n",
      "rating        86\n",
      "review        86\n",
      "sentiment     86\n",
      "dtype: int64\n",
      "오차율:  2.0\n"
     ]
    },
    {
     "name": "stderr",
     "output_type": "stream",
     "text": [
      "C:\\Users\\LG-PC\\AppData\\Local\\Temp\\ipykernel_36760\\3988086406.py:2: UserWarning: Boolean Series key will be reindexed to match DataFrame index.\n",
      "  print(df[df.rating >= 8][df.sentiment==-1].count())\n",
      "C:\\Users\\LG-PC\\AppData\\Local\\Temp\\ipykernel_36760\\3988086406.py:3: UserWarning: Boolean Series key will be reindexed to match DataFrame index.\n",
      "  print(df[df.rating <= 3][df.sentiment==1].count())\n"
     ]
    }
   ],
   "source": [
    "#오차율\n",
    "print(df[df.rating >= 8][df.sentiment==-1].count())\n",
    "print(df[df.rating <= 3][df.sentiment==1].count())\n",
    "\n",
    "print('오차율: ',round((151/6998),2)*100)"
   ]
  },
  {
   "cell_type": "code",
   "execution_count": 43,
   "id": "e8fbed98",
   "metadata": {},
   "outputs": [
    {
     "data": {
      "text/plain": [
       " 1    5465\n",
       "-1    1076\n",
       " 0     457\n",
       "Name: sentiment, dtype: int64"
      ]
     },
     "execution_count": 43,
     "metadata": {},
     "output_type": "execute_result"
    }
   ],
   "source": [
    "df['sentiment'].value_counts()"
   ]
  },
  {
   "cell_type": "code",
   "execution_count": 54,
   "id": "e2e6e95b",
   "metadata": {},
   "outputs": [
    {
     "data": {
      "image/png": "[encoded data removed]",
      "text/plain": [
       "<Figure size 432x288 with 1 Axes>"
      ]
     },
     "metadata": {
      "needs_background": "light"
     },
     "output_type": "display_data"
    }
   ],
   "source": [
    "#감성분석 분포\n",
    "import matplotlib.pyplot as plt\n",
    "import numpy as np\n",
    "\n",
    "plt.rcParams['font.family'] ='Malgun Gothic'\n",
    "\n",
    "x = np.arange(3)\n",
    "\n",
    "pos= 5465\n",
    "neg= 1076\n",
    "neu= 457\n",
    "\n",
    "values=[pos, neg, neu]\n",
    "sent=['긍정','부정','혼합']\n",
    "\n",
    "plt.bar(x, values, color=['indianred','steelblue','darkseagreen'])\n",
    "plt.xticks(x, sent)\n",
    "\n",
    "plt.show()"
   ]
  },
  {
   "cell_type": "code",
   "execution_count": 57,
   "id": "1254570c",
   "metadata": {},
   "outputs": [],
   "source": [
    "def word_fav(word):\n",
    "    tot= 0\n",
    "    pos= 0\n",
    "    neg= 0\n",
    "    for rev in df.review:\n",
    "        if word in rev:\n",
    "            tot += 1\n",
    "            if df[df.review==rev]['sentiment'].mean() == 1:\n",
    "                pos += 1\n",
    "            elif df[df.review==rev]['sentiment'].mean() == -1:\n",
    "                neg += -1  \n",
    "    avg = round((pos + neg)/tot *100, 2)\n",
    "    return [avg, pos, neg, tot]"
   ]
  },
  {
   "cell_type": "code",
   "execution_count": 58,
   "id": "1bd17b89",
   "metadata": {},
   "outputs": [
    {
     "name": "stdout",
     "output_type": "stream",
     "text": [
      "감독을 언급한 리뷰의 호감도 평균 : 69.88\n",
      "감독을 언급한 호감리뷰 수 : 589\n",
      "감독을 언급한 비호감리뷰 수 : 104\n",
      "감독을 언급한 리뷰 수 : 694\n"
     ]
    }
   ],
   "source": [
    "#워드클라우드 기반 키워드별 호감도\n",
    "#감독/봉준호, 현실/사회/장면 등, 배우/연기/송강호 \n",
    "\n",
    "word = '감독'\n",
    "f = word_fav(word)\n",
    "print(f'{word}을 언급한 리뷰의 호감도 평균 :', f[0])\n",
    "print(f'{word}을 언급한 호감리뷰 수 :', f[1])\n",
    "print(f'{word}을 언급한 비호감리뷰 수 :', -f[2])\n",
    "print(f'{word}을 언급한 리뷰 수 :', f[3])"
   ]
  },
  {
   "cell_type": "code",
   "execution_count": 59,
   "id": "487c0140",
   "metadata": {},
   "outputs": [
    {
     "name": "stdout",
     "output_type": "stream",
     "text": [
      "봉준호을 언급한 리뷰의 호감도 평균 : 72.76\n",
      "봉준호을 언급한 호감리뷰 수 : 492\n",
      "봉준호을 언급한 비호감리뷰 수 : 70\n",
      "봉준호을 언급한 리뷰 수 : 580\n"
     ]
    }
   ],
   "source": [
    "word = '봉준호'\n",
    "f = word_fav(word)\n",
    "print(f'{word}을 언급한 리뷰의 호감도 평균 :', f[0])\n",
    "print(f'{word}을 언급한 호감리뷰 수 :', f[1])\n",
    "print(f'{word}을 언급한 비호감리뷰 수 :', -f[2])\n",
    "print(f'{word}을 언급한 리뷰 수 :', f[3])"
   ]
  },
  {
   "cell_type": "code",
   "execution_count": 62,
   "id": "5c23160e",
   "metadata": {},
   "outputs": [
    {
     "name": "stdout",
     "output_type": "stream",
     "text": [
      "현실을 언급한 리뷰의 호감도 평균 : 79.05\n",
      "현실을 언급한 호감리뷰 수 : 358\n",
      "현실을 언급한 비호감리뷰 수 : 41\n",
      "현실을 언급한 리뷰 수 : 401\n"
     ]
    }
   ],
   "source": [
    "word = '현실'\n",
    "f = word_fav(word)\n",
    "print(f'{word}을 언급한 리뷰의 호감도 평균 :', f[0])\n",
    "print(f'{word}을 언급한 호감리뷰 수 :', f[1])\n",
    "print(f'{word}을 언급한 비호감리뷰 수 :', -f[2])\n",
    "print(f'{word}을 언급한 리뷰 수 :', f[3])"
   ]
  },
  {
   "cell_type": "code",
   "execution_count": 63,
   "id": "af2b6226",
   "metadata": {},
   "outputs": [
    {
     "name": "stdout",
     "output_type": "stream",
     "text": [
      "사회을 언급한 리뷰의 호감도 평균 : 72.7\n",
      "사회을 언급한 호감리뷰 수 : 296\n",
      "사회을 언급한 비호감리뷰 수 : 43\n",
      "사회을 언급한 리뷰 수 : 348\n"
     ]
    }
   ],
   "source": [
    "word = '사회'\n",
    "f = word_fav(word)\n",
    "print(f'{word}을 언급한 리뷰의 호감도 평균 :', f[0])\n",
    "print(f'{word}을 언급한 호감리뷰 수 :', f[1])\n",
    "print(f'{word}을 언급한 비호감리뷰 수 :', -f[2])\n",
    "print(f'{word}을 언급한 리뷰 수 :', f[3])"
   ]
  },
  {
   "cell_type": "code",
   "execution_count": 64,
   "id": "3879639a",
   "metadata": {},
   "outputs": [
    {
     "name": "stdout",
     "output_type": "stream",
     "text": [
      "장면을 언급한 리뷰의 호감도 평균 : 62.18\n",
      "장면을 언급한 호감리뷰 수 : 192\n",
      "장면을 언급한 비호감리뷰 수 : 44\n",
      "장면을 언급한 리뷰 수 : 238\n"
     ]
    }
   ],
   "source": [
    "word = '장면'\n",
    "f = word_fav(word)\n",
    "print(f'{word}을 언급한 리뷰의 호감도 평균 :', f[0])\n",
    "print(f'{word}을 언급한 호감리뷰 수 :', f[1])\n",
    "print(f'{word}을 언급한 비호감리뷰 수 :', -f[2])\n",
    "print(f'{word}을 언급한 리뷰 수 :', f[3])"
   ]
  },
  {
   "cell_type": "code",
   "execution_count": 65,
   "id": "5a4de4c2",
   "metadata": {},
   "outputs": [
    {
     "name": "stdout",
     "output_type": "stream",
     "text": [
      "배우을 언급한 리뷰의 호감도 평균 : 73.11\n",
      "배우을 언급한 호감리뷰 수 : 258\n",
      "배우을 언급한 비호감리뷰 수 : 35\n",
      "배우을 언급한 리뷰 수 : 305\n"
     ]
    }
   ],
   "source": [
    "word = '배우'\n",
    "f = word_fav(word)\n",
    "print(f'{word}을 언급한 리뷰의 호감도 평균 :', f[0])\n",
    "print(f'{word}을 언급한 호감리뷰 수 :', f[1])\n",
    "print(f'{word}을 언급한 비호감리뷰 수 :', -f[2])\n",
    "print(f'{word}을 언급한 리뷰 수 :', f[3])"
   ]
  },
  {
   "cell_type": "code",
   "execution_count": 66,
   "id": "8151c077",
   "metadata": {},
   "outputs": [
    {
     "name": "stdout",
     "output_type": "stream",
     "text": [
      "연기을 언급한 리뷰의 호감도 평균 : 70.51\n",
      "연기을 언급한 호감리뷰 수 : 373\n",
      "연기을 언급한 비호감리뷰 수 : 55\n",
      "연기을 언급한 리뷰 수 : 451\n"
     ]
    }
   ],
   "source": [
    "word = '연기'\n",
    "f = word_fav(word)\n",
    "print(f'{word}을 언급한 리뷰의 호감도 평균 :', f[0])\n",
    "print(f'{word}을 언급한 호감리뷰 수 :', f[1])\n",
    "print(f'{word}을 언급한 비호감리뷰 수 :', -f[2])\n",
    "print(f'{word}을 언급한 리뷰 수 :', f[3])"
   ]
  },
  {
   "cell_type": "code",
   "execution_count": 67,
   "id": "a26a6202",
   "metadata": {},
   "outputs": [
    {
     "name": "stdout",
     "output_type": "stream",
     "text": [
      "송강호을 언급한 리뷰의 호감도 평균 : 51.2\n",
      "송강호을 언급한 호감리뷰 수 : 186\n",
      "송강호을 언급한 비호감리뷰 수 : 58\n",
      "송강호을 언급한 리뷰 수 : 250\n"
     ]
    }
   ],
   "source": [
    "word = '송강호'\n",
    "f = word_fav(word)\n",
    "print(f'{word}을 언급한 리뷰의 호감도 평균 :', f[0])\n",
    "print(f'{word}을 언급한 호감리뷰 수 :', f[1])\n",
    "print(f'{word}을 언급한 비호감리뷰 수 :', -f[2])\n",
    "print(f'{word}을 언급한 리뷰 수 :', f[3])"
   ]
  }
 ],
 "metadata": {
  "kernelspec": {
   "display_name": "Python 3 (ipykernel)",
   "language": "python",
   "name": "python3"
  },
  "language_info": {
   "codemirror_mode": {
    "name": "ipython",
    "version": 3
   },
   "file_extension": ".py",
   "mimetype": "text/x-python",
   "name": "python",
   "nbconvert_exporter": "python",
   "pygments_lexer": "ipython3",
   "version": "3.9.12"
  }
 },
 "nbformat": 4,
 "nbformat_minor": 5
}
