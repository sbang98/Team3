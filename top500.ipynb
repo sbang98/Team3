{
 "cells": [
  {
   "cell_type": "code",
   "execution_count": 1,
   "id": "9ad6f7dd",
   "metadata": {},
   "outputs": [],
   "source": [
    "import pandas as pd\n",
    "import numpy as np\n",
    "from konlpy.tag import Okt \n",
    "from collections import Counter \n",
    "from wordcloud import WordCloud,STOPWORDS\n",
    "import matplotlib.pyplot as plt \n",
    "import matplotlib as mp\n",
    "import matplotlib.font_manager as fm\n",
    "\n",
    "# 한국영화진흥위원회\n",
    "\n",
    "df = pd.read_csv('movielist.csv')"
   ]
  },
  {
   "cell_type": "code",
   "execution_count": 2,
   "id": "24147dd9",
   "metadata": {},
   "outputs": [
    {
     "name": "stdout",
     "output_type": "stream",
     "text": [
      "Windows\n"
     ]
    }
   ],
   "source": [
    "# 그래프에 한글 출력\n",
    "\n",
    "import platform\n",
    "\n",
    "print(platform.system()) # 플랫폼 확인\n",
    "\n",
    "# Window\n",
    "if platform.system() == 'Windows':\n",
    "    mp.rc('font', family='Malgun Gothic')\n",
    "elif platform.system() == 'Darwin': # Mac\n",
    "    mp.rc('font', family='AppleGothic')\n",
    "else: #linux\n",
    "    mp.rc('font', family='NanumGothic')\n",
    "\n",
    "# 그래프에 마이너스 표시가 되도록 변경\n",
    "mp.rcParams['axes.unicode_minus'] = False"
   ]
  },
  {
   "cell_type": "code",
   "execution_count": 3,
   "id": "464298ce",
   "metadata": {},
   "outputs": [
    {
     "data": {
      "text/html": [
       "<div>\n",
       "<style scoped>\n",
       "    .dataframe tbody tr th:only-of-type {\n",
       "        vertical-align: middle;\n",
       "    }\n",
       "\n",
       "    .dataframe tbody tr th {\n",
       "        vertical-align: top;\n",
       "    }\n",
       "\n",
       "    .dataframe thead th {\n",
       "        text-align: right;\n",
       "    }\n",
       "</style>\n",
       "<table border=\"1\" class=\"dataframe\">\n",
       "  <thead>\n",
       "    <tr style=\"text-align: right;\">\n",
       "      <th></th>\n",
       "      <th>순위</th>\n",
       "      <th>영화명</th>\n",
       "      <th>감독</th>\n",
       "      <th>출연배우</th>\n",
       "      <th>개봉일</th>\n",
       "      <th>전국관객수</th>\n",
       "      <th>국적</th>\n",
       "      <th>장르</th>\n",
       "      <th>등급</th>\n",
       "      <th>개봉월</th>\n",
       "    </tr>\n",
       "  </thead>\n",
       "  <tbody>\n",
       "    <tr>\n",
       "      <th>0</th>\n",
       "      <td>1</td>\n",
       "      <td>명량</td>\n",
       "      <td>김한민</td>\n",
       "      <td>최민식, 류승룡, 조진웅</td>\n",
       "      <td>2014-07-30</td>\n",
       "      <td>17,613,682</td>\n",
       "      <td>한국</td>\n",
       "      <td>사극</td>\n",
       "      <td>15세이상관람가</td>\n",
       "      <td>7</td>\n",
       "    </tr>\n",
       "    <tr>\n",
       "      <th>1</th>\n",
       "      <td>2</td>\n",
       "      <td>극한직업</td>\n",
       "      <td>이병헌</td>\n",
       "      <td>류승륭, 이하늬, 진선규, 이동휘, 공명</td>\n",
       "      <td>2019-01-23</td>\n",
       "      <td>16,264,944</td>\n",
       "      <td>한국</td>\n",
       "      <td>코미디</td>\n",
       "      <td>15세이상관람가</td>\n",
       "      <td>1</td>\n",
       "    </tr>\n",
       "    <tr>\n",
       "      <th>2</th>\n",
       "      <td>3</td>\n",
       "      <td>신과함께-죄와 벌</td>\n",
       "      <td>김용화</td>\n",
       "      <td>하정우, 차태현, 주지훈, 김향기, 김동욱, 마동석</td>\n",
       "      <td>2017-12-20</td>\n",
       "      <td>14,410,754</td>\n",
       "      <td>한국</td>\n",
       "      <td>판타지</td>\n",
       "      <td>12세이상관람가</td>\n",
       "      <td>12</td>\n",
       "    </tr>\n",
       "    <tr>\n",
       "      <th>3</th>\n",
       "      <td>4</td>\n",
       "      <td>국제시장</td>\n",
       "      <td>윤제균</td>\n",
       "      <td>황정민, 김윤진, 오달수, 정진영</td>\n",
       "      <td>2014-12-17</td>\n",
       "      <td>14,245,998</td>\n",
       "      <td>한국</td>\n",
       "      <td>드라마</td>\n",
       "      <td>12세이상관람가</td>\n",
       "      <td>12</td>\n",
       "    </tr>\n",
       "    <tr>\n",
       "      <th>4</th>\n",
       "      <td>5</td>\n",
       "      <td>어벤져스: 엔드게임</td>\n",
       "      <td>안소니 루소,조 루소</td>\n",
       "      <td>로버트 다우니 주니어, 크리스 에반스, 크리스 헴스워스, 마크 러팔로, 스칼릿 조핸...</td>\n",
       "      <td>2019-04-24</td>\n",
       "      <td>13,934,592</td>\n",
       "      <td>미국</td>\n",
       "      <td>액션</td>\n",
       "      <td>12세이상관람가</td>\n",
       "      <td>4</td>\n",
       "    </tr>\n",
       "    <tr>\n",
       "      <th>...</th>\n",
       "      <td>...</td>\n",
       "      <td>...</td>\n",
       "      <td>...</td>\n",
       "      <td>...</td>\n",
       "      <td>...</td>\n",
       "      <td>...</td>\n",
       "      <td>...</td>\n",
       "      <td>...</td>\n",
       "      <td>...</td>\n",
       "      <td>...</td>\n",
       "    </tr>\n",
       "    <tr>\n",
       "      <th>495</th>\n",
       "      <td>496</td>\n",
       "      <td>나의 PS 파트너</td>\n",
       "      <td>변성현</td>\n",
       "      <td>지성, 김아중</td>\n",
       "      <td>2012-12-06</td>\n",
       "      <td>1,823,116</td>\n",
       "      <td>한국</td>\n",
       "      <td>멜로/로맨스</td>\n",
       "      <td>청소년관람불가</td>\n",
       "      <td>12</td>\n",
       "    </tr>\n",
       "    <tr>\n",
       "      <th>496</th>\n",
       "      <td>497</td>\n",
       "      <td>007 스펙터</td>\n",
       "      <td>샘 멘데스</td>\n",
       "      <td>다니엘 크레이그, 레아 세이두, 크리스토프 왈츠, 모니카 벨루치, 랄프 파인즈, 데...</td>\n",
       "      <td>2015-11-11</td>\n",
       "      <td>1,820,842</td>\n",
       "      <td>영국</td>\n",
       "      <td>액션</td>\n",
       "      <td>15세이상관람가</td>\n",
       "      <td>11</td>\n",
       "    </tr>\n",
       "    <tr>\n",
       "      <th>497</th>\n",
       "      <td>498</td>\n",
       "      <td>캐치 미 이프 유 캔</td>\n",
       "      <td>스티븐 스필버그</td>\n",
       "      <td>레오나르도 디카프리오, 톰 행크스</td>\n",
       "      <td>2003-01-24</td>\n",
       "      <td>1,807,612</td>\n",
       "      <td>미국</td>\n",
       "      <td>드라마</td>\n",
       "      <td>15세이상관람가</td>\n",
       "      <td>1</td>\n",
       "    </tr>\n",
       "    <tr>\n",
       "      <th>498</th>\n",
       "      <td>499</td>\n",
       "      <td>변신</td>\n",
       "      <td>김홍선</td>\n",
       "      <td>배성우, 성동일, 장영남, 김혜준</td>\n",
       "      <td>2019-08-21</td>\n",
       "      <td>1,804,112</td>\n",
       "      <td>한국</td>\n",
       "      <td>공포(호러)</td>\n",
       "      <td>15세이상관람가</td>\n",
       "      <td>8</td>\n",
       "    </tr>\n",
       "    <tr>\n",
       "      <th>499</th>\n",
       "      <td>500</td>\n",
       "      <td>차우</td>\n",
       "      <td>신정원</td>\n",
       "      <td>엄태웅, 정유미, 장항선, 윤제문, 박혁권</td>\n",
       "      <td>2009-07-15</td>\n",
       "      <td>1,799,356</td>\n",
       "      <td>한국</td>\n",
       "      <td>액션</td>\n",
       "      <td>12세이상관람가</td>\n",
       "      <td>7</td>\n",
       "    </tr>\n",
       "  </tbody>\n",
       "</table>\n",
       "<p>500 rows × 10 columns</p>\n",
       "</div>"
      ],
      "text/plain": [
       "      순위          영화명           감독  \\\n",
       "0      1           명량          김한민   \n",
       "1      2         극한직업          이병헌   \n",
       "2      3    신과함께-죄와 벌          김용화   \n",
       "3      4         국제시장          윤제균   \n",
       "4      5   어벤져스: 엔드게임  안소니 루소,조 루소   \n",
       "..   ...          ...          ...   \n",
       "495  496    나의 PS 파트너          변성현   \n",
       "496  497      007 스펙터        샘 멘데스   \n",
       "497  498  캐치 미 이프 유 캔     스티븐 스필버그   \n",
       "498  499           변신          김홍선   \n",
       "499  500           차우          신정원   \n",
       "\n",
       "                                                  출연배우         개봉일  \\\n",
       "0                                        최민식, 류승룡, 조진웅  2014-07-30   \n",
       "1                               류승륭, 이하늬, 진선규, 이동휘, 공명  2019-01-23   \n",
       "2                         하정우, 차태현, 주지훈, 김향기, 김동욱, 마동석  2017-12-20   \n",
       "3                                   황정민, 김윤진, 오달수, 정진영  2014-12-17   \n",
       "4    로버트 다우니 주니어, 크리스 에반스, 크리스 헴스워스, 마크 러팔로, 스칼릿 조핸...  2019-04-24   \n",
       "..                                                 ...         ...   \n",
       "495                                            지성, 김아중  2012-12-06   \n",
       "496  다니엘 크레이그, 레아 세이두, 크리스토프 왈츠, 모니카 벨루치, 랄프 파인즈, 데...  2015-11-11   \n",
       "497                                 레오나르도 디카프리오, 톰 행크스  2003-01-24   \n",
       "498                                 배성우, 성동일, 장영남, 김혜준  2019-08-21   \n",
       "499                            엄태웅, 정유미, 장항선, 윤제문, 박혁권  2009-07-15   \n",
       "\n",
       "          전국관객수  국적      장르        등급  개봉월  \n",
       "0    17,613,682  한국      사극  15세이상관람가    7  \n",
       "1    16,264,944  한국     코미디  15세이상관람가    1  \n",
       "2    14,410,754  한국     판타지  12세이상관람가   12  \n",
       "3    14,245,998  한국     드라마  12세이상관람가   12  \n",
       "4    13,934,592  미국      액션  12세이상관람가    4  \n",
       "..          ...  ..     ...       ...  ...  \n",
       "495   1,823,116  한국  멜로/로맨스   청소년관람불가   12  \n",
       "496   1,820,842  영국      액션  15세이상관람가   11  \n",
       "497   1,807,612  미국     드라마  15세이상관람가    1  \n",
       "498   1,804,112  한국  공포(호러)  15세이상관람가    8  \n",
       "499   1,799,356  한국      액션  12세이상관람가    7  \n",
       "\n",
       "[500 rows x 10 columns]"
      ]
     },
     "execution_count": 3,
     "metadata": {},
     "output_type": "execute_result"
    }
   ],
   "source": [
    "df"
   ]
  },
  {
   "cell_type": "code",
   "execution_count": 4,
   "id": "cd49e3e5",
   "metadata": {},
   "outputs": [],
   "source": [
    "# 범죄도시2, 기생충 데이터 확인\n",
    "is_theroundup = df['영화명']=='범죄도시 2'\n",
    "is_parasite = df['영화명'] == '기생충'\n",
    "\n",
    "theroundup = df[is_theroundup]\n",
    "parasite = df[is_parasite]"
   ]
  },
  {
   "cell_type": "code",
   "execution_count": 5,
   "id": "7026debe",
   "metadata": {},
   "outputs": [
    {
     "data": {
      "text/html": [
       "<div>\n",
       "<style scoped>\n",
       "    .dataframe tbody tr th:only-of-type {\n",
       "        vertical-align: middle;\n",
       "    }\n",
       "\n",
       "    .dataframe tbody tr th {\n",
       "        vertical-align: top;\n",
       "    }\n",
       "\n",
       "    .dataframe thead th {\n",
       "        text-align: right;\n",
       "    }\n",
       "</style>\n",
       "<table border=\"1\" class=\"dataframe\">\n",
       "  <thead>\n",
       "    <tr style=\"text-align: right;\">\n",
       "      <th></th>\n",
       "      <th>순위</th>\n",
       "      <th>영화명</th>\n",
       "      <th>감독</th>\n",
       "      <th>출연배우</th>\n",
       "      <th>개봉일</th>\n",
       "      <th>전국관객수</th>\n",
       "      <th>국적</th>\n",
       "      <th>장르</th>\n",
       "      <th>등급</th>\n",
       "      <th>개봉월</th>\n",
       "    </tr>\n",
       "  </thead>\n",
       "  <tbody>\n",
       "    <tr>\n",
       "      <th>11</th>\n",
       "      <td>12</td>\n",
       "      <td>범죄도시 2</td>\n",
       "      <td>이상용</td>\n",
       "      <td>마동석, 손석구, 최귀화</td>\n",
       "      <td>2022-05-18</td>\n",
       "      <td>12,693,023</td>\n",
       "      <td>한국</td>\n",
       "      <td>범죄</td>\n",
       "      <td>15세이상관람가</td>\n",
       "      <td>5</td>\n",
       "    </tr>\n",
       "  </tbody>\n",
       "</table>\n",
       "</div>"
      ],
      "text/plain": [
       "    순위     영화명   감독           출연배우         개봉일       전국관객수  국적  장르        등급  \\\n",
       "11  12  범죄도시 2  이상용  마동석, 손석구, 최귀화  2022-05-18  12,693,023  한국  범죄  15세이상관람가   \n",
       "\n",
       "    개봉월  \n",
       "11    5  "
      ]
     },
     "execution_count": 5,
     "metadata": {},
     "output_type": "execute_result"
    }
   ],
   "source": [
    "theroundup"
   ]
  },
  {
   "cell_type": "code",
   "execution_count": 6,
   "id": "e5db1af4",
   "metadata": {},
   "outputs": [
    {
     "data": {
      "text/html": [
       "<div>\n",
       "<style scoped>\n",
       "    .dataframe tbody tr th:only-of-type {\n",
       "        vertical-align: middle;\n",
       "    }\n",
       "\n",
       "    .dataframe tbody tr th {\n",
       "        vertical-align: top;\n",
       "    }\n",
       "\n",
       "    .dataframe thead th {\n",
       "        text-align: right;\n",
       "    }\n",
       "</style>\n",
       "<table border=\"1\" class=\"dataframe\">\n",
       "  <thead>\n",
       "    <tr style=\"text-align: right;\">\n",
       "      <th></th>\n",
       "      <th>순위</th>\n",
       "      <th>영화명</th>\n",
       "      <th>감독</th>\n",
       "      <th>출연배우</th>\n",
       "      <th>개봉일</th>\n",
       "      <th>전국관객수</th>\n",
       "      <th>국적</th>\n",
       "      <th>장르</th>\n",
       "      <th>등급</th>\n",
       "      <th>개봉월</th>\n",
       "    </tr>\n",
       "  </thead>\n",
       "  <tbody>\n",
       "    <tr>\n",
       "      <th>24</th>\n",
       "      <td>25</td>\n",
       "      <td>기생충</td>\n",
       "      <td>봉준호</td>\n",
       "      <td>송강호, 이선균, 조여정, 최우식, 박소담</td>\n",
       "      <td>2019-05-30</td>\n",
       "      <td>10,313,086</td>\n",
       "      <td>한국</td>\n",
       "      <td>드라마</td>\n",
       "      <td>15세이상관람가</td>\n",
       "      <td>5</td>\n",
       "    </tr>\n",
       "  </tbody>\n",
       "</table>\n",
       "</div>"
      ],
      "text/plain": [
       "    순위  영화명   감독                     출연배우         개봉일       전국관객수  국적   장르  \\\n",
       "24  25  기생충  봉준호  송강호, 이선균, 조여정, 최우식, 박소담  2019-05-30  10,313,086  한국  드라마   \n",
       "\n",
       "          등급  개봉월  \n",
       "24  15세이상관람가    5  "
      ]
     },
     "execution_count": 6,
     "metadata": {},
     "output_type": "execute_result"
    }
   ],
   "source": [
    "parasite"
   ]
  },
  {
   "cell_type": "code",
   "execution_count": 7,
   "id": "b65e0579",
   "metadata": {},
   "outputs": [
    {
     "data": {
      "text/plain": [
       "액션          147\n",
       "드라마          85\n",
       "코미디          54\n",
       "범죄           38\n",
       "애니메이션        29\n",
       "사극           24\n",
       "SF           22\n",
       "멜로/로맨스       22\n",
       "스릴러          19\n",
       "어드벤처         14\n",
       "판타지          13\n",
       "미스터리         12\n",
       "공포(호러)       11\n",
       "전쟁            5\n",
       "뮤지컬           2\n",
       "서부극(웨스턴)      1\n",
       "가족            1\n",
       "다큐멘터리         1\n",
       "Name: 장르, dtype: int64"
      ]
     },
     "execution_count": 7,
     "metadata": {},
     "output_type": "execute_result"
    }
   ],
   "source": [
    "# 장르 데이터 확인\n",
    "\n",
    "df['장르'].value_counts()"
   ]
  },
  {
   "cell_type": "code",
   "execution_count": 8,
   "id": "9d30f1c6",
   "metadata": {},
   "outputs": [
    {
     "data": {
      "text/plain": [
       "<AxesSubplot:>"
      ]
     },
     "execution_count": 8,
     "metadata": {},
     "output_type": "execute_result"
    },
    {
     "data": {
      "image/png": "[encoded data removed]",
      "text/plain": [
       "<Figure size 720x576 with 1 Axes>"
      ]
     },
     "metadata": {
      "needs_background": "light"
     },
     "output_type": "display_data"
    }
   ],
   "source": [
    "CountGenre = pd.value_counts(df['장르'].values, sort=True)\n",
    "CountGenre.plot.bar()\n",
    "CountGenre.plot.bar(grid=True, figsize=(10,8), fontsize=15)"
   ]
  },
  {
   "cell_type": "code",
   "execution_count": 9,
   "id": "37451cb8",
   "metadata": {},
   "outputs": [
    {
     "data": {
      "text/plain": [
       "15세이상관람가    201\n",
       "12세이상관람가    192\n",
       "청소년관람불가      60\n",
       "전체관람가        47\n",
       "Name: 등급, dtype: int64"
      ]
     },
     "execution_count": 9,
     "metadata": {},
     "output_type": "execute_result"
    }
   ],
   "source": [
    "# 연령별 영화 확인\n",
    "\n",
    "df['등급'].value_counts()"
   ]
  },
  {
   "cell_type": "code",
   "execution_count": 10,
   "id": "d19ca282",
   "metadata": {},
   "outputs": [
    {
     "data": {
      "text/plain": [
       "<AxesSubplot:>"
      ]
     },
     "execution_count": 10,
     "metadata": {},
     "output_type": "execute_result"
    },
    {
     "data": {
      "image/png": "[encoded data removed]",
      "text/plain": [
       "<Figure size 720x576 with 1 Axes>"
      ]
     },
     "metadata": {
      "needs_background": "light"
     },
     "output_type": "display_data"
    }
   ],
   "source": [
    "CountAge = pd.value_counts(df['등급'].values, sort=True)\n",
    "CountAge.plot.bar()\n",
    "CountAge.plot.bar(grid=True, figsize=(10,8), fontsize=15)"
   ]
  },
  {
   "cell_type": "code",
   "execution_count": 11,
   "id": "50ba4833",
   "metadata": {},
   "outputs": [
    {
     "data": {
      "text/plain": [
       "7     70\n",
       "12    59\n",
       "9     48\n",
       "6     48\n",
       "8     46\n",
       "5     46\n",
       "1     41\n",
       "10    33\n",
       "4     29\n",
       "2     29\n",
       "11    28\n",
       "3     23\n",
       "Name: 개봉월, dtype: int64"
      ]
     },
     "execution_count": 11,
     "metadata": {},
     "output_type": "execute_result"
    }
   ],
   "source": [
    "# 개봉월에 따른 흥행영화\n",
    "\n",
    "df['개봉월'].value_counts()"
   ]
  },
  {
   "cell_type": "code",
   "execution_count": 12,
   "id": "614ca2eb",
   "metadata": {},
   "outputs": [
    {
     "data": {
      "text/plain": [
       "<AxesSubplot:>"
      ]
     },
     "execution_count": 12,
     "metadata": {},
     "output_type": "execute_result"
    },
    {
     "data": {
      "image/png": "[encoded data removed]",
      "text/plain": [
       "<Figure size 720x576 with 1 Axes>"
      ]
     },
     "metadata": {
      "needs_background": "light"
     },
     "output_type": "display_data"
    }
   ],
   "source": [
    "# 그래프랑 같이 뉴스기사 첨부\n",
    "# https://sports.donga.com/ent/article/all/20220424/113052406/3\n",
    "\n",
    "CountMonth = pd.value_counts(df['개봉월'].values, sort=True)\n",
    "CountMonth.plot.bar()\n",
    "CountMonth.plot.bar(grid=True, figsize=(10,8), fontsize=15)"
   ]
  },
  {
   "cell_type": "code",
   "execution_count": 13,
   "id": "49e314a4",
   "metadata": {},
   "outputs": [
    {
     "data": {
      "text/plain": [
       "마이클 베이                    6\n",
       "크리스토퍼 놀란                  6\n",
       "강우석                       6\n",
       "류승완                       6\n",
       "데이빗 예이츠                   6\n",
       "                         ..\n",
       "이원태                       1\n",
       "캘리 애스버리,앤드류 아담슨,콘래드 베논    1\n",
       "김호준                       1\n",
       "이언희                       1\n",
       "변성현                       1\n",
       "Name: 감독, Length: 300, dtype: int64"
      ]
     },
     "execution_count": 13,
     "metadata": {},
     "output_type": "execute_result"
    }
   ],
   "source": [
    "# 감독에 따른 흥행영화\n",
    "\n",
    "df['감독'].value_counts()"
   ]
  },
  {
   "cell_type": "code",
   "execution_count": 14,
   "id": "e22d840b",
   "metadata": {},
   "outputs": [],
   "source": [
    "# 기생충감독과 범죄도시2 감독의 다른 흥행작\n",
    "\n",
    "is_theroundup_director = df['감독'] == '이상용'\n",
    "is_parasite_director = df['감독'] == '봉준호'\n",
    "\n",
    "theroundup_director = df[is_theroundup_director]\n",
    "parasite_director = df[is_parasite_director]"
   ]
  },
  {
   "cell_type": "code",
   "execution_count": 15,
   "id": "5231bcba",
   "metadata": {},
   "outputs": [
    {
     "data": {
      "text/html": [
       "<div>\n",
       "<style scoped>\n",
       "    .dataframe tbody tr th:only-of-type {\n",
       "        vertical-align: middle;\n",
       "    }\n",
       "\n",
       "    .dataframe tbody tr th {\n",
       "        vertical-align: top;\n",
       "    }\n",
       "\n",
       "    .dataframe thead th {\n",
       "        text-align: right;\n",
       "    }\n",
       "</style>\n",
       "<table border=\"1\" class=\"dataframe\">\n",
       "  <thead>\n",
       "    <tr style=\"text-align: right;\">\n",
       "      <th></th>\n",
       "      <th>순위</th>\n",
       "      <th>영화명</th>\n",
       "      <th>감독</th>\n",
       "      <th>출연배우</th>\n",
       "      <th>개봉일</th>\n",
       "      <th>전국관객수</th>\n",
       "      <th>국적</th>\n",
       "      <th>장르</th>\n",
       "      <th>등급</th>\n",
       "      <th>개봉월</th>\n",
       "    </tr>\n",
       "  </thead>\n",
       "  <tbody>\n",
       "    <tr>\n",
       "      <th>11</th>\n",
       "      <td>12</td>\n",
       "      <td>범죄도시 2</td>\n",
       "      <td>이상용</td>\n",
       "      <td>마동석, 손석구, 최귀화</td>\n",
       "      <td>2022-05-18</td>\n",
       "      <td>12,693,023</td>\n",
       "      <td>한국</td>\n",
       "      <td>범죄</td>\n",
       "      <td>15세이상관람가</td>\n",
       "      <td>5</td>\n",
       "    </tr>\n",
       "  </tbody>\n",
       "</table>\n",
       "</div>"
      ],
      "text/plain": [
       "    순위     영화명   감독           출연배우         개봉일       전국관객수  국적  장르        등급  \\\n",
       "11  12  범죄도시 2  이상용  마동석, 손석구, 최귀화  2022-05-18  12,693,023  한국  범죄  15세이상관람가   \n",
       "\n",
       "    개봉월  \n",
       "11    5  "
      ]
     },
     "execution_count": 15,
     "metadata": {},
     "output_type": "execute_result"
    }
   ],
   "source": [
    "theroundup_director"
   ]
  },
  {
   "cell_type": "code",
   "execution_count": 16,
   "id": "820ddd0a",
   "metadata": {},
   "outputs": [
    {
     "data": {
      "text/html": [
       "<div>\n",
       "<style scoped>\n",
       "    .dataframe tbody tr th:only-of-type {\n",
       "        vertical-align: middle;\n",
       "    }\n",
       "\n",
       "    .dataframe tbody tr th {\n",
       "        vertical-align: top;\n",
       "    }\n",
       "\n",
       "    .dataframe thead th {\n",
       "        text-align: right;\n",
       "    }\n",
       "</style>\n",
       "<table border=\"1\" class=\"dataframe\">\n",
       "  <thead>\n",
       "    <tr style=\"text-align: right;\">\n",
       "      <th></th>\n",
       "      <th>순위</th>\n",
       "      <th>영화명</th>\n",
       "      <th>감독</th>\n",
       "      <th>출연배우</th>\n",
       "      <th>개봉일</th>\n",
       "      <th>전국관객수</th>\n",
       "      <th>국적</th>\n",
       "      <th>장르</th>\n",
       "      <th>등급</th>\n",
       "      <th>개봉월</th>\n",
       "    </tr>\n",
       "  </thead>\n",
       "  <tbody>\n",
       "    <tr>\n",
       "      <th>7</th>\n",
       "      <td>8</td>\n",
       "      <td>괴물</td>\n",
       "      <td>봉준호</td>\n",
       "      <td>송강호, 변희봉, 박해일, 배두나, 고아성</td>\n",
       "      <td>2006-07-27</td>\n",
       "      <td>13,019,740</td>\n",
       "      <td>한국</td>\n",
       "      <td>SF</td>\n",
       "      <td>12세이상관람가</td>\n",
       "      <td>7</td>\n",
       "    </tr>\n",
       "    <tr>\n",
       "      <th>24</th>\n",
       "      <td>25</td>\n",
       "      <td>기생충</td>\n",
       "      <td>봉준호</td>\n",
       "      <td>송강호, 이선균, 조여정, 최우식, 박소담</td>\n",
       "      <td>2019-05-30</td>\n",
       "      <td>10,313,086</td>\n",
       "      <td>한국</td>\n",
       "      <td>드라마</td>\n",
       "      <td>15세이상관람가</td>\n",
       "      <td>5</td>\n",
       "    </tr>\n",
       "    <tr>\n",
       "      <th>32</th>\n",
       "      <td>33</td>\n",
       "      <td>설국열차</td>\n",
       "      <td>봉준호</td>\n",
       "      <td>크리스 에반스, 송강호, 에드 해리스, 존 허트, 틸다 스윈튼, 제이미 벨</td>\n",
       "      <td>2013-08-01</td>\n",
       "      <td>8,914,845</td>\n",
       "      <td>한국</td>\n",
       "      <td>SF</td>\n",
       "      <td>15세이상관람가</td>\n",
       "      <td>8</td>\n",
       "    </tr>\n",
       "    <tr>\n",
       "      <th>107</th>\n",
       "      <td>108</td>\n",
       "      <td>살인의 추억</td>\n",
       "      <td>봉준호</td>\n",
       "      <td>송강호, 김상경</td>\n",
       "      <td>2003-04-25</td>\n",
       "      <td>5,255,376</td>\n",
       "      <td>한국</td>\n",
       "      <td>스릴러</td>\n",
       "      <td>15세이상관람가</td>\n",
       "      <td>4</td>\n",
       "    </tr>\n",
       "    <tr>\n",
       "      <th>258</th>\n",
       "      <td>259</td>\n",
       "      <td>마더</td>\n",
       "      <td>봉준호</td>\n",
       "      <td>김혜자, 원빈</td>\n",
       "      <td>2009-05-28</td>\n",
       "      <td>3,013,523</td>\n",
       "      <td>한국</td>\n",
       "      <td>드라마</td>\n",
       "      <td>청소년관람불가</td>\n",
       "      <td>5</td>\n",
       "    </tr>\n",
       "  </tbody>\n",
       "</table>\n",
       "</div>"
      ],
      "text/plain": [
       "      순위     영화명   감독                                       출연배우         개봉일  \\\n",
       "7      8      괴물  봉준호                    송강호, 변희봉, 박해일, 배두나, 고아성  2006-07-27   \n",
       "24    25     기생충  봉준호                    송강호, 이선균, 조여정, 최우식, 박소담  2019-05-30   \n",
       "32    33    설국열차  봉준호  크리스 에반스, 송강호, 에드 해리스, 존 허트, 틸다 스윈튼, 제이미 벨  2013-08-01   \n",
       "107  108  살인의 추억  봉준호                                   송강호, 김상경  2003-04-25   \n",
       "258  259      마더  봉준호                                    김혜자, 원빈  2009-05-28   \n",
       "\n",
       "          전국관객수  국적   장르        등급  개봉월  \n",
       "7    13,019,740  한국   SF  12세이상관람가    7  \n",
       "24   10,313,086  한국  드라마  15세이상관람가    5  \n",
       "32    8,914,845  한국   SF  15세이상관람가    8  \n",
       "107   5,255,376  한국  스릴러  15세이상관람가    4  \n",
       "258   3,013,523  한국  드라마   청소년관람불가    5  "
      ]
     },
     "execution_count": 16,
     "metadata": {},
     "output_type": "execute_result"
    }
   ],
   "source": [
    "parasite_director"
   ]
  },
  {
   "cell_type": "code",
   "execution_count": 17,
   "id": "5180ecba",
   "metadata": {},
   "outputs": [
    {
     "data": {
      "text/html": [
       "<div>\n",
       "<style scoped>\n",
       "    .dataframe tbody tr th:only-of-type {\n",
       "        vertical-align: middle;\n",
       "    }\n",
       "\n",
       "    .dataframe tbody tr th {\n",
       "        vertical-align: top;\n",
       "    }\n",
       "\n",
       "    .dataframe thead th {\n",
       "        text-align: right;\n",
       "    }\n",
       "</style>\n",
       "<table border=\"1\" class=\"dataframe\">\n",
       "  <thead>\n",
       "    <tr style=\"text-align: right;\">\n",
       "      <th></th>\n",
       "      <th>순위</th>\n",
       "      <th>영화명</th>\n",
       "      <th>감독</th>\n",
       "      <th>출연배우</th>\n",
       "      <th>개봉일</th>\n",
       "      <th>전국관객수</th>\n",
       "      <th>국적</th>\n",
       "      <th>장르</th>\n",
       "      <th>등급</th>\n",
       "      <th>개봉월</th>\n",
       "    </tr>\n",
       "  </thead>\n",
       "  <tbody>\n",
       "    <tr>\n",
       "      <th>2</th>\n",
       "      <td>3</td>\n",
       "      <td>신과함께-죄와 벌</td>\n",
       "      <td>김용화</td>\n",
       "      <td>하정우, 차태현, 주지훈, 김향기, 김동욱, 마동석</td>\n",
       "      <td>2017-12-20</td>\n",
       "      <td>14,410,754</td>\n",
       "      <td>한국</td>\n",
       "      <td>판타지</td>\n",
       "      <td>12세이상관람가</td>\n",
       "      <td>12</td>\n",
       "    </tr>\n",
       "    <tr>\n",
       "      <th>11</th>\n",
       "      <td>12</td>\n",
       "      <td>범죄도시 2</td>\n",
       "      <td>이상용</td>\n",
       "      <td>마동석, 손석구, 최귀화</td>\n",
       "      <td>2022-05-18</td>\n",
       "      <td>12,693,023</td>\n",
       "      <td>한국</td>\n",
       "      <td>범죄</td>\n",
       "      <td>15세이상관람가</td>\n",
       "      <td>5</td>\n",
       "    </tr>\n",
       "    <tr>\n",
       "      <th>15</th>\n",
       "      <td>16</td>\n",
       "      <td>신과함께-인과 연</td>\n",
       "      <td>김용화</td>\n",
       "      <td>하정우, 주지훈, 김향기, 김동욱, 마동석</td>\n",
       "      <td>2018-08-01</td>\n",
       "      <td>12,253,247</td>\n",
       "      <td>한국</td>\n",
       "      <td>판타지</td>\n",
       "      <td>12세이상관람가</td>\n",
       "      <td>8</td>\n",
       "    </tr>\n",
       "    <tr>\n",
       "      <th>18</th>\n",
       "      <td>19</td>\n",
       "      <td>부산행</td>\n",
       "      <td>연상호</td>\n",
       "      <td>공유, 정유미, 마동석, 김수안, 김의성, 최우식, 안소희</td>\n",
       "      <td>2016-07-20</td>\n",
       "      <td>11,565,078</td>\n",
       "      <td>한국</td>\n",
       "      <td>액션</td>\n",
       "      <td>15세이상관람가</td>\n",
       "      <td>7</td>\n",
       "    </tr>\n",
       "    <tr>\n",
       "      <th>38</th>\n",
       "      <td>39</td>\n",
       "      <td>백두산</td>\n",
       "      <td>이해준,김병서</td>\n",
       "      <td>이병헌, 하정우, 마동석, 전혜진, 수지</td>\n",
       "      <td>2019-12-19</td>\n",
       "      <td>8,252,669</td>\n",
       "      <td>한국</td>\n",
       "      <td>어드벤처</td>\n",
       "      <td>12세이상관람가</td>\n",
       "      <td>12</td>\n",
       "    </tr>\n",
       "    <tr>\n",
       "      <th>66</th>\n",
       "      <td>67</td>\n",
       "      <td>범죄도시</td>\n",
       "      <td>강윤성</td>\n",
       "      <td>마동석, 윤계상</td>\n",
       "      <td>2017-10-03</td>\n",
       "      <td>6,851,297</td>\n",
       "      <td>한국</td>\n",
       "      <td>범죄</td>\n",
       "      <td>청소년관람불가</td>\n",
       "      <td>10</td>\n",
       "    </tr>\n",
       "    <tr>\n",
       "      <th>143</th>\n",
       "      <td>144</td>\n",
       "      <td>나쁜 녀석들: 더 무비</td>\n",
       "      <td>손용호</td>\n",
       "      <td>마동석, 김상중, 김아중, 장기용</td>\n",
       "      <td>2019-09-11</td>\n",
       "      <td>4,573,902</td>\n",
       "      <td>한국</td>\n",
       "      <td>범죄</td>\n",
       "      <td>15세이상관람가</td>\n",
       "      <td>9</td>\n",
       "    </tr>\n",
       "    <tr>\n",
       "      <th>221</th>\n",
       "      <td>222</td>\n",
       "      <td>악인전</td>\n",
       "      <td>이원태</td>\n",
       "      <td>마동석, 김무열, 김성규</td>\n",
       "      <td>2019-05-15</td>\n",
       "      <td>3,364,079</td>\n",
       "      <td>한국</td>\n",
       "      <td>범죄</td>\n",
       "      <td>청소년관람불가</td>\n",
       "      <td>5</td>\n",
       "    </tr>\n",
       "    <tr>\n",
       "      <th>225</th>\n",
       "      <td>226</td>\n",
       "      <td>시동</td>\n",
       "      <td>최정열</td>\n",
       "      <td>마동석, 박정민, 정해인, 염정아, 최성은</td>\n",
       "      <td>2019-12-18</td>\n",
       "      <td>3,317,038</td>\n",
       "      <td>한국</td>\n",
       "      <td>드라마</td>\n",
       "      <td>15세이상관람가</td>\n",
       "      <td>12</td>\n",
       "    </tr>\n",
       "    <tr>\n",
       "      <th>252</th>\n",
       "      <td>253</td>\n",
       "      <td>이터널스</td>\n",
       "      <td>클로이 자오</td>\n",
       "      <td>안젤리나 졸리, 마동석, 리차드 매든, 쿠마일 난지아니, 셀마 헤이엑, 젬마 찬</td>\n",
       "      <td>2021-11-03</td>\n",
       "      <td>3,049,688</td>\n",
       "      <td>미국</td>\n",
       "      <td>액션</td>\n",
       "      <td>12세이상관람가</td>\n",
       "      <td>11</td>\n",
       "    </tr>\n",
       "    <tr>\n",
       "      <th>346</th>\n",
       "      <td>347</td>\n",
       "      <td>이웃사람</td>\n",
       "      <td>김휘</td>\n",
       "      <td>김윤진, 마동석, 천호진, 김성균, 김새론, 임하룡, 장영남, 도지한</td>\n",
       "      <td>2012-08-22</td>\n",
       "      <td>2,434,099</td>\n",
       "      <td>한국</td>\n",
       "      <td>스릴러</td>\n",
       "      <td>청소년관람불가</td>\n",
       "      <td>8</td>\n",
       "    </tr>\n",
       "    <tr>\n",
       "      <th>403</th>\n",
       "      <td>404</td>\n",
       "      <td>악의 연대기</td>\n",
       "      <td>백운학</td>\n",
       "      <td>손현주, 마동석, 최다니엘, 박서준</td>\n",
       "      <td>2015-05-14</td>\n",
       "      <td>2,192,243</td>\n",
       "      <td>한국</td>\n",
       "      <td>스릴러</td>\n",
       "      <td>15세이상관람가</td>\n",
       "      <td>5</td>\n",
       "    </tr>\n",
       "    <tr>\n",
       "      <th>422</th>\n",
       "      <td>423</td>\n",
       "      <td>굿바이 싱글</td>\n",
       "      <td>김태곤</td>\n",
       "      <td>김혜수, 마동석, 김현수</td>\n",
       "      <td>2016-06-29</td>\n",
       "      <td>2,108,273</td>\n",
       "      <td>한국</td>\n",
       "      <td>코미디</td>\n",
       "      <td>15세이상관람가</td>\n",
       "      <td>6</td>\n",
       "    </tr>\n",
       "  </tbody>\n",
       "</table>\n",
       "</div>"
      ],
      "text/plain": [
       "      순위           영화명       감독                                          출연배우  \\\n",
       "2      3     신과함께-죄와 벌      김용화                  하정우, 차태현, 주지훈, 김향기, 김동욱, 마동석   \n",
       "11    12        범죄도시 2      이상용                                 마동석, 손석구, 최귀화   \n",
       "15    16     신과함께-인과 연      김용화                       하정우, 주지훈, 김향기, 김동욱, 마동석   \n",
       "18    19           부산행      연상호              공유, 정유미, 마동석, 김수안, 김의성, 최우식, 안소희   \n",
       "38    39           백두산  이해준,김병서                        이병헌, 하정우, 마동석, 전혜진, 수지   \n",
       "66    67          범죄도시      강윤성                                      마동석, 윤계상   \n",
       "143  144  나쁜 녀석들: 더 무비      손용호                            마동석, 김상중, 김아중, 장기용   \n",
       "221  222           악인전      이원태                                 마동석, 김무열, 김성규   \n",
       "225  226            시동      최정열                       마동석, 박정민, 정해인, 염정아, 최성은   \n",
       "252  253          이터널스   클로이 자오  안젤리나 졸리, 마동석, 리차드 매든, 쿠마일 난지아니, 셀마 헤이엑, 젬마 찬   \n",
       "346  347          이웃사람       김휘        김윤진, 마동석, 천호진, 김성균, 김새론, 임하룡, 장영남, 도지한   \n",
       "403  404        악의 연대기      백운학                           손현주, 마동석, 최다니엘, 박서준   \n",
       "422  423        굿바이 싱글      김태곤                                 김혜수, 마동석, 김현수   \n",
       "\n",
       "            개봉일       전국관객수  국적    장르        등급  개봉월  \n",
       "2    2017-12-20  14,410,754  한국   판타지  12세이상관람가   12  \n",
       "11   2022-05-18  12,693,023  한국    범죄  15세이상관람가    5  \n",
       "15   2018-08-01  12,253,247  한국   판타지  12세이상관람가    8  \n",
       "18   2016-07-20  11,565,078  한국    액션  15세이상관람가    7  \n",
       "38   2019-12-19   8,252,669  한국  어드벤처  12세이상관람가   12  \n",
       "66   2017-10-03   6,851,297  한국    범죄   청소년관람불가   10  \n",
       "143  2019-09-11   4,573,902  한국    범죄  15세이상관람가    9  \n",
       "221  2019-05-15   3,364,079  한국    범죄   청소년관람불가    5  \n",
       "225  2019-12-18   3,317,038  한국   드라마  15세이상관람가   12  \n",
       "252  2021-11-03   3,049,688  미국    액션  12세이상관람가   11  \n",
       "346  2012-08-22   2,434,099  한국   스릴러   청소년관람불가    8  \n",
       "403  2015-05-14   2,192,243  한국   스릴러  15세이상관람가    5  \n",
       "422  2016-06-29   2,108,273  한국   코미디  15세이상관람가    6  "
      ]
     },
     "execution_count": 17,
     "metadata": {},
     "output_type": "execute_result"
    }
   ],
   "source": [
    "# 배우 마동석의 다른 흥행작\n",
    "\n",
    "df[df['출연배우'].str.contains('마동석')]"
   ]
  },
  {
   "cell_type": "code",
   "execution_count": 18,
   "id": "13c3d380",
   "metadata": {},
   "outputs": [
    {
     "data": {
      "text/plain": [
       "한국     282\n",
       "미국     209\n",
       "일본       2\n",
       "영국       2\n",
       "중국       2\n",
       "프랑스      2\n",
       "Name: 국적, dtype: int64"
      ]
     },
     "execution_count": 18,
     "metadata": {},
     "output_type": "execute_result"
    }
   ],
   "source": [
    "# 한국영화/해외영화의 흥행\n",
    "\n",
    "df['국적'].value_counts()"
   ]
  },
  {
   "cell_type": "code",
   "execution_count": 19,
   "id": "cbd4701c",
   "metadata": {},
   "outputs": [
    {
     "data": {
      "text/plain": [
       "<AxesSubplot:>"
      ]
     },
     "execution_count": 19,
     "metadata": {},
     "output_type": "execute_result"
    },
    {
     "data": {
      "image/png": "[encoded data removed]",
      "text/plain": [
       "<Figure size 720x576 with 1 Axes>"
      ]
     },
     "metadata": {
      "needs_background": "light"
     },
     "output_type": "display_data"
    }
   ],
   "source": [
    "CountCountry = pd.value_counts(df['국적'].values, sort=True)\n",
    "CountCountry.plot.bar()\n",
    "CountCountry.plot.bar(grid=True, figsize=(10,8), fontsize=15)"
   ]
  },
  {
   "cell_type": "code",
   "execution_count": null,
   "id": "9922e9b0",
   "metadata": {},
   "outputs": [],
   "source": []
  }
 ],
 "metadata": {
  "kernelspec": {
   "display_name": "Python 3 (ipykernel)",
   "language": "python",
   "name": "python3"
  },
  "language_info": {
   "codemirror_mode": {
    "name": "ipython",
    "version": 3
   },
   "file_extension": ".py",
   "mimetype": "text/x-python",
   "name": "python",
   "nbconvert_exporter": "python",
   "pygments_lexer": "ipython3",
   "version": "3.9.12"
  }
 },
 "nbformat": 4,
 "nbformat_minor": 5
}
