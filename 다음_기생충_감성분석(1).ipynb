{
 "cells": [
  {
   "cell_type": "code",
   "execution_count": 143,
   "id": "2491a49c",
   "metadata": {},
   "outputs": [],
   "source": [
    "from konlpy.tag import Okt\n",
    "import pandas as pd\n",
    "import re\n",
    "from collections import Counter\n",
    "\n",
    "df= pd.read_csv('다음관객.csv')\n",
    "\n",
    "df['sentiment']=0\n",
    "df.loc[df['rating']==10, 'sentiment']=1\n",
    "df.loc[df['rating']<=2, 'sentiment']=-1"
   ]
  },
  {
   "cell_type": "code",
   "execution_count": 149,
   "id": "eb419fba",
   "metadata": {},
   "outputs": [
    {
     "data": {
      "text/html": [
       "<div>\n",
       "<style scoped>\n",
       "    .dataframe tbody tr th:only-of-type {\n",
       "        vertical-align: middle;\n",
       "    }\n",
       "\n",
       "    .dataframe tbody tr th {\n",
       "        vertical-align: top;\n",
       "    }\n",
       "\n",
       "    .dataframe thead th {\n",
       "        text-align: right;\n",
       "    }\n",
       "</style>\n",
       "<table border=\"1\" class=\"dataframe\">\n",
       "  <thead>\n",
       "    <tr style=\"text-align: right;\">\n",
       "      <th></th>\n",
       "      <th>rating</th>\n",
       "      <th>review</th>\n",
       "      <th>sentiment</th>\n",
       "    </tr>\n",
       "  </thead>\n",
       "  <tbody>\n",
       "    <tr>\n",
       "      <th>0</th>\n",
       "      <td>10</td>\n",
       "      <td>현재는시골에서  열댓마리 강아지와 살고있다. 서울서는  지하에 내리 살았어서 그 냄...</td>\n",
       "      <td>1</td>\n",
       "    </tr>\n",
       "    <tr>\n",
       "      <th>1</th>\n",
       "      <td>9</td>\n",
       "      <td>유럽 친구가 내 의견 궁금하다고 꼭 봐 보래서 구입해서 봐 봤는데\\n송강호가 이선균...</td>\n",
       "      <td>0</td>\n",
       "    </tr>\n",
       "    <tr>\n",
       "      <th>2</th>\n",
       "      <td>10</td>\n",
       "      <td>기분이 나빠진다.\\n김선균에게 이입하고 싶지만 송강호인 현실이 슬프다.</td>\n",
       "      <td>1</td>\n",
       "    </tr>\n",
       "    <tr>\n",
       "      <th>3</th>\n",
       "      <td>10</td>\n",
       "      <td>시대의 명작. 평점이 낮은 이유는 저급한 댓글알바들과 봉준호를 싫어하는 ♪♬들이 여...</td>\n",
       "      <td>1</td>\n",
       "    </tr>\n",
       "    <tr>\n",
       "      <th>4</th>\n",
       "      <td>10</td>\n",
       "      <td>몇번이나 다시봐도 진짜 명작입니다</td>\n",
       "      <td>1</td>\n",
       "    </tr>\n",
       "    <tr>\n",
       "      <th>...</th>\n",
       "      <td>...</td>\n",
       "      <td>...</td>\n",
       "      <td>...</td>\n",
       "    </tr>\n",
       "    <tr>\n",
       "      <th>8655</th>\n",
       "      <td>1</td>\n",
       "      <td>평점이 좋은 이유를 모르겠네요. ㅎ\\n영화보는 눈이 아둔해서 그런가\\n무슨 메시지를...</td>\n",
       "      <td>-1</td>\n",
       "    </tr>\n",
       "    <tr>\n",
       "      <th>8656</th>\n",
       "      <td>1</td>\n",
       "      <td>이런게 영화면 성냥팔이 소녀의 재림은 신화다 ㅋ</td>\n",
       "      <td>-1</td>\n",
       "    </tr>\n",
       "    <tr>\n",
       "      <th>8657</th>\n",
       "      <td>2</td>\n",
       "      <td>별점 1점도 아깝다\\n어떤 사람이 이 영화를 봤는데 처음에는 재미 있었지만 나중에는...</td>\n",
       "      <td>-1</td>\n",
       "    </tr>\n",
       "    <tr>\n",
       "      <th>8658</th>\n",
       "      <td>10</td>\n",
       "      <td>좌파폭도고발영화.전라도까는 내용이었어.</td>\n",
       "      <td>1</td>\n",
       "    </tr>\n",
       "    <tr>\n",
       "      <th>8659</th>\n",
       "      <td>1</td>\n",
       "      <td>너무\\n없이사는 사람들 비하 아닌가?\\n넷플서 드디어 봤는데\\n진짜 불쾌하네\\n봉감...</td>\n",
       "      <td>-1</td>\n",
       "    </tr>\n",
       "  </tbody>\n",
       "</table>\n",
       "<p>6998 rows × 3 columns</p>\n",
       "</div>"
      ],
      "text/plain": [
       "      rating                                             review  sentiment\n",
       "0         10  현재는시골에서  열댓마리 강아지와 살고있다. 서울서는  지하에 내리 살았어서 그 냄...          1\n",
       "1          9  유럽 친구가 내 의견 궁금하다고 꼭 봐 보래서 구입해서 봐 봤는데\\n송강호가 이선균...          0\n",
       "2         10            기분이 나빠진다.\\n김선균에게 이입하고 싶지만 송강호인 현실이 슬프다.          1\n",
       "3         10  시대의 명작. 평점이 낮은 이유는 저급한 댓글알바들과 봉준호를 싫어하는 ♪♬들이 여...          1\n",
       "4         10                                 몇번이나 다시봐도 진짜 명작입니다          1\n",
       "...      ...                                                ...        ...\n",
       "8655       1  평점이 좋은 이유를 모르겠네요. ㅎ\\n영화보는 눈이 아둔해서 그런가\\n무슨 메시지를...         -1\n",
       "8656       1                         이런게 영화면 성냥팔이 소녀의 재림은 신화다 ㅋ         -1\n",
       "8657       2  별점 1점도 아깝다\\n어떤 사람이 이 영화를 봤는데 처음에는 재미 있었지만 나중에는...         -1\n",
       "8658      10                              좌파폭도고발영화.전라도까는 내용이었어.          1\n",
       "8659       1  너무\\n없이사는 사람들 비하 아닌가?\\n넷플서 드디어 봤는데\\n진짜 불쾌하네\\n봉감...         -1\n",
       "\n",
       "[6998 rows x 3 columns]"
      ]
     },
     "execution_count": 149,
     "metadata": {},
     "output_type": "execute_result"
    }
   ],
   "source": [
    "#리뷰가 없는 데이터 제거\n",
    "df= df[df['review'] != 'no review']\n",
    "df"
   ]
  },
  {
   "cell_type": "code",
   "execution_count": 152,
   "id": "f067ce50",
   "metadata": {},
   "outputs": [],
   "source": [
    "#10점인 review는 pos, 5점 이하인 review는 neg\n",
    "from hanspell import spell_checker\n",
    "okt= Okt()\n",
    "stop_words= ['에','와','가','의','은','는','이다','이','가','로','을','으로','를','들']\n",
    "\n",
    "pos_wrds= []\n",
    "neg_wrds= []\n",
    "\n",
    "for pos in df[df['sentiment']==1]['review'].to_list():\n",
    "    npos= re.sub('[^ㄱ-ㅎㅏ-ㅣ가-힣 ]','',pos)\n",
    "    spelled_sent= spell_checker.check(npos)\n",
    "    han_pos= spelled_sent.checked\n",
    "    wrd_list= okt.pos(han_pos,stem=True)\n",
    "    for wrd,tag in wrd_list:\n",
    "        if wrd not in stop_words and tag in ['Adverb','Adjective','Noun'] and len(wrd)>1:\n",
    "            pos_wrds.append(wrd)\n",
    "            \n",
    "for neg in df[df['rating'] <= 5]['review'].to_list():\n",
    "    new_neg= re.sub('[^ㄱ-ㅎㅏ-ㅣ가-힣 ]','',neg)\n",
    "    spelled_sent= spell_checker.check(new_neg)\n",
    "    han_neg= spelled_sent.checked\n",
    "    wrd_list= okt.pos(han_neg,stem=True)\n",
    "    for wrd,tag in wrd_list:\n",
    "        if wrd not in stop_words and tag in ['Adverb','Adjective','Noun'] and len(wrd)>1:\n",
    "            neg_wrds.append(wrd)"
   ]
  },
  {
   "cell_type": "code",
   "execution_count": 153,
   "id": "4fe4b1ff",
   "metadata": {},
   "outputs": [
    {
     "name": "stdout",
     "output_type": "stream",
     "text": [
      "{'영화': 1994, '있다': 645, '생각': 435, '감독': 397, '없다': 386, '봉준호': 360, '최고': 342, '보고': 310, '좋다': 289, '너무': 276, '기생충': 259, '재밌다': 259, '같다': 240, '사람': 225, '현실': 212, '작품': 200, '정말': 198, '아니다': 186, '연기': 180, '많다': 175, '배우': 166, '사회': 164, '역시': 145, '한국': 143, '평점': 132, '축하': 129, '시간': 124, '재미있다': 122, '우리': 120, '장면': 120, '다시': 116, '그렇다': 113, '하나': 113, '여운': 112, '이렇다': 110, '불편하다': 104, '냄새': 103, '송강호': 97, '인간': 97, '슬프다': 96, '모두': 94, '재미': 93, '스토리': 89, '계속': 87, '천재': 84, '많이': 80, '몰입': 79, '어떻다': 78, '기대': 77, '대단하다': 75, '진짜': 74, '씁쓸하다': 73, '메시지': 71, '모든': 70, '이해': 69, '내용': 69, '느낌': 68, '세계': 68, '마음': 66, '의미': 66, '그냥': 65, '내내': 65, '정도': 64, '표현': 62, '훌륭하다': 61, '이야기': 61, '없이': 60, '가족': 60, '가지': 59, '계획': 58, '황금종려상': 58, '처음': 57, '아카데미': 57, '연출': 55, '마지막': 54, '인생': 53, '완벽하다': 53, '관객': 52, '다른': 51, '대한': 51, '가슴': 50, '시나리오': 47, '대박': 47, '명작': 46, '충격': 46, '깊다': 45, '반전': 45, '부자': 45, '이렇게': 45, '기생': 45, '여러': 44, '세상': 44, '소름': 43, '자랑스럽다': 43, '오늘': 42, '계급': 42, '자본주의': 42, '수상': 42, '때문': 41, '전개': 41}\n",
      "\n",
      "\n",
      "{'영화': 975, '없다': 342, '있다': 215, '아니다': 202, '사람': 187, '같다': 185, '너무': 176, '기생충': 175, '감독': 137, '보고': 135, '생각': 121, '그렇다': 111, '가족': 101, '좋다': 99, '이렇다': 98, '별로': 94, '내용': 92, '봉준호': 92, '그냥': 89, '기분': 89, '가난하다': 86, '아깝다': 80, '이해': 80, '불편하다': 76, '장면': 70, '재미없다': 69, '부자': 69, '연기': 64, '느낌': 63, '송강호': 62, '정말': 62, '스토리': 62, '기대': 59, '설정': 58, '많다': 57, '작품': 56, '실망': 54, '시간': 53, '사회': 51, '살인': 51, '어떻다': 51, '재미': 50, '중간': 50, '진짜': 50, '수준': 49, '전개': 49, '배우': 44, '잔인하다': 43, '보기': 42, '관람': 42, '내내': 41, '한국': 41, '현실': 40, '우리': 40, '인간': 40, '솔직하다': 39, '쓰레기': 39, '더럽다': 39, '메시지': 38, '하나': 38, '의미': 37, '관객': 37, '정도': 36, '때문': 36, '황금종려상': 36, '부분': 34, '냄새': 34, '평점': 33, '억지': 33, '많이': 33, '나쁘다': 32, '영화제': 32, '감동': 32, '결말': 32, '재밌다': 32, '찝찝하다': 32, '무슨': 31, '억지스럽다': 31, '최악': 31, '공감': 30, '안되다': 30, '그다지': 29, '이상하다': 29, '기생': 28, '의도': 28, '보지': 28, '개연': 28, '대한': 28, '같이': 28, '마지막': 27, '그렇게': 27, '뭔가': 27, '기대하다': 27, '이유': 27, '모두': 27, '없이': 27, '재미있다': 27, '다른': 26, '처음': 26, '개인': 25}\n"
     ]
    }
   ],
   "source": [
    "c=Counter(pos_wrds)\n",
    "cm = dict(c.most_common(100))\n",
    "print(cm)\n",
    "print(\"\\n\")\n",
    "\n",
    "c=Counter(neg_wrds)\n",
    "cm = dict(c.most_common(100))\n",
    "print(cm)"
   ]
  },
  {
   "cell_type": "code",
   "execution_count": 165,
   "id": "1cec9690",
   "metadata": {},
   "outputs": [],
   "source": [
    "from hanspell import spell_checker\n",
    "pos_list= ['최고','재밌다','축하','재미있다','여운','몰입','대단하다','훌륭하다','완벽하다','대박','명작','자랑스럽다','소름','자랑','완벽','훌륭']\n",
    "neg_list= ['별로','아깝다','재미없다','실망','쓰레기','억지','나쁘다','억지스럽다','최악','그다지','이상하다']\n",
    "\n",
    "for rev in df[df['sentiment']==0]['review'].to_list():\n",
    "    nrev= re.sub('[^ㄱ-ㅎㅏ-ㅣ가-힣 ]','',rev)\n",
    "    spelled_sent= spell_checker.check(nrev)\n",
    "    han_pos= spelled_sent.checked\n",
    "    wrd_list= okt.morphs(han_pos,stem=True)\n",
    "    pos_cnt= 0\n",
    "    neg_cnt= 0\n",
    "    for wrd in wrd_list:\n",
    "        if wrd in pos_list:\n",
    "            pos_cnt += 1\n",
    "        elif wrd in neg_list:\n",
    "            neg_cnt += 1\n",
    "    if pos_cnt > neg_cnt:\n",
    "        df.loc[df.review==rev, 'sentiment']= 1\n",
    "    elif neg_cnt > pos_cnt:\n",
    "        df.loc[df.review==rev, 'sentiment']=-1"
   ]
  },
  {
   "cell_type": "code",
   "execution_count": 166,
   "id": "38adeb67",
   "metadata": {},
   "outputs": [
    {
     "data": {
      "text/plain": [
       "rating       1948\n",
       "review       1948\n",
       "sentiment    1948\n",
       "dtype: int64"
      ]
     },
     "execution_count": 166,
     "metadata": {},
     "output_type": "execute_result"
    }
   ],
   "source": [
    "df[df.sentiment==0].count()"
   ]
  },
  {
   "cell_type": "code",
   "execution_count": 168,
   "id": "c3fbbce6",
   "metadata": {},
   "outputs": [
    {
     "name": "stdout",
     "output_type": "stream",
     "text": [
      "{'하다': 1443, '영화': 1150, '보다': 554, '있다': 460, '없다': 329, '되다': 322, '생각': 263, '않다': 257, '기생충': 233, '아니다': 224, '자다': 221, '같다': 219, '에서': 215, '사람': 195, '좋다': 195, '감독': 175, '보고': 166, '너무': 154, '현실': 144, '받다': 134, '사회': 133, '싶다': 129, '봉준호': 127, '그렇다': 126, '만들다': 125, '가족': 115, '불편하다': 114, '들다': 108, '느낌': 103, '하고': 102, '그냥': 102, '연기': 101, '냄새': 100, '가다': 99, '장면': 91, '많다': 91, '살다': 90, '나오다': 89, '에게': 85, '가난하다': 83, '모르다': 81, '나다': 80, '우리': 78, '송강호': 76, '재미': 76, '이해': 74, '작품': 71, '주다': 71, '스토리': 69, '인간': 69, '내용': 68, '이렇다': 66, '배우': 66, '먹다': 65, '보여주다': 62, '씁쓸하다': 61, '마지막': 61, '부자': 61, '그리고': 61, '까지': 60, '이고': 60, '시간': 59, '정말': 59, '느끼다': 59, '메시지': 57, '대한': 56, '기생': 56, '다른': 55, '하나': 55, '기대': 53, '모습': 53, '한국': 52, '역시': 52, '모두': 52, '부분': 52, '처럼': 50, '정도': 50, '많이': 50, '표현': 49, '오다': 49, '기분': 49, '뭔가': 49, '전개': 49, '평점': 48, '설정': 48, '인가': 48, '되어다': 48, '맞다': 48, '내내': 48, '어떻다': 48, '살인': 47, '자본주의': 47, '계층': 46, '관람': 46, '찝찝하다': 46, '라는': 45, '보이다': 45, '다시': 44, '의미': 44, '슬프다': 43}\n"
     ]
    }
   ],
   "source": [
    "from hanspell import spell_checker\n",
    "\n",
    "cm_wrd=[]\n",
    "\n",
    "for rev in df[df['sentiment']==0]['review'].to_list():\n",
    "    nrev= re.sub('[^ㄱ-ㅎㅏ-ㅣ가-힣 ]','',rev)\n",
    "    spelled_sent= spell_checker.check(nrev)\n",
    "    han_pos= spelled_sent.checked\n",
    "    wrd_list= okt.morphs(han_pos,stem=True)\n",
    "    for wrd in wrd_list:\n",
    "        if wrd not in stop_words and len(wrd)>1:\n",
    "            cm_wrd.append(wrd)\n",
    "\n",
    "c=Counter(cm_wrd)\n",
    "cm = dict(c.most_common(100))\n",
    "print(cm)"
   ]
  },
  {
   "cell_type": "code",
   "execution_count": 172,
   "id": "8d75fe3e",
   "metadata": {},
   "outputs": [],
   "source": [
    "#별점 기준 데이터 선별\n",
    "from hanspell import spell_checker\n",
    "\n",
    "for rev in df[df['sentiment']==0]['review'].to_list():\n",
    "    nrev= re.sub('[^ㄱ-ㅎㅏ-ㅣ가-힣 ]','',rev)\n",
    "    spelled_sent= spell_checker.check(nrev)\n",
    "    han_pos= spelled_sent.checked\n",
    "    wrd_list= okt.morphs(han_pos,stem=True)\n",
    "    if '하다' in wrd_list or '영화' in wrd_list or '보다' in wrd_list or '있다' in wrd_list or '없다' in wrd_list or '되다' in wrd_list or '생각' in wrd_list and df[df['review']==rev]['rating'].mean() >= 8:\n",
    "        df.loc[df.review==rev, 'sentiment']= 1\n",
    "    elif '하다' in wrd_list or '영화' in wrd_list or '보다' in wrd_list or '있다' in wrd_list or '없다' in wrd_list or '되다' in wrd_list or '생각' in wrd_list and df[df['review']==rev]['rating'].mean() <= 5:\n",
    "        df.loc[df.review==rev, 'sentiment']= -1\n",
    "    elif '않다' in wrd_list or '아니다' in wrd_list or '같다' in wrd_list or '기생충' in wrd_list or '사람' in wrd_list or '감독' in wrd_list or '현실' in wrd_list and df[df['review']==rev]['rating'].mean() >= 8:\n",
    "        df.loc[df.review==rev, 'sentiment']=1\n",
    "    elif '않다' in wrd_list or '아니다' in wrd_list or '같다' in wrd_list or '기생충' in wrd_list or '사람' in wrd_list or '감독' in wrd_list or '현실' in wrd_list and df[df['review']==rev]['rating'].mean() <= 5:\n",
    "        df.loc[df.review==rev, 'sentiment']=-1"
   ]
  },
  {
   "cell_type": "code",
   "execution_count": 173,
   "id": "088c39ab",
   "metadata": {},
   "outputs": [
    {
     "data": {
      "text/plain": [
       "rating       457\n",
       "review       457\n",
       "sentiment    457\n",
       "dtype: int64"
      ]
     },
     "execution_count": 173,
     "metadata": {},
     "output_type": "execute_result"
    }
   ],
   "source": [
    "df[df.sentiment==0].count()"
   ]
  },
  {
   "cell_type": "code",
   "execution_count": 175,
   "id": "4fff70aa",
   "metadata": {},
   "outputs": [],
   "source": [
    "df.to_csv(\"다음관객_수정.csv\")"
   ]
  }
 ],
 "metadata": {
  "kernelspec": {
   "display_name": "Python 3 (ipykernel)",
   "language": "python",
   "name": "python3"
  },
  "language_info": {
   "codemirror_mode": {
    "name": "ipython",
    "version": 3
   },
   "file_extension": ".py",
   "mimetype": "text/x-python",
   "name": "python",
   "nbconvert_exporter": "python",
   "pygments_lexer": "ipython3",
   "version": "3.9.12"
  }
 },
 "nbformat": 4,
 "nbformat_minor": 5
}
