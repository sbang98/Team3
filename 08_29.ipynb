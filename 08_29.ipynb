{
 "cells": [
  {
   "cell_type": "code",
   "execution_count": 1,
   "id": "75972e7d",
   "metadata": {},
   "outputs": [],
   "source": [
    "import pandas as pd\n",
    "import numpy as np\n",
    "\n",
    "df = pd.DataFrame([[18, '남','김천고'], [19, '여', '울산고']],\n",
    "                 index=['진현', '민지'],\n",
    "                 columns=['나이', '성별', '학교'])"
   ]
  },
  {
   "cell_type": "code",
   "execution_count": 2,
   "id": "6eecf723",
   "metadata": {},
   "outputs": [
    {
     "name": "stdout",
     "output_type": "stream",
     "text": [
      "    나이 성별   학교\n",
      "진현  18  남  김천고\n",
      "민지  19  여  울산고\n",
      "1767373358416\n",
      "    연령 남여   소속\n",
      "진현  18  남  김천고\n",
      "민지  19  여  울산고\n",
      "1767373358416\n",
      "     연령 남여   소속\n",
      "학생1  18  남  김천고\n",
      "학생2  19  여  울산고\n",
      "1767343305440\n",
      "    연령 남여   소속\n",
      "진현  18  남  김천고\n",
      "민지  19  여  울산고\n"
     ]
    }
   ],
   "source": [
    "print(df)\n",
    "print(id(df))\n",
    "df.rename(columns = {'나이' : '연령', '성별':'남여', '학교':'소속'}, inplace = True)\n",
    "print(df)\n",
    "print(id(df))\n",
    "new_df = df.rename(index = {'진현':'학생1', '민지':'학생2'})\n",
    "print(new_df)\n",
    "print(id(new_df))\n",
    "print(df)"
   ]
  },
  {
   "cell_type": "code",
   "execution_count": 4,
   "id": "28f25df6",
   "metadata": {},
   "outputs": [
    {
     "name": "stdout",
     "output_type": "stream",
     "text": [
      "    나이 성별   학교\n",
      "민지  19  여  울산고\n"
     ]
    }
   ],
   "source": [
    "df.drop('진현', axis=0, inplace = True) # 기본값은 axis=0 행 삭제\n",
    "print(df)"
   ]
  },
  {
   "cell_type": "code",
   "execution_count": 4,
   "id": "8f9966e1",
   "metadata": {},
   "outputs": [
    {
     "name": "stdout",
     "output_type": "stream",
     "text": [
      "    연령 남여   소속\n",
      "진현  18  남  김천고\n",
      "민지  19  여  울산고\n"
     ]
    }
   ],
   "source": [
    "print(df)"
   ]
  },
  {
   "cell_type": "code",
   "execution_count": 3,
   "id": "206bdd49",
   "metadata": {},
   "outputs": [
    {
     "ename": "KeyError",
     "evalue": "\"['진현'] not found in axis\"",
     "output_type": "error",
     "traceback": [
      "\u001b[1;31m---------------------------------------------------------------------------\u001b[0m",
      "\u001b[1;31mKeyError\u001b[0m                                  Traceback (most recent call last)",
      "Input \u001b[1;32mIn [3]\u001b[0m, in \u001b[0;36m<cell line: 1>\u001b[1;34m()\u001b[0m\n\u001b[1;32m----> 1\u001b[0m \u001b[43mdf\u001b[49m\u001b[38;5;241;43m.\u001b[39;49m\u001b[43mdrop\u001b[49m\u001b[43m(\u001b[49m\u001b[38;5;124;43m'\u001b[39;49m\u001b[38;5;124;43m진현\u001b[39;49m\u001b[38;5;124;43m'\u001b[39;49m\u001b[43m,\u001b[49m\u001b[43m \u001b[49m\u001b[43maxis\u001b[49m\u001b[38;5;241;43m=\u001b[39;49m\u001b[38;5;241;43m1\u001b[39;49m\u001b[43m,\u001b[49m\u001b[43m \u001b[49m\u001b[43minplace\u001b[49m\u001b[43m \u001b[49m\u001b[38;5;241;43m=\u001b[39;49m\u001b[43m \u001b[49m\u001b[38;5;28;43;01mTrue\u001b[39;49;00m\u001b[43m)\u001b[49m\n\u001b[0;32m      2\u001b[0m \u001b[38;5;28mprint\u001b[39m(df)\n",
      "File \u001b[1;32mC:\\anaconda3\\lib\\site-packages\\pandas\\util\\_decorators.py:311\u001b[0m, in \u001b[0;36mdeprecate_nonkeyword_arguments.<locals>.decorate.<locals>.wrapper\u001b[1;34m(*args, **kwargs)\u001b[0m\n\u001b[0;32m    305\u001b[0m \u001b[38;5;28;01mif\u001b[39;00m \u001b[38;5;28mlen\u001b[39m(args) \u001b[38;5;241m>\u001b[39m num_allow_args:\n\u001b[0;32m    306\u001b[0m     warnings\u001b[38;5;241m.\u001b[39mwarn(\n\u001b[0;32m    307\u001b[0m         msg\u001b[38;5;241m.\u001b[39mformat(arguments\u001b[38;5;241m=\u001b[39marguments),\n\u001b[0;32m    308\u001b[0m         \u001b[38;5;167;01mFutureWarning\u001b[39;00m,\n\u001b[0;32m    309\u001b[0m         stacklevel\u001b[38;5;241m=\u001b[39mstacklevel,\n\u001b[0;32m    310\u001b[0m     )\n\u001b[1;32m--> 311\u001b[0m \u001b[38;5;28;01mreturn\u001b[39;00m func(\u001b[38;5;241m*\u001b[39margs, \u001b[38;5;241m*\u001b[39m\u001b[38;5;241m*\u001b[39mkwargs)\n",
      "File \u001b[1;32mC:\\anaconda3\\lib\\site-packages\\pandas\\core\\frame.py:4954\u001b[0m, in \u001b[0;36mDataFrame.drop\u001b[1;34m(self, labels, axis, index, columns, level, inplace, errors)\u001b[0m\n\u001b[0;32m   4806\u001b[0m \u001b[38;5;129m@deprecate_nonkeyword_arguments\u001b[39m(version\u001b[38;5;241m=\u001b[39m\u001b[38;5;28;01mNone\u001b[39;00m, allowed_args\u001b[38;5;241m=\u001b[39m[\u001b[38;5;124m\"\u001b[39m\u001b[38;5;124mself\u001b[39m\u001b[38;5;124m\"\u001b[39m, \u001b[38;5;124m\"\u001b[39m\u001b[38;5;124mlabels\u001b[39m\u001b[38;5;124m\"\u001b[39m])\n\u001b[0;32m   4807\u001b[0m \u001b[38;5;28;01mdef\u001b[39;00m \u001b[38;5;21mdrop\u001b[39m(\n\u001b[0;32m   4808\u001b[0m     \u001b[38;5;28mself\u001b[39m,\n\u001b[1;32m   (...)\u001b[0m\n\u001b[0;32m   4815\u001b[0m     errors: \u001b[38;5;28mstr\u001b[39m \u001b[38;5;241m=\u001b[39m \u001b[38;5;124m\"\u001b[39m\u001b[38;5;124mraise\u001b[39m\u001b[38;5;124m\"\u001b[39m,\n\u001b[0;32m   4816\u001b[0m ):\n\u001b[0;32m   4817\u001b[0m     \u001b[38;5;124;03m\"\"\"\u001b[39;00m\n\u001b[0;32m   4818\u001b[0m \u001b[38;5;124;03m    Drop specified labels from rows or columns.\u001b[39;00m\n\u001b[0;32m   4819\u001b[0m \n\u001b[1;32m   (...)\u001b[0m\n\u001b[0;32m   4952\u001b[0m \u001b[38;5;124;03m            weight  1.0     0.8\u001b[39;00m\n\u001b[0;32m   4953\u001b[0m \u001b[38;5;124;03m    \"\"\"\u001b[39;00m\n\u001b[1;32m-> 4954\u001b[0m     \u001b[38;5;28;01mreturn\u001b[39;00m \u001b[38;5;28;43msuper\u001b[39;49m\u001b[43m(\u001b[49m\u001b[43m)\u001b[49m\u001b[38;5;241;43m.\u001b[39;49m\u001b[43mdrop\u001b[49m\u001b[43m(\u001b[49m\n\u001b[0;32m   4955\u001b[0m \u001b[43m        \u001b[49m\u001b[43mlabels\u001b[49m\u001b[38;5;241;43m=\u001b[39;49m\u001b[43mlabels\u001b[49m\u001b[43m,\u001b[49m\n\u001b[0;32m   4956\u001b[0m \u001b[43m        \u001b[49m\u001b[43maxis\u001b[49m\u001b[38;5;241;43m=\u001b[39;49m\u001b[43maxis\u001b[49m\u001b[43m,\u001b[49m\n\u001b[0;32m   4957\u001b[0m \u001b[43m        \u001b[49m\u001b[43mindex\u001b[49m\u001b[38;5;241;43m=\u001b[39;49m\u001b[43mindex\u001b[49m\u001b[43m,\u001b[49m\n\u001b[0;32m   4958\u001b[0m \u001b[43m        \u001b[49m\u001b[43mcolumns\u001b[49m\u001b[38;5;241;43m=\u001b[39;49m\u001b[43mcolumns\u001b[49m\u001b[43m,\u001b[49m\n\u001b[0;32m   4959\u001b[0m \u001b[43m        \u001b[49m\u001b[43mlevel\u001b[49m\u001b[38;5;241;43m=\u001b[39;49m\u001b[43mlevel\u001b[49m\u001b[43m,\u001b[49m\n\u001b[0;32m   4960\u001b[0m \u001b[43m        \u001b[49m\u001b[43minplace\u001b[49m\u001b[38;5;241;43m=\u001b[39;49m\u001b[43minplace\u001b[49m\u001b[43m,\u001b[49m\n\u001b[0;32m   4961\u001b[0m \u001b[43m        \u001b[49m\u001b[43merrors\u001b[49m\u001b[38;5;241;43m=\u001b[39;49m\u001b[43merrors\u001b[49m\u001b[43m,\u001b[49m\n\u001b[0;32m   4962\u001b[0m \u001b[43m    \u001b[49m\u001b[43m)\u001b[49m\n",
      "File \u001b[1;32mC:\\anaconda3\\lib\\site-packages\\pandas\\core\\generic.py:4267\u001b[0m, in \u001b[0;36mNDFrame.drop\u001b[1;34m(self, labels, axis, index, columns, level, inplace, errors)\u001b[0m\n\u001b[0;32m   4265\u001b[0m \u001b[38;5;28;01mfor\u001b[39;00m axis, labels \u001b[38;5;129;01min\u001b[39;00m axes\u001b[38;5;241m.\u001b[39mitems():\n\u001b[0;32m   4266\u001b[0m     \u001b[38;5;28;01mif\u001b[39;00m labels \u001b[38;5;129;01mis\u001b[39;00m \u001b[38;5;129;01mnot\u001b[39;00m \u001b[38;5;28;01mNone\u001b[39;00m:\n\u001b[1;32m-> 4267\u001b[0m         obj \u001b[38;5;241m=\u001b[39m \u001b[43mobj\u001b[49m\u001b[38;5;241;43m.\u001b[39;49m\u001b[43m_drop_axis\u001b[49m\u001b[43m(\u001b[49m\u001b[43mlabels\u001b[49m\u001b[43m,\u001b[49m\u001b[43m \u001b[49m\u001b[43maxis\u001b[49m\u001b[43m,\u001b[49m\u001b[43m \u001b[49m\u001b[43mlevel\u001b[49m\u001b[38;5;241;43m=\u001b[39;49m\u001b[43mlevel\u001b[49m\u001b[43m,\u001b[49m\u001b[43m \u001b[49m\u001b[43merrors\u001b[49m\u001b[38;5;241;43m=\u001b[39;49m\u001b[43merrors\u001b[49m\u001b[43m)\u001b[49m\n\u001b[0;32m   4269\u001b[0m \u001b[38;5;28;01mif\u001b[39;00m inplace:\n\u001b[0;32m   4270\u001b[0m     \u001b[38;5;28mself\u001b[39m\u001b[38;5;241m.\u001b[39m_update_inplace(obj)\n",
      "File \u001b[1;32mC:\\anaconda3\\lib\\site-packages\\pandas\\core\\generic.py:4311\u001b[0m, in \u001b[0;36mNDFrame._drop_axis\u001b[1;34m(self, labels, axis, level, errors, consolidate, only_slice)\u001b[0m\n\u001b[0;32m   4309\u001b[0m         new_axis \u001b[38;5;241m=\u001b[39m axis\u001b[38;5;241m.\u001b[39mdrop(labels, level\u001b[38;5;241m=\u001b[39mlevel, errors\u001b[38;5;241m=\u001b[39merrors)\n\u001b[0;32m   4310\u001b[0m     \u001b[38;5;28;01melse\u001b[39;00m:\n\u001b[1;32m-> 4311\u001b[0m         new_axis \u001b[38;5;241m=\u001b[39m \u001b[43maxis\u001b[49m\u001b[38;5;241;43m.\u001b[39;49m\u001b[43mdrop\u001b[49m\u001b[43m(\u001b[49m\u001b[43mlabels\u001b[49m\u001b[43m,\u001b[49m\u001b[43m \u001b[49m\u001b[43merrors\u001b[49m\u001b[38;5;241;43m=\u001b[39;49m\u001b[43merrors\u001b[49m\u001b[43m)\u001b[49m\n\u001b[0;32m   4312\u001b[0m     indexer \u001b[38;5;241m=\u001b[39m axis\u001b[38;5;241m.\u001b[39mget_indexer(new_axis)\n\u001b[0;32m   4314\u001b[0m \u001b[38;5;66;03m# Case for non-unique axis\u001b[39;00m\n\u001b[0;32m   4315\u001b[0m \u001b[38;5;28;01melse\u001b[39;00m:\n",
      "File \u001b[1;32mC:\\anaconda3\\lib\\site-packages\\pandas\\core\\indexes\\base.py:6644\u001b[0m, in \u001b[0;36mIndex.drop\u001b[1;34m(self, labels, errors)\u001b[0m\n\u001b[0;32m   6642\u001b[0m \u001b[38;5;28;01mif\u001b[39;00m mask\u001b[38;5;241m.\u001b[39many():\n\u001b[0;32m   6643\u001b[0m     \u001b[38;5;28;01mif\u001b[39;00m errors \u001b[38;5;241m!=\u001b[39m \u001b[38;5;124m\"\u001b[39m\u001b[38;5;124mignore\u001b[39m\u001b[38;5;124m\"\u001b[39m:\n\u001b[1;32m-> 6644\u001b[0m         \u001b[38;5;28;01mraise\u001b[39;00m \u001b[38;5;167;01mKeyError\u001b[39;00m(\u001b[38;5;124mf\u001b[39m\u001b[38;5;124m\"\u001b[39m\u001b[38;5;132;01m{\u001b[39;00m\u001b[38;5;28mlist\u001b[39m(labels[mask])\u001b[38;5;132;01m}\u001b[39;00m\u001b[38;5;124m not found in axis\u001b[39m\u001b[38;5;124m\"\u001b[39m)\n\u001b[0;32m   6645\u001b[0m     indexer \u001b[38;5;241m=\u001b[39m indexer[\u001b[38;5;241m~\u001b[39mmask]\n\u001b[0;32m   6646\u001b[0m \u001b[38;5;28;01mreturn\u001b[39;00m \u001b[38;5;28mself\u001b[39m\u001b[38;5;241m.\u001b[39mdelete(indexer)\n",
      "\u001b[1;31mKeyError\u001b[0m: \"['진현'] not found in axis\""
     ]
    }
   ],
   "source": [
    "df.drop('진현', axis=1, inplace = True)\n",
    "print(df)"
   ]
  },
  {
   "cell_type": "code",
   "execution_count": 5,
   "id": "03a6140f",
   "metadata": {},
   "outputs": [
    {
     "name": "stdout",
     "output_type": "stream",
     "text": [
      "   이름   수학  영어  생물  도덕\n",
      "0  진현  100  50  50  88\n",
      "1  민지   40  70  90  68\n",
      "2  성철   70  90  70  58\n",
      "3  지산   30  80  18  77\n"
     ]
    }
   ],
   "source": [
    "import numpy as np\n",
    "exam_data = {'이름': ['진현', '민지', '성철', '지산'], '수학':[100, 40, 70, 30], '영어': [50, 70, 90, 80], '생물': [50, 90, 70, 18], '도덕': [88, 68, 58, 77]}\n",
    "df = pd.DataFrame(exam_data)\n",
    "print(df)\n"
   ]
  },
  {
   "cell_type": "code",
   "execution_count": 6,
   "id": "dd9b310c",
   "metadata": {},
   "outputs": [
    {
     "name": "stdout",
     "output_type": "stream",
     "text": [
      "   이름   수학  영어  생물  도덕  국어\n",
      "0  진현  100  50  50  88  80\n",
      "1  민지   40  70  90  68  80\n",
      "2  성철   70  90  70  58  80\n",
      "3  지산   30  80  18  77  80\n"
     ]
    }
   ],
   "source": [
    "df['국어'] = 80\n",
    "print(df)"
   ]
  },
  {
   "cell_type": "code",
   "execution_count": 7,
   "id": "86f06823",
   "metadata": {},
   "outputs": [
    {
     "name": "stdout",
     "output_type": "stream",
     "text": [
      "   이름   수학  영어  생물  도덕  국어\n",
      "0  진현  100  50  50  88  80\n",
      "1  하나    1   2   3   4   5\n",
      "2  성철   70  90  70  58  80\n",
      "3  지산   30  80  18  77  80\n"
     ]
    }
   ],
   "source": [
    "df.loc[1] = ['하나',1,2,3,4,5] # 행 위치 1의 데이터가 수정됨\n",
    "print(df)"
   ]
  },
  {
   "cell_type": "code",
   "execution_count": 8,
   "id": "52c1b350",
   "metadata": {},
   "outputs": [
    {
     "name": "stdout",
     "output_type": "stream",
     "text": [
      "    이름   수학   영어   생물   도덕   국어\n",
      "0   진현  100   50   50   88   80\n",
      "1   하나    1    2    3    4    5\n",
      "2   성철   70   90   70   58   80\n",
      "3   지산   30   80   18   77   80\n",
      "4  100  100  100  100  100  100\n"
     ]
    }
   ],
   "source": [
    "df.loc[4] = 100 # 행 위치 4에 새로운 행 추가\n",
    "print(df)"
   ]
  },
  {
   "cell_type": "code",
   "execution_count": 9,
   "id": "0b8d6a4b",
   "metadata": {},
   "outputs": [
    {
     "name": "stdout",
     "output_type": "stream",
     "text": [
      "    c0  c1  c2  c3  c4\n",
      "r0   1   4   7  10  13\n",
      "r1   2   5   8  11  14\n",
      "r2   3   6   9  12  15\n"
     ]
    }
   ],
   "source": [
    "dict_data = {'c0':[1,2,3], 'c1':[4,5,6], 'c2':[7,8,9], 'c3':[10,11,12], 'c4':[13,14,15]}\n",
    "df = pd.DataFrame(dict_data, index=['r0', 'r1', 'r2'])\n",
    "print(df)"
   ]
  },
  {
   "cell_type": "code",
   "execution_count": 10,
   "id": "64565a33",
   "metadata": {},
   "outputs": [
    {
     "name": "stdout",
     "output_type": "stream",
     "text": [
      "     c0   c1   c2    c3    c4\n",
      "r0  1.0  4.0  7.0  10.0  13.0\n",
      "r1  2.0  5.0  8.0  11.0  14.0\n",
      "r2  3.0  6.0  9.0  12.0  15.0\n",
      "r3  NaN  NaN  NaN   NaN   NaN\n",
      "r4  NaN  NaN  NaN   NaN   NaN\n"
     ]
    }
   ],
   "source": [
    "new_index = ['r0', 'r1', 'r2', 'r3', 'r4']\n",
    "ndf = df.reindex(new_index)\n",
    "print(ndf) # 추가되는 부분은 행 인덱스의 행 데이터는 NaN 값이 된다."
   ]
  },
  {
   "cell_type": "code",
   "execution_count": 11,
   "id": "b88f9451",
   "metadata": {},
   "outputs": [
    {
     "name": "stdout",
     "output_type": "stream",
     "text": [
      "    c0  c1  c2  c3  c4\n",
      "r0   1   4   7  10  13\n",
      "r1   2   5   8  11  14\n",
      "r2   3   6   9  12  15\n",
      "r3   0   0   0   0   0\n",
      "r4   0   0   0   0   0\n"
     ]
    }
   ],
   "source": [
    "# 추가되는 부분을 NaN이 아닌 값으로 채우려면 fill_value 옵션을 사용\n",
    "new_index = ['r0', 'r1', 'r2', 'r3', 'r4']\n",
    "ndf2 = df.reindex(new_index, fill_value = 0)\n",
    "print(ndf2)"
   ]
  },
  {
   "cell_type": "code",
   "execution_count": 12,
   "id": "8a0fb833",
   "metadata": {},
   "outputs": [
    {
     "name": "stdout",
     "output_type": "stream",
     "text": [
      "    c0  c1  c2  c3  c4\n",
      "r0   1   4   7  10  13\n",
      "r1   2   5   8  11  14\n",
      "r2   3   6   9  12  15\n"
     ]
    }
   ],
   "source": [
    "ndf = df.reset_index()\n",
    "print(df)"
   ]
  },
  {
   "cell_type": "code",
   "execution_count": 14,
   "id": "53e818d0",
   "metadata": {},
   "outputs": [
    {
     "name": "stdout",
     "output_type": "stream",
     "text": [
      "Cidx1           A           B      \n",
      "Cidx2           C     D     C     D\n",
      "Ridx1 Ridx2                        \n",
      "M     id_1   0.60  0.11  0.72  1.42\n",
      "      id_2  -0.27 -1.11  0.03  0.81\n",
      "      id_3  -1.86 -1.41  1.15  0.43\n",
      "F     id_1  -1.84  0.17  0.51 -1.12\n",
      "      id_2   1.65 -1.45  1.23  1.40\n",
      "      id_3  -2.46  0.66  0.52 -1.90\n"
     ]
    }
   ],
   "source": [
    "df4 = pd.DataFrame(np.round(np.random.randn(6, 4), 2),\n",
    "      columns=[[\"A\", \"A\", \"B\", \"B\"], [\"C\", \"D\", \"C\", \"D\"]],\n",
    "      index=[[\"M\", \"M\", \"M\", \"F\", \"F\", \"F\"], [\"id_\" + str(i + 1) for i in range(3)] * 2])\n",
    "df4.columns.names = ['Cidx1', 'Cidx2']\n",
    "df4.index.names = ['Ridx1', 'Ridx2']\n",
    "print(df4)"
   ]
  },
  {
   "cell_type": "code",
   "execution_count": 21,
   "id": "7effb71f",
   "metadata": {},
   "outputs": [
    {
     "name": "stdout",
     "output_type": "stream",
     "text": [
      "Cidx2                 C     D\n",
      "Ridx1 Ridx2 Cidx1            \n",
      "M     id_1  A      0.60  0.11\n",
      "            B      0.72  1.42\n",
      "      id_2  A     -0.27 -1.11\n",
      "            B      0.03  0.81\n",
      "      id_3  A     -1.86 -1.41\n",
      "            B      1.15  0.43\n",
      "F     id_1  A     -1.84  0.17\n",
      "            B      0.51 -1.12\n",
      "      id_2  A      1.65 -1.45\n",
      "            B      1.23  1.40\n",
      "      id_3  A     -2.46  0.66\n",
      "            B      0.52 -1.90\n"
     ]
    }
   ],
   "source": [
    "df = df4.stack('Cidx1')\n",
    "print(df)"
   ]
  },
  {
   "cell_type": "code",
   "execution_count": 22,
   "id": "963e9832",
   "metadata": {},
   "outputs": [
    {
     "name": "stdout",
     "output_type": "stream",
     "text": [
      "Cidx1                 A     B\n",
      "Ridx1 Ridx2 Cidx2            \n",
      "M     id_1  C      0.60  0.72\n",
      "            D      0.11  1.42\n",
      "      id_2  C     -0.27  0.03\n",
      "            D     -1.11  0.81\n",
      "      id_3  C     -1.86  1.15\n",
      "            D     -1.41  0.43\n",
      "F     id_1  C     -1.84  0.51\n",
      "            D      0.17 -1.12\n",
      "      id_2  C      1.65  1.23\n",
      "            D     -1.45  1.40\n",
      "      id_3  C     -2.46  0.52\n",
      "            D      0.66 -1.90\n"
     ]
    }
   ],
   "source": [
    "df = df4.stack(1)\n",
    "print(df)"
   ]
  },
  {
   "cell_type": "code",
   "execution_count": 24,
   "id": "f1da8616",
   "metadata": {},
   "outputs": [
    {
     "name": "stdout",
     "output_type": "stream",
     "text": [
      "Cidx1     A                                   B                              \n",
      "Cidx2     C                 D                 C                 D            \n",
      "Ridx2  id_1  id_2  id_3  id_1  id_2  id_3  id_1  id_2  id_3  id_1  id_2  id_3\n",
      "Ridx1                                                                        \n",
      "F     -1.84  1.65 -2.46  0.17 -1.45  0.66  0.51  1.23  0.52 -1.12  1.40 -1.90\n",
      "M      0.60 -0.27 -1.86  0.11 -1.11 -1.41  0.72  0.03  1.15  1.42  0.81  0.43\n"
     ]
    }
   ],
   "source": [
    "df = df4.unstack('Ridx2')\n",
    "print(df)"
   ]
  },
  {
   "cell_type": "code",
   "execution_count": 26,
   "id": "25967241",
   "metadata": {},
   "outputs": [
    {
     "name": "stdout",
     "output_type": "stream",
     "text": [
      "Cidx1     A                       B                  \n",
      "Cidx2     C           D           C           D      \n",
      "Ridx1     F     M     F     M     F     M     F     M\n",
      "Ridx2                                                \n",
      "id_1  -1.84  0.60  0.17  0.11  0.51  0.72 -1.12  1.42\n",
      "id_2   1.65 -0.27 -1.45 -1.11  1.23  0.03  1.40  0.81\n",
      "id_3  -2.46 -1.86  0.66 -1.41  0.52  1.15 -1.90  0.43\n"
     ]
    }
   ],
   "source": [
    "df = df4.unstack(0)\n",
    "print(df)"
   ]
  },
  {
   "cell_type": "code",
   "execution_count": 33,
   "id": "4d283209",
   "metadata": {},
   "outputs": [
    {
     "name": "stdout",
     "output_type": "stream",
     "text": [
      "      A           B      \n",
      "     C1    C2    C1    C2\n",
      "0  1.76  0.40  0.98  2.24\n",
      "1  1.87 -0.98  0.95 -0.15\n",
      "2 -0.10  0.41  0.14  1.45\n",
      "3  0.76  0.12  0.44  0.33\n",
      "4  1.49 -0.21  0.31 -0.85\n"
     ]
    }
   ],
   "source": [
    "np.random.seed(0)\n",
    "df3 = pd.DataFrame(np.round(np.random.randn(5, 4), 2),\n",
    "      columns=[[\"A\", \"A\", \"B\", \"B\"], [\"C1\", \"C2\", \"C1\", \"C2\"]])\n",
    "print(df3)"
   ]
  },
  {
   "cell_type": "code",
   "execution_count": 34,
   "id": "22b125e1",
   "metadata": {},
   "outputs": [
    {
     "name": "stdout",
     "output_type": "stream",
     "text": [
      "0    0.98\n",
      "1    0.95\n",
      "2    0.14\n",
      "3    0.44\n",
      "4    0.31\n",
      "Name: (B, C1), dtype: float64\n"
     ]
    }
   ],
   "source": [
    "print(df3[('B', 'C1')]) # 하위 인덱스는 튜플로 작성해야 함."
   ]
  },
  {
   "cell_type": "code",
   "execution_count": 35,
   "id": "638db604",
   "metadata": {},
   "outputs": [
    {
     "name": "stdout",
     "output_type": "stream",
     "text": [
      "0.98\n"
     ]
    }
   ],
   "source": [
    "print(df3.loc[0, ('B', 'C1')])"
   ]
  },
  {
   "cell_type": "code",
   "execution_count": 36,
   "id": "95a74bb9",
   "metadata": {},
   "outputs": [
    {
     "name": "stdout",
     "output_type": "stream",
     "text": [
      "      A             B      \n",
      "     C1    C2      C1    C2\n",
      "0  1.76  0.40  100.00  2.24\n",
      "1  1.87 -0.98    0.95 -0.15\n",
      "2 -0.10  0.41    0.14  1.45\n",
      "3  0.76  0.12    0.44  0.33\n",
      "4  1.49 -0.21    0.31 -0.85\n"
     ]
    }
   ],
   "source": [
    "df3.loc[0, ('B', 'C1')] = 100\n",
    "print(df3)"
   ]
  },
  {
   "cell_type": "code",
   "execution_count": 37,
   "id": "951507da",
   "metadata": {},
   "outputs": [
    {
     "name": "stdout",
     "output_type": "stream",
     "text": [
      "     C1    C2\n",
      "0  1.76  0.40\n",
      "1  1.87 -0.98\n",
      "2 -0.10  0.41\n",
      "3  0.76  0.12\n",
      "4  1.49 -0.21\n"
     ]
    }
   ],
   "source": [
    "print(df3['A']) # 상위 인덱스는 튜플 없이 쓸 수 있음"
   ]
  },
  {
   "cell_type": "code",
   "execution_count": 39,
   "id": "5d3796f1",
   "metadata": {},
   "outputs": [
    {
     "name": "stdout",
     "output_type": "stream",
     "text": [
      "      A  B  C    D\n",
      "ID                \n",
      "C1  1.0  2  3  NaN\n",
      "C2  5.0  ?  7  8.0\n",
      "C3  NaN  3  5  7.0\n",
      "      A  B  C    D\n",
      "ID                \n",
      "C1  1.0  2  3  NaN\n",
      "C2  5.0  ?  7  8.0\n",
      "C3  NaN  3  5  7.0\n"
     ]
    }
   ],
   "source": [
    "csv_test = pd.read_csv('test_text_file.txt', sep='|', index_col=0)\n",
    "print(csv_test )\n",
    "csv_test2 =pd.read_csv('test_text_file.txt', sep='|', index_col='ID')\n",
    "print(csv_test2 )"
   ]
  },
  {
   "cell_type": "code",
   "execution_count": 40,
   "id": "606c0f54",
   "metadata": {},
   "outputs": [
    {
     "name": "stdout",
     "output_type": "stream",
     "text": [
      "   ID    A  B  C    D\n",
      "0  C1  1.0  2  3  NaN\n",
      "1  C2  5.0  ?  7  8.0\n",
      "2  C3  NaN  3  5  7.0\n"
     ]
    }
   ],
   "source": [
    "df = pd.read_csv('test_text_file.txt', sep='|')\n",
    "print(df)"
   ]
  },
  {
   "cell_type": "code",
   "execution_count": 41,
   "id": "deb3a502",
   "metadata": {},
   "outputs": [
    {
     "name": "stdout",
     "output_type": "stream",
     "text": [
      "   C1    1  2  3  nan\n",
      "0  C2  5.0  ?  7    8\n",
      "1  C3  NaN  3  5    7\n"
     ]
    }
   ],
   "source": [
    "df = pd.read_csv('text_without_column_name.txt', sep='|')\n",
    "print(df)"
   ]
  },
  {
   "cell_type": "code",
   "execution_count": 42,
   "id": "fa0b204a",
   "metadata": {},
   "outputs": [
    {
     "name": "stdout",
     "output_type": "stream",
     "text": [
      "   ID    A  B  C    D\n",
      "0  C1  1.0  2  3  NaN\n",
      "1  C2  5.0  ?  7  8.0\n",
      "2  C3  NaN  3  5  7.0\n"
     ]
    }
   ],
   "source": [
    "df = pd.read_csv('text_without_column_name.txt', sep='|', names = ['ID', 'A', 'B', 'C', 'D'])\n",
    "print(df)"
   ]
  },
  {
   "cell_type": "code",
   "execution_count": 43,
   "id": "24f2fa4d",
   "metadata": {},
   "outputs": [
    {
     "name": "stdout",
     "output_type": "stream",
     "text": [
      "   ID    A  B  C    D\n",
      "0  C1  1.0  2  3  NaN\n",
      "1  C2  5.0  ?  7  8.0\n",
      "2  C3  NaN  3  5  7.0\n"
     ]
    }
   ],
   "source": [
    "df = pd.read_csv('text_without_column_name.txt', sep='|', names = ['ID', 'A', 'B', 'C', 'D'], \n",
    "                 header = None)\n",
    "print(df)"
   ]
  },
  {
   "cell_type": "code",
   "execution_count": 44,
   "id": "9ce6ac61",
   "metadata": {},
   "outputs": [
    {
     "name": "stdout",
     "output_type": "stream",
     "text": [
      "      A  B  C    D\n",
      "ID                \n",
      "C1  1.0  2  3  NaN\n",
      "C2  5.0  ?  7  8.0\n",
      "C3  NaN  3  5  7.0\n"
     ]
    }
   ],
   "source": [
    "df = pd.read_csv('text_without_column_name.txt', sep='|', names = ['ID', 'A', 'B', 'C', 'D'], \n",
    "                 header = None, index_col='ID')\n",
    "print(df)"
   ]
  },
  {
   "cell_type": "code",
   "execution_count": 3,
   "id": "a7930fd8",
   "metadata": {},
   "outputs": [
    {
     "name": "stdout",
     "output_type": "stream",
     "text": [
      "   ID LAST_NAME  AGE\n",
      "0   1       KIM   30\n",
      "1   2      CHOI   25\n",
      "2   3       LEE   41\n",
      "3   4      PARK   19\n",
      "4   5       LIM   36\n"
     ]
    }
   ],
   "source": [
    "import pandas as pd\n",
    "df = pd.read_csv('./datas/test_csv_file.csv')\n",
    "print(df)"
   ]
  },
  {
   "cell_type": "code",
   "execution_count": 4,
   "id": "0ae82a84",
   "metadata": {},
   "outputs": [
    {
     "name": "stdout",
     "output_type": "stream",
     "text": [
      "   ID LAST_NAME  AGE\n",
      "0   3       LEE   41\n",
      "1   4      PARK   19\n",
      "2   5       LIM   36\n"
     ]
    }
   ],
   "source": [
    "df = pd.read_csv('./datas/test_csv_file.csv', skiprows=[1,2])\n",
    "print(df)"
   ]
  },
  {
   "cell_type": "code",
   "execution_count": 5,
   "id": "8b1a42b8",
   "metadata": {},
   "outputs": [
    {
     "name": "stdout",
     "output_type": "stream",
     "text": [
      "   ID LAST_NAME  AGE\n",
      "0   1       KIM   30\n",
      "1   2      CHOI   25\n",
      "2   3       LEE   41\n"
     ]
    }
   ],
   "source": [
    "df = pd.read_csv('./datas/test_csv_file.csv', nrows=3)\n",
    "print(df)"
   ]
  },
  {
   "cell_type": "code",
   "execution_count": 19,
   "id": "d336730b",
   "metadata": {},
   "outputs": [
    {
     "name": "stdout",
     "output_type": "stream",
     "text": [
      "   ID    A  B  C    D\n",
      "0  C1  1.0  2  3  NaN\n",
      "1  C2  5.0  ?  7  8.0\n",
      "2  C3  NaN  3  5  7.0\n"
     ]
    }
   ],
   "source": [
    "df = pd.read_csv('./datas/test_text_file.txt', sep='|')\n",
    "print(df)"
   ]
  },
  {
   "cell_type": "code",
   "execution_count": 26,
   "id": "0e4eb3d2",
   "metadata": {},
   "outputs": [
    {
     "name": "stdout",
     "output_type": "stream",
     "text": [
      "   ID    A    B  C    D\n",
      "0  C1  1.0  2.0  3  NaN\n",
      "1  C2  5.0  NaN  7  8.0\n",
      "2  C3  NaN  3.0  5  7.0\n"
     ]
    }
   ],
   "source": [
    "df = pd.read_csv('./datas/test_text_file.txt', sep='|',\n",
    "               na_values = ['?', '??', 'N/A', 'NA', 'nan', 'NaN', '-nan', '-NaN', 'null'])\n",
    "print(df)"
   ]
  },
  {
   "cell_type": "code",
   "execution_count": 32,
   "id": "3a9922b6",
   "metadata": {},
   "outputs": [
    {
     "name": "stdout",
     "output_type": "stream",
     "text": [
      "   ID LAST_NAME  AGE\n",
      "0   1       KIM   30\n",
      "1   2      CHOI   25\n",
      "2   3       LEE   41\n",
      "<class 'pandas.core.frame.DataFrame'>\n",
      "RangeIndex: 3 entries, 0 to 2\n",
      "Data columns (total 3 columns):\n",
      " #   Column     Non-Null Count  Dtype \n",
      "---  ------     --------------  ----- \n",
      " 0   ID         3 non-null      int64 \n",
      " 1   LAST_NAME  3 non-null      object\n",
      " 2   AGE        3 non-null      int64 \n",
      "dtypes: int64(2), object(1)\n",
      "memory usage: 200.0+ bytes\n",
      "None\n"
     ]
    }
   ],
   "source": [
    "df = pd.read_csv('./datas/test_csv_file.csv', nrows=3)\n",
    "print(df)\n",
    "print(df.info())"
   ]
  },
  {
   "cell_type": "code",
   "execution_count": 34,
   "id": "f9801921",
   "metadata": {},
   "outputs": [
    {
     "name": "stdout",
     "output_type": "stream",
     "text": [
      "   ID LAST_NAME   AGE\n",
      "0   1       KIM  30.0\n",
      "1   2      CHOI  25.0\n",
      "2   3       LEE  41.0\n",
      "<class 'pandas.core.frame.DataFrame'>\n",
      "RangeIndex: 3 entries, 0 to 2\n",
      "Data columns (total 3 columns):\n",
      " #   Column     Non-Null Count  Dtype  \n",
      "---  ------     --------------  -----  \n",
      " 0   ID         3 non-null      int32  \n",
      " 1   LAST_NAME  3 non-null      object \n",
      " 2   AGE        3 non-null      float64\n",
      "dtypes: float64(1), int32(1), object(1)\n",
      "memory usage: 188.0+ bytes\n",
      "None\n"
     ]
    }
   ],
   "source": [
    "df = pd.read_csv('./datas/test_csv_file.csv', nrows=3, \n",
    "                 dtype = {'ID':int, 'LAST_NAME':str,'AGE':float})\n",
    "print(df)\n",
    "print(df.info())"
   ]
  },
  {
   "cell_type": "code",
   "execution_count": 35,
   "id": "9c4dbdf4",
   "metadata": {},
   "outputs": [],
   "source": [
    "# JSON 데이터 읽고 쓰기\n",
    "student_data = {\n",
    "\"1.FirstName\": \"Gildong\",\n",
    "\"2.LastName\": \"Hong\",\n",
    "\"3.Age\": 20,\n",
    "\"4.University\": \"Yonsei University\",\n",
    "\"5.Courses\": [\n",
    "{\n",
    "\"Major\": \"Statistics\",\n",
    "\"Classes\": [\"Probability\",\n",
    "\"Generalized Linear Model\",\n",
    "\"Categorical Data Analysis\"]\n",
    "},\n",
    "{\n",
    "\"Minor\": \"ComputerScience\",\n",
    "\"Classes\": [\"Data Structure\",\n",
    "\"Programming\",\n",
    "\"Algorithms\"]\n",
    "}\n",
    "]\n",
    "}"
   ]
  },
  {
   "cell_type": "code",
   "execution_count": 36,
   "id": "efadb214",
   "metadata": {},
   "outputs": [],
   "source": [
    "import json\n",
    "with open('student_file.json', 'w') as json_file :\n",
    "    json.dump(student_data, json_file)"
   ]
  },
  {
   "cell_type": "code",
   "execution_count": 37,
   "id": "aba21a43",
   "metadata": {},
   "outputs": [
    {
     "name": "stdout",
     "output_type": "stream",
     "text": [
      "{\"1.FirstName\": \"Gildong\", \"2.LastName\": \"Hong\", \"3.Age\": 20, \"4.University\": \"Yonsei University\", \"5.Courses\": [{\"Major\": \"Statistics\", \"Classes\": [\"Probability\", \"Generalized Linear Model\", \"Categorical Data Analysis\"]}, {\"Minor\": \"ComputerScience\", \"Classes\": [\"Data Structure\", \"Programming\", \"Algorithms\"]}]}\n"
     ]
    }
   ],
   "source": [
    "st_json = json.dumps(student_data)\n",
    "print(st_json)"
   ]
  },
  {
   "cell_type": "code",
   "execution_count": 38,
   "id": "5fb53bd3",
   "metadata": {},
   "outputs": [
    {
     "name": "stdout",
     "output_type": "stream",
     "text": [
      "{\n",
      "    \"1.FirstName\": \"Gildong\",\n",
      "    \"2.LastName\": \"Hong\",\n",
      "    \"3.Age\": 20,\n",
      "    \"4.University\": \"Yonsei University\",\n",
      "    \"5.Courses\": [\n",
      "        {\n",
      "            \"Major\": \"Statistics\",\n",
      "            \"Classes\": [\n",
      "                \"Probability\",\n",
      "                \"Generalized Linear Model\",\n",
      "                \"Categorical Data Analysis\"\n",
      "            ]\n",
      "        },\n",
      "        {\n",
      "            \"Minor\": \"ComputerScience\",\n",
      "            \"Classes\": [\n",
      "                \"Data Structure\",\n",
      "                \"Programming\",\n",
      "                \"Algorithms\"\n",
      "            ]\n",
      "        }\n",
      "    ]\n",
      "}\n"
     ]
    }
   ],
   "source": [
    "st_json2 = json.dumps(student_data, indent=4)\n",
    "print(st_json2)"
   ]
  },
  {
   "cell_type": "code",
   "execution_count": 39,
   "id": "b1a4857d",
   "metadata": {},
   "outputs": [
    {
     "name": "stdout",
     "output_type": "stream",
     "text": [
      "{\n",
      "    \"1.FirstName\": \"Gildong\",\n",
      "    \"2.LastName\": \"Hong\",\n",
      "    \"3.Age\": 20,\n",
      "    \"4.University\": \"Yonsei University\",\n",
      "    \"5.Courses\": [\n",
      "        {\n",
      "            \"Classes\": [\n",
      "                \"Probability\",\n",
      "                \"Generalized Linear Model\",\n",
      "                \"Categorical Data Analysis\"\n",
      "            ],\n",
      "            \"Major\": \"Statistics\"\n",
      "        },\n",
      "        {\n",
      "            \"Classes\": [\n",
      "                \"Data Structure\",\n",
      "                \"Programming\",\n",
      "                \"Algorithms\"\n",
      "            ],\n",
      "            \"Minor\": \"ComputerScience\"\n",
      "        }\n",
      "    ]\n",
      "}\n"
     ]
    }
   ],
   "source": [
    "st_json3 = json.dumps(student_data, indent=4, sort_keys=True)\n",
    "print(st_json3)"
   ]
  },
  {
   "cell_type": "code",
   "execution_count": 41,
   "id": "9e60bf28",
   "metadata": {},
   "outputs": [
    {
     "name": "stdout",
     "output_type": "stream",
     "text": [
      "   name  age\n",
      "0  Jack   26\n",
      "1   Ace   87\n"
     ]
    }
   ],
   "source": [
    "import json\n",
    "with open('test.json') as f:\n",
    "    js = json.loads(f.read()) ## json 라이브러리 이용\n",
    "df1 = pd.DataFrame(js)\n",
    "print(df1)"
   ]
  },
  {
   "cell_type": "code",
   "execution_count": 42,
   "id": "529ea915",
   "metadata": {},
   "outputs": [
    {
     "name": "stdout",
     "output_type": "stream",
     "text": [
      "   name  age\n",
      "0  Jack   26\n",
      "1   Ace   87\n"
     ]
    }
   ],
   "source": [
    "df2 = pd.read_json('test.json')\n",
    "print(df2)"
   ]
  },
  {
   "cell_type": "code",
   "execution_count": 43,
   "id": "c996324f",
   "metadata": {},
   "outputs": [
    {
     "data": {
      "text/plain": [
       "'{\"name\":{\"0\":\"Jack\",\"1\":\"Ace\"},\"age\":{\"0\":26,\"1\":87}}'"
      ]
     },
     "execution_count": 43,
     "metadata": {},
     "output_type": "execute_result"
    }
   ],
   "source": [
    "df1.to_json() # name, age 열이름"
   ]
  },
  {
   "cell_type": "code",
   "execution_count": 48,
   "id": "3c20207b",
   "metadata": {},
   "outputs": [
    {
     "data": {
      "text/html": [
       "<div>\n",
       "<style scoped>\n",
       "    .dataframe tbody tr th:only-of-type {\n",
       "        vertical-align: middle;\n",
       "    }\n",
       "\n",
       "    .dataframe tbody tr th {\n",
       "        vertical-align: top;\n",
       "    }\n",
       "\n",
       "    .dataframe thead th {\n",
       "        text-align: right;\n",
       "    }\n",
       "</style>\n",
       "<table border=\"1\" class=\"dataframe\">\n",
       "  <thead>\n",
       "    <tr style=\"text-align: right;\">\n",
       "      <th></th>\n",
       "      <th>name</th>\n",
       "      <th>age</th>\n",
       "    </tr>\n",
       "  </thead>\n",
       "  <tbody>\n",
       "    <tr>\n",
       "      <th>0</th>\n",
       "      <td>Jack</td>\n",
       "      <td>26</td>\n",
       "    </tr>\n",
       "    <tr>\n",
       "      <th>1</th>\n",
       "      <td>Ace</td>\n",
       "      <td>87</td>\n",
       "    </tr>\n",
       "  </tbody>\n",
       "</table>\n",
       "</div>"
      ],
      "text/plain": [
       "   name  age\n",
       "0  Jack   26\n",
       "1   Ace   87"
      ]
     },
     "execution_count": 48,
     "metadata": {},
     "output_type": "execute_result"
    }
   ],
   "source": [
    "pd.DataFrame({\"name\":{\"0\":\"Jack\",\"1\":\"Ace\"},\"age\":{\"0\":26,\"1\":87}})"
   ]
  },
  {
   "cell_type": "code",
   "execution_count": 45,
   "id": "f57cfd85",
   "metadata": {},
   "outputs": [
    {
     "data": {
      "text/plain": [
       "'[{\"name\":\"Jack\",\"age\":26},{\"name\":\"Ace\",\"age\":87}]'"
      ]
     },
     "execution_count": 45,
     "metadata": {},
     "output_type": "execute_result"
    }
   ],
   "source": [
    "df1.to_json(orient='records') "
   ]
  },
  {
   "cell_type": "code",
   "execution_count": 49,
   "id": "a2703181",
   "metadata": {},
   "outputs": [
    {
     "data": {
      "text/html": [
       "<div>\n",
       "<style scoped>\n",
       "    .dataframe tbody tr th:only-of-type {\n",
       "        vertical-align: middle;\n",
       "    }\n",
       "\n",
       "    .dataframe tbody tr th {\n",
       "        vertical-align: top;\n",
       "    }\n",
       "\n",
       "    .dataframe thead th {\n",
       "        text-align: right;\n",
       "    }\n",
       "</style>\n",
       "<table border=\"1\" class=\"dataframe\">\n",
       "  <thead>\n",
       "    <tr style=\"text-align: right;\">\n",
       "      <th></th>\n",
       "      <th>name</th>\n",
       "      <th>age</th>\n",
       "    </tr>\n",
       "  </thead>\n",
       "  <tbody>\n",
       "    <tr>\n",
       "      <th>0</th>\n",
       "      <td>Jack</td>\n",
       "      <td>26</td>\n",
       "    </tr>\n",
       "    <tr>\n",
       "      <th>1</th>\n",
       "      <td>Ace</td>\n",
       "      <td>87</td>\n",
       "    </tr>\n",
       "  </tbody>\n",
       "</table>\n",
       "</div>"
      ],
      "text/plain": [
       "   name  age\n",
       "0  Jack   26\n",
       "1   Ace   87"
      ]
     },
     "execution_count": 49,
     "metadata": {},
     "output_type": "execute_result"
    }
   ],
   "source": [
    "pd.DataFrame([{\"name\":\"Jack\",\"age\":26},{\"name\":\"Ace\",\"age\":87}])"
   ]
  },
  {
   "cell_type": "code",
   "execution_count": 46,
   "id": "eef41344",
   "metadata": {},
   "outputs": [
    {
     "data": {
      "text/plain": [
       "'{\"0\":{\"name\":\"Jack\",\"age\":26},\"1\":{\"name\":\"Ace\",\"age\":87}}'"
      ]
     },
     "execution_count": 46,
     "metadata": {},
     "output_type": "execute_result"
    }
   ],
   "source": [
    "df1.to_json(orient='index') "
   ]
  },
  {
   "cell_type": "code",
   "execution_count": 50,
   "id": "54e7745b",
   "metadata": {},
   "outputs": [
    {
     "data": {
      "text/html": [
       "<div>\n",
       "<style scoped>\n",
       "    .dataframe tbody tr th:only-of-type {\n",
       "        vertical-align: middle;\n",
       "    }\n",
       "\n",
       "    .dataframe tbody tr th {\n",
       "        vertical-align: top;\n",
       "    }\n",
       "\n",
       "    .dataframe thead th {\n",
       "        text-align: right;\n",
       "    }\n",
       "</style>\n",
       "<table border=\"1\" class=\"dataframe\">\n",
       "  <thead>\n",
       "    <tr style=\"text-align: right;\">\n",
       "      <th></th>\n",
       "      <th>0</th>\n",
       "      <th>1</th>\n",
       "    </tr>\n",
       "  </thead>\n",
       "  <tbody>\n",
       "    <tr>\n",
       "      <th>name</th>\n",
       "      <td>Jack</td>\n",
       "      <td>Ace</td>\n",
       "    </tr>\n",
       "    <tr>\n",
       "      <th>age</th>\n",
       "      <td>26</td>\n",
       "      <td>87</td>\n",
       "    </tr>\n",
       "  </tbody>\n",
       "</table>\n",
       "</div>"
      ],
      "text/plain": [
       "         0    1\n",
       "name  Jack  Ace\n",
       "age     26   87"
      ]
     },
     "execution_count": 50,
     "metadata": {},
     "output_type": "execute_result"
    }
   ],
   "source": [
    "pd.DataFrame({\"0\":{\"name\":\"Jack\",\"age\":26},\"1\":{\"name\":\"Ace\",\"age\":87}})"
   ]
  },
  {
   "cell_type": "code",
   "execution_count": 74,
   "id": "40fd7c64",
   "metadata": {},
   "outputs": [
    {
     "name": "stdout",
     "output_type": "stream",
     "text": [
      "dict_keys(['prizes']) \n",
      "\n",
      "dict_keys(['year', 'category', 'laureates']) \n",
      "\n",
      "{\n",
      "    \"year\": \"2021\",\n",
      "    \"category\": \"chemistry\",\n",
      "    \"laureates\": [\n",
      "        {\n",
      "            \"id\": \"1002\",\n",
      "            \"firstname\": \"Benjamin\",\n",
      "            \"surname\": \"List\",\n",
      "            \"motivation\": \"\\\"for the development of asymmetric organocatalysis\\\"\",\n",
      "            \"share\": \"2\"\n",
      "        },\n",
      "        {\n",
      "            \"id\": \"1003\",\n",
      "            \"firstname\": \"David\",\n",
      "            \"surname\": \"MacMillan\",\n",
      "            \"motivation\": \"\\\"for the development of asymmetric organocatalysis\\\"\",\n",
      "            \"share\": \"2\"\n",
      "        }\n",
      "    ]\n",
      "}\n"
     ]
    }
   ],
   "source": [
    "import json\n",
    "import urllib\n",
    "import pandas as pd\n",
    "import sys\n",
    "from urllib.request import Request, urlopen\n",
    "\n",
    "urlTicker = Request(\"http://api.nobelprize.org/v1/prize.json\", headers={'User-Agent': 'Mozilla/5.0'})\n",
    "readTicker = urlopen(urlTicker).read()\n",
    "jsonTicker = json.loads(readTicker)\n",
    "\n",
    "print(jsonTicker.keys(), '\\n')\n",
    "print(jsonTicker['prizes'][0].keys(), '\\n')\n",
    "print(json.dumps(jsonTicker['prizes'][0], indent=4))"
   ]
  },
  {
   "cell_type": "code",
   "execution_count": 75,
   "id": "f4d6b1e4",
   "metadata": {},
   "outputs": [
    {
     "name": "stdout",
     "output_type": "stream",
     "text": [
      "{\n",
      "    \"category\": \"chemistry\",\n",
      "    \"laureates\": [\n",
      "        {\n",
      "            \"firstname\": \"Benjamin\",\n",
      "            \"id\": \"1002\",\n",
      "            \"motivation\": \"\\\"for the development of asymmetric organocatalysis\\\"\",\n",
      "            \"share\": \"2\",\n",
      "            \"surname\": \"List\"\n",
      "        },\n",
      "        {\n",
      "            \"firstname\": \"David\",\n",
      "            \"id\": \"1003\",\n",
      "            \"motivation\": \"\\\"for the development of asymmetric organocatalysis\\\"\",\n",
      "            \"share\": \"2\",\n",
      "            \"surname\": \"MacMillan\"\n",
      "        }\n",
      "    ],\n",
      "    \"year\": \"2021\"\n",
      "}\n"
     ]
    }
   ],
   "source": [
    "print(json.dumps(jsonTicker['prizes'][0], indent=4, sort_keys=True))"
   ]
  },
  {
   "cell_type": "code",
   "execution_count": 58,
   "id": "f858ae69",
   "metadata": {},
   "outputs": [
    {
     "name": "stdout",
     "output_type": "stream",
     "text": [
      "<Element 'CATALOG' at 0x0000014965F08360>\n"
     ]
    }
   ],
   "source": [
    "import pandas as pd\n",
    "import xml.etree.ElementTree as ET\n",
    "import sys\n",
    "if sys.version_info[0] == 3:\n",
    "    from urllib.request import urlopen\n",
    "else:\n",
    "    from urllib import urlopen\n",
    "url = \"https://www.w3schools.com/xml/cd_catalog.xml\"\n",
    "response = urlopen(url).read()\n",
    "xtree = ET.fromstring(response)\n",
    "print(xtree)"
   ]
  },
  {
   "cell_type": "code",
   "execution_count": 60,
   "id": "e9e88173",
   "metadata": {},
   "outputs": [
    {
     "name": "stdout",
     "output_type": "stream",
     "text": [
      "[{'title': 'Empire Burlesque', 'artist': 'Bob Dylan', 'country': 'USA', 'company': 'Columbia', 'price': '10.90', 'year': '1985'}, {'title': 'Hide your heart', 'artist': 'Bonnie Tyler', 'country': 'UK', 'company': 'CBS Records', 'price': '9.90', 'year': '1988'}, {'title': 'Greatest Hits', 'artist': 'Dolly Parton', 'country': 'USA', 'company': 'RCA', 'price': '9.90', 'year': '1982'}, {'title': 'Still got the blues', 'artist': 'Gary Moore', 'country': 'UK', 'company': 'Virgin records', 'price': '10.20', 'year': '1990'}, {'title': 'Eros', 'artist': 'Eros Ramazzotti', 'country': 'EU', 'company': 'BMG', 'price': '9.90', 'year': '1997'}, {'title': 'One night only', 'artist': 'Bee Gees', 'country': 'UK', 'company': 'Polydor', 'price': '10.90', 'year': '1998'}, {'title': 'Sylvias Mother', 'artist': 'Dr.Hook', 'country': 'UK', 'company': 'CBS', 'price': '8.10', 'year': '1973'}, {'title': 'Maggie May', 'artist': 'Rod Stewart', 'country': 'UK', 'company': 'Pickwick', 'price': '8.50', 'year': '1990'}, {'title': 'Romanza', 'artist': 'Andrea Bocelli', 'country': 'EU', 'company': 'Polydor', 'price': '10.80', 'year': '1996'}, {'title': 'When a man loves a woman', 'artist': 'Percy Sledge', 'country': 'USA', 'company': 'Atlantic', 'price': '8.70', 'year': '1987'}, {'title': 'Black angel', 'artist': 'Savage Rose', 'country': 'EU', 'company': 'Mega', 'price': '10.90', 'year': '1995'}, {'title': '1999 Grammy Nominees', 'artist': 'Many', 'country': 'USA', 'company': 'Grammy', 'price': '10.20', 'year': '1999'}, {'title': 'For the good times', 'artist': 'Kenny Rogers', 'country': 'UK', 'company': 'Mucik Master', 'price': '8.70', 'year': '1995'}, {'title': 'Big Willie style', 'artist': 'Will Smith', 'country': 'USA', 'company': 'Columbia', 'price': '9.90', 'year': '1997'}, {'title': 'Tupelo Honey', 'artist': 'Van Morrison', 'country': 'UK', 'company': 'Polydor', 'price': '8.20', 'year': '1971'}, {'title': 'Soulsville', 'artist': 'Jorn Hoel', 'country': 'Norway', 'company': 'WEA', 'price': '7.90', 'year': '1996'}, {'title': 'The very best of', 'artist': 'Cat Stevens', 'country': 'UK', 'company': 'Island', 'price': '8.90', 'year': '1990'}, {'title': 'Stop', 'artist': 'Sam Brown', 'country': 'UK', 'company': 'A and M', 'price': '8.90', 'year': '1988'}, {'title': 'Bridge of Spies', 'artist': \"T'Pau\", 'country': 'UK', 'company': 'Siren', 'price': '7.90', 'year': '1987'}, {'title': 'Private Dancer', 'artist': 'Tina Turner', 'country': 'UK', 'company': 'Capitol', 'price': '8.90', 'year': '1983'}, {'title': 'Midt om natten', 'artist': 'Kim Larsen', 'country': 'EU', 'company': 'Medley', 'price': '7.80', 'year': '1983'}, {'title': 'Pavarotti Gala Concert', 'artist': 'Luciano Pavarotti', 'country': 'UK', 'company': 'DECCA', 'price': '9.90', 'year': '1991'}, {'title': 'The dock of the bay', 'artist': 'Otis Redding', 'country': 'USA', 'company': 'Stax Records', 'price': '7.90', 'year': '1968'}, {'title': 'Picture book', 'artist': 'Simply Red', 'country': 'EU', 'company': 'Elektra', 'price': '7.20', 'year': '1985'}, {'title': 'Red', 'artist': 'The Communards', 'country': 'UK', 'company': 'London', 'price': '7.80', 'year': '1987'}, {'title': 'Unchain my heart', 'artist': 'Joe Cocker', 'country': 'USA', 'company': 'EMI', 'price': '8.20', 'year': '1987'}]\n"
     ]
    }
   ],
   "source": [
    "rows = []\n",
    "# iterate through each node of the tree\n",
    "for node in xtree:\n",
    "    n_title = node.find(\"TITLE\").text\n",
    "    n_artist = node.find(\"ARTIST\").text\n",
    "    n_country = node.find(\"COUNTRY\").text\n",
    "    n_company = node.find(\"COMPANY\").text\n",
    "    n_price = node.find(\"PRICE\").text\n",
    "    n_year = node.find(\"YEAR\").text\n",
    "    rows.append({\"title\": n_title,\n",
    "            \"artist\": n_artist,\n",
    "            \"country\": n_country,\n",
    "            \"company\": n_company,\n",
    "            \"price\": n_price,\n",
    "            \"year\": n_year})\n",
    "print(rows)"
   ]
  },
  {
   "cell_type": "code",
   "execution_count": 80,
   "id": "bfd178a1",
   "metadata": {},
   "outputs": [
    {
     "name": "stdout",
     "output_type": "stream",
     "text": [
      "title      object\n",
      "artist     object\n",
      "country    object\n",
      "company    object\n",
      "price      object\n",
      "year       object\n",
      "dtype: object \n",
      "\n",
      "title       object\n",
      "artist      object\n",
      "country     object\n",
      "company     object\n",
      "price      float64\n",
      "year         int32\n",
      "dtype: object \n",
      "\n",
      "country\n",
      "EU        9.320000\n",
      "Norway    7.900000\n",
      "UK        8.984615\n",
      "USA       9.385714\n",
      "Name: price, dtype: float64\n"
     ]
    }
   ],
   "source": [
    "import matplotlib.pyplot as plt\n",
    "#XML text data를 dict로 저장된 list를 pandas DataFrame으로 변환\n",
    "columns = [\"title\", \"artist\", \"country\", \"company\", \"price\", \"year\"]\n",
    "catalog_cd_df = pd.DataFrame(rows, columns = columns)\n",
    "catalog_cd_df.head(10)\n",
    "#df.dtypes 로 각 칼럼의 데이터 형태를 확인 - 문자열 객체(string object)\n",
    "print(catalog_cd_df.dtypes, '\\n')\n",
    "# astype()을 이용하여 칼럼 중에서 price는 float64, year는 int32로 변환\n",
    "import numpy as np\n",
    "catalog_cd_df = catalog_cd_df.astype({'price': np.float64, 'year': int})\n",
    "print(catalog_cd_df.dtypes, '\\n')\n",
    "country_mean = catalog_cd_df.groupby('country').price.mean()\n",
    "print(country_mean)\n",
    "country_mean_df = pd.DataFrame(country_mean).reset_index()"
   ]
  },
  {
   "cell_type": "code",
   "execution_count": 77,
   "id": "189d9eb6",
   "metadata": {},
   "outputs": [
    {
     "data": {
      "image/png": "[encoded data removed]",
      "text/plain": [
       "<Figure size 432x288 with 1 Axes>"
      ]
     },
     "metadata": {
      "needs_background": "light"
     },
     "output_type": "display_data"
    }
   ],
   "source": [
    "import seaborn as sns\n",
    "sns.barplot(x='country', y='price', data=country_mean_df)\n",
    "plt.show()"
   ]
  },
  {
   "cell_type": "code",
   "execution_count": 94,
   "id": "5e4af108",
   "metadata": {},
   "outputs": [
    {
     "name": "stdout",
     "output_type": "stream",
     "text": [
      "    id              region  sales_representative  sales_amount\n",
      "0  1.0               seoul                 510.0        1500.0\n",
      "1  2.0              inchon                 430.0        1260.0\n",
      "2  3.0               busan                 320.0        1090.0\n",
      "3  4.0             guangju                 180.0         550.0\n",
      "4  5.0               ulsan                 135.0         380.0\n",
      "5  6.0              sejong                 110.0         290.0\n",
      "6  7.0              jeunju                  83.0         235.0\n",
      "7  NaN  # ignore this line                   NaN           NaN\n",
      "<class 'pandas.core.frame.DataFrame'>\n",
      "RangeIndex: 8 entries, 0 to 7\n",
      "Data columns (total 4 columns):\n",
      " #   Column                Non-Null Count  Dtype  \n",
      "---  ------                --------------  -----  \n",
      " 0   id                    7 non-null      float64\n",
      " 1   region                8 non-null      object \n",
      " 2   sales_representative  7 non-null      float64\n",
      " 3   sales_amount          7 non-null      float64\n",
      "dtypes: float64(3), object(1)\n",
      "memory usage: 384.0+ bytes\n",
      "None\n"
     ]
    }
   ],
   "source": [
    "df3 = pd.read_excel('./datas/sales_per_region.xlsx', sheet_name = 'Sheet1', header=2)\n",
    "                   #dtype = {'region':str, 'sales_representative':np.int64, 'sales_amount':float},\n",
    "                   #index_col = 'id', na_values='NaN', nrows=7)\n",
    "print(df3)\n",
    "print(df3.info())"
   ]
  },
  {
   "cell_type": "code",
   "execution_count": null,
   "id": "7227a1ee",
   "metadata": {},
   "outputs": [],
   "source": [
    "import numpy as np\n",
    "import pandas as pd\n",
    "import os\n",
    "base_dir = 'D:/admin/Documents'\n",
    "excel_file = 'sales_per_region.xlsx'\n",
    "excel_dir = os.path.join(base_dir, excel_file)\n",
    "df_from_excel = pd.read_excel(excel_dir, sheet_name = 'Sheet1', header = 2,\n",
    "#names = ['region', 'sales_representative', 'sales_amount'],\n",
    "dtype = {'region': str, 'sales_representative': np.int64, 'sales_amount': float}, # dictionary type\n",
    "index_col = 'id', na_values = 'NaN', thousands = ',',\n",
    "nrows = 10, comment = '#')"
   ]
  },
  {
   "cell_type": "code",
   "execution_count": 95,
   "id": "a11ef04b",
   "metadata": {},
   "outputs": [
    {
     "name": "stdout",
     "output_type": "stream",
     "text": [
      "     PassengerId  Survived  Pclass  \\\n",
      "0              1         0       3   \n",
      "1              2         1       1   \n",
      "2              3         1       3   \n",
      "3              4         1       1   \n",
      "4              5         0       3   \n",
      "..           ...       ...     ...   \n",
      "886          887         0       2   \n",
      "887          888         1       1   \n",
      "888          889         0       3   \n",
      "889          890         1       1   \n",
      "890          891         0       3   \n",
      "\n",
      "                                                  Name     Sex   Age  SibSp  \\\n",
      "0                              Braund, Mr. Owen Harris    male  22.0      1   \n",
      "1    Cumings, Mrs. John Bradley (Florence Briggs Th...  female  38.0      1   \n",
      "2                               Heikkinen, Miss. Laina  female  26.0      0   \n",
      "3         Futrelle, Mrs. Jacques Heath (Lily May Peel)  female  35.0      1   \n",
      "4                             Allen, Mr. William Henry    male  35.0      0   \n",
      "..                                                 ...     ...   ...    ...   \n",
      "886                              Montvila, Rev. Juozas    male  27.0      0   \n",
      "887                       Graham, Miss. Margaret Edith  female  19.0      0   \n",
      "888           Johnston, Miss. Catherine Helen \"Carrie\"  female   NaN      1   \n",
      "889                              Behr, Mr. Karl Howell    male  26.0      0   \n",
      "890                                Dooley, Mr. Patrick    male  32.0      0   \n",
      "\n",
      "     Parch            Ticket     Fare Cabin Embarked  \n",
      "0        0         A/5 21171   7.2500   NaN        S  \n",
      "1        0          PC 17599  71.2833   C85        C  \n",
      "2        0  STON/O2. 3101282   7.9250   NaN        S  \n",
      "3        0            113803  53.1000  C123        S  \n",
      "4        0            373450   8.0500   NaN        S  \n",
      "..     ...               ...      ...   ...      ...  \n",
      "886      0            211536  13.0000   NaN        S  \n",
      "887      0            112053  30.0000   B42        S  \n",
      "888      2        W./C. 6607  23.4500   NaN        S  \n",
      "889      0            111369  30.0000  C148        C  \n",
      "890      0            370376   7.7500   NaN        Q  \n",
      "\n",
      "[891 rows x 12 columns]\n"
     ]
    }
   ],
   "source": [
    "import pandas as pd\n",
    "df = pd.read_csv(\"https://raw.githubusercontent.com/datascienceschool/docker_rpython/master/data/titanic.csv\")\n",
    "pd.set_option(\"display.max_rows\", 20) # 앞뒤로 모두 20행만 보여준다.\n",
    "print( df )"
   ]
  },
  {
   "cell_type": "code",
   "execution_count": 96,
   "id": "ce7f866e",
   "metadata": {},
   "outputs": [
    {
     "name": "stdout",
     "output_type": "stream",
     "text": [
      "(3, 38, 2)\n"
     ]
    }
   ],
   "source": [
    "import sqlite3\n",
    "print(sqlite3.sqlite_version_info) # (3, 28, 0)"
   ]
  },
  {
   "cell_type": "code",
   "execution_count": 5,
   "id": "b5b95383",
   "metadata": {},
   "outputs": [],
   "source": [
    "import cx_Oracle"
   ]
  },
  {
   "cell_type": "code",
   "execution_count": 6,
   "id": "4a83c76c",
   "metadata": {},
   "outputs": [],
   "source": [
    "#한글 지원 방법\n",
    "import os\n",
    "os.putenv('NLS_LANG', '.UTF8')"
   ]
  },
  {
   "cell_type": "code",
   "execution_count": 13,
   "id": "39c12906",
   "metadata": {},
   "outputs": [],
   "source": [
    "connection = cx_Oracle.connect('c##scott', 'oracle', '192.168.219.100/xe')\n",
    "cursor = connection.cursor()"
   ]
  },
  {
   "cell_type": "code",
   "execution_count": 16,
   "id": "8a9eebd8",
   "metadata": {},
   "outputs": [
    {
     "name": "stdout",
     "output_type": "stream",
     "text": [
      "<cx_Oracle.Cursor on <cx_Oracle.Connection to c##scott@192.168.219.100/xe>>\n"
     ]
    }
   ],
   "source": [
    "cursor.execute(\"\"\"\n",
    "select *\n",
    "from emp\n",
    "where deptno = 10\"\"\")\n",
    "print(cursor)"
   ]
  },
  {
   "cell_type": "code",
   "execution_count": 17,
   "id": "ad150ea3",
   "metadata": {},
   "outputs": [
    {
     "name": "stdout",
     "output_type": "stream",
     "text": [
      "테스트 이름 리스트 :  (7000, '홍길동', None, None, None, 3000.0, None, 10)\n",
      "테스트 이름 리스트 :  (7782, 'CLARK', 'MANAGER', 7839, datetime.datetime(1981, 6, 9, 0, 0), 2450.0, None, 10)\n",
      "테스트 이름 리스트 :  (7839, 'KING', 'PRESIDENT', None, datetime.datetime(1981, 11, 17, 0, 0), 5000.0, None, 10)\n",
      "테스트 이름 리스트 :  (7934, 'MILLER', 'CLERK', 7782, datetime.datetime(1982, 1, 23, 0, 0), 1300.0, None, 10)\n"
     ]
    }
   ],
   "source": [
    "#연결에 필요한 기본 정보(유저, 비밀번호, 데이터베이스 서버 주소)\n",
    "for name in cursor:\n",
    "    print(\"테스트 이름 리스트 : \", name)"
   ]
  },
  {
   "cell_type": "code",
   "execution_count": 28,
   "id": "dc274098",
   "metadata": {},
   "outputs": [
    {
     "name": "stdout",
     "output_type": "stream",
     "text": [
      "Empty DataFrame\n",
      "Columns: [반, 번호, 국어, 영어, 수학]\n",
      "Index: []\n"
     ]
    },
    {
     "ename": "ValueError",
     "evalue": "Length of new names must be 1, got 2",
     "output_type": "error",
     "traceback": [
      "\u001b[1;31m---------------------------------------------------------------------------\u001b[0m",
      "\u001b[1;31mValueError\u001b[0m                                Traceback (most recent call last)",
      "Input \u001b[1;32mIn [28]\u001b[0m, in \u001b[0;36m<cell line: 4>\u001b[1;34m()\u001b[0m\n\u001b[0;32m      2\u001b[0m df_score3 \u001b[38;5;241m=\u001b[39m pd\u001b[38;5;241m.\u001b[39mDataFrame(columns \u001b[38;5;241m=\u001b[39m [\u001b[38;5;124m'\u001b[39m\u001b[38;5;124m반\u001b[39m\u001b[38;5;124m'\u001b[39m, \u001b[38;5;124m'\u001b[39m\u001b[38;5;124m번호\u001b[39m\u001b[38;5;124m'\u001b[39m, \u001b[38;5;124m'\u001b[39m\u001b[38;5;124m국어\u001b[39m\u001b[38;5;124m'\u001b[39m, \u001b[38;5;124m'\u001b[39m\u001b[38;5;124m영어\u001b[39m\u001b[38;5;124m'\u001b[39m, \u001b[38;5;124m'\u001b[39m\u001b[38;5;124m수학\u001b[39m\u001b[38;5;124m'\u001b[39m])\n\u001b[0;32m      3\u001b[0m \u001b[38;5;28mprint\u001b[39m(df_score3)\n\u001b[1;32m----> 4\u001b[0m df_score3\u001b[38;5;241m.\u001b[39mindex\u001b[38;5;241m.\u001b[39mnames \u001b[38;5;241m=\u001b[39m [\u001b[38;5;124m'\u001b[39m\u001b[38;5;124m반\u001b[39m\u001b[38;5;124m'\u001b[39m, \u001b[38;5;124m'\u001b[39m\u001b[38;5;124m번호\u001b[39m\u001b[38;5;124m'\u001b[39m]\n",
      "File \u001b[1;32mC:\\anaconda3\\lib\\site-packages\\pandas\\core\\indexes\\base.py:1723\u001b[0m, in \u001b[0;36mIndex._set_names\u001b[1;34m(self, values, level)\u001b[0m\n\u001b[0;32m   1721\u001b[0m     \u001b[38;5;28;01mraise\u001b[39;00m \u001b[38;5;167;01mValueError\u001b[39;00m(\u001b[38;5;124m\"\u001b[39m\u001b[38;5;124mNames must be a list-like\u001b[39m\u001b[38;5;124m\"\u001b[39m)\n\u001b[0;32m   1722\u001b[0m \u001b[38;5;28;01mif\u001b[39;00m \u001b[38;5;28mlen\u001b[39m(values) \u001b[38;5;241m!=\u001b[39m \u001b[38;5;241m1\u001b[39m:\n\u001b[1;32m-> 1723\u001b[0m     \u001b[38;5;28;01mraise\u001b[39;00m \u001b[38;5;167;01mValueError\u001b[39;00m(\u001b[38;5;124mf\u001b[39m\u001b[38;5;124m\"\u001b[39m\u001b[38;5;124mLength of new names must be 1, got \u001b[39m\u001b[38;5;132;01m{\u001b[39;00m\u001b[38;5;28mlen\u001b[39m(values)\u001b[38;5;132;01m}\u001b[39;00m\u001b[38;5;124m\"\u001b[39m)\n\u001b[0;32m   1725\u001b[0m \u001b[38;5;66;03m# GH 20527\u001b[39;00m\n\u001b[0;32m   1726\u001b[0m \u001b[38;5;66;03m# All items in 'name' need to be hashable:\u001b[39;00m\n\u001b[0;32m   1727\u001b[0m validate_all_hashable(\u001b[38;5;241m*\u001b[39mvalues, error_name\u001b[38;5;241m=\u001b[39m\u001b[38;5;124mf\u001b[39m\u001b[38;5;124m\"\u001b[39m\u001b[38;5;132;01m{\u001b[39;00m\u001b[38;5;28mtype\u001b[39m(\u001b[38;5;28mself\u001b[39m)\u001b[38;5;241m.\u001b[39m\u001b[38;5;18m__name__\u001b[39m\u001b[38;5;132;01m}\u001b[39;00m\u001b[38;5;124m.name\u001b[39m\u001b[38;5;124m\"\u001b[39m)\n",
      "\u001b[1;31mValueError\u001b[0m: Length of new names must be 1, got 2"
     ]
    }
   ],
   "source": [
    "import pandas as pd\n",
    "df_score3 = pd.DataFrame(columns = ['반', '번호', '국어', '영어', '수학'])\n",
    "print(df_score3)\n",
    "df_score3.index.names = ['반', '번호']"
   ]
  },
  {
   "cell_type": "code",
   "execution_count": 30,
   "id": "a8cd4c4e",
   "metadata": {},
   "outputs": [
    {
     "name": "stdout",
     "output_type": "stream",
     "text": [
      "   고객번호   이름\n",
      "0  1001   둘리\n",
      "1  1002  도우너\n",
      "2  1003   또치\n",
      "3  1004   길동\n",
      "4  1005   희동\n",
      "5  1006  마이콜\n",
      "6  1007   영희\n",
      "   고객번호      금액\n",
      "0  1001   10000\n",
      "1  1001   20000\n",
      "2  1005   15000\n",
      "3  1006    5000\n",
      "4  1008  100000\n",
      "5  1001   30000\n"
     ]
    }
   ],
   "source": [
    "df1 = pd.DataFrame({ '고객번호': [1001, 1002, 1003, 1004, 1005, 1006, 1007],\n",
    "                    '이름': ['둘리', '도우너', '또치', '길동', '희동', '마이콜', '영희']}, \n",
    "                    columns=['고객번호', '이름'])\n",
    "print(df1)\n",
    "df2 = pd.DataFrame({ '고객번호': [1001, 1001, 1005, 1006, 1008, 1001],\n",
    "                    '금액': [10000, 20000, 15000, 5000, 100000, 30000]}, \n",
    "                    columns=['고객번호', '금액'])\n",
    "print(df2)"
   ]
  },
  {
   "cell_type": "code",
   "execution_count": 31,
   "id": "86ba5347",
   "metadata": {},
   "outputs": [
    {
     "name": "stdout",
     "output_type": "stream",
     "text": [
      "   고객번호   이름     금액\n",
      "0  1001   둘리  10000\n",
      "1  1001   둘리  20000\n",
      "2  1001   둘리  30000\n",
      "3  1005   희동  15000\n",
      "4  1006  마이콜   5000\n"
     ]
    }
   ],
   "source": [
    "print(pd.merge(df1, df2))"
   ]
  },
  {
   "cell_type": "code",
   "execution_count": 32,
   "id": "378b47e4",
   "metadata": {},
   "outputs": [
    {
     "name": "stdout",
     "output_type": "stream",
     "text": [
      "   고객번호   이름        금액\n",
      "0  1001   둘리   10000.0\n",
      "1  1001   둘리   20000.0\n",
      "2  1001   둘리   30000.0\n",
      "3  1002  도우너       NaN\n",
      "4  1003   또치       NaN\n",
      "5  1004   길동       NaN\n",
      "6  1005   희동   15000.0\n",
      "7  1006  마이콜    5000.0\n",
      "8  1007   영희       NaN\n",
      "9  1008  NaN  100000.0\n"
     ]
    }
   ],
   "source": [
    "print(pd.merge(df1, df2, how='outer'))"
   ]
  },
  {
   "cell_type": "code",
   "execution_count": 33,
   "id": "230d5df9",
   "metadata": {},
   "outputs": [
    {
     "name": "stdout",
     "output_type": "stream",
     "text": [
      "   고객번호   이름       금액\n",
      "0  1001   둘리  10000.0\n",
      "1  1001   둘리  20000.0\n",
      "2  1001   둘리  30000.0\n",
      "3  1002  도우너      NaN\n",
      "4  1003   또치      NaN\n",
      "5  1004   길동      NaN\n",
      "6  1005   희동  15000.0\n",
      "7  1006  마이콜   5000.0\n",
      "8  1007   영희      NaN\n"
     ]
    }
   ],
   "source": [
    "print(pd.merge(df1, df2, how='left'))"
   ]
  },
  {
   "cell_type": "code",
   "execution_count": 34,
   "id": "37d9d6c2",
   "metadata": {},
   "outputs": [
    {
     "name": "stdout",
     "output_type": "stream",
     "text": [
      "   고객번호   이름      금액\n",
      "0  1001   둘리   10000\n",
      "1  1001   둘리   20000\n",
      "2  1005   희동   15000\n",
      "3  1006  마이콜    5000\n",
      "4  1008  NaN  100000\n",
      "5  1001   둘리   30000\n"
     ]
    }
   ],
   "source": [
    "print(pd.merge(df1, df2, how='right'))"
   ]
  }
 ],
 "metadata": {
  "kernelspec": {
   "display_name": "Python 3 (ipykernel)",
   "language": "python",
   "name": "python3"
  },
  "language_info": {
   "codemirror_mode": {
    "name": "ipython",
    "version": 3
   },
   "file_extension": ".py",
   "mimetype": "text/x-python",
   "name": "python",
   "nbconvert_exporter": "python",
   "pygments_lexer": "ipython3",
   "version": "3.9.12"
  }
 },
 "nbformat": 4,
 "nbformat_minor": 5
}
