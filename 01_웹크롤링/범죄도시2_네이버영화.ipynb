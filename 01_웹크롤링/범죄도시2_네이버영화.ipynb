{
 "cells": [
  {
   "cell_type": "markdown",
   "metadata": {},
   "source": [
    "## 관람객 평점&리뷰 추출"
   ]
  },
  {
   "cell_type": "markdown",
   "metadata": {},
   "source": [
    "1. 리뷰 페이지 링크 전달\n",
    "2. 그 페이지의 전체 리뷰&별점 추출 (함수)\n",
    "3. 다음 페이지로 넘어가서 똑같이 추출 (함수)"
   ]
  },
  {
   "cell_type": "code",
   "execution_count": 2,
   "metadata": {},
   "outputs": [],
   "source": [
    "import requests\n",
    "from bs4 import BeautifulSoup\n",
    "import re\n",
    "\n",
    "def get_review_viewer(box):\n",
    "    point = box.select_one('div em').text\n",
    "    try:\n",
    "        review = box.select_one('div p span a')['data-src']\n",
    "    except:\n",
    "        review = box.select_one('div p').text\n",
    "    return { \"point\": point, \"review\": review.replace('\\n관람객','').replace('\\t', '').replace('\\n', '').replace('\\r', '')}\n",
    "\n",
    "def get_page_reviews(url) :\n",
    "    page = requests.get(url)\n",
    "    soup = BeautifulSoup(page.text, 'html.parser')\n",
    "    elements = soup.select('div.score_result ul li')\n",
    "    return  [get_review_viewer(element)   for element in elements ]      "
   ]
  },
  {
   "cell_type": "code",
   "execution_count": 3,
   "metadata": {},
   "outputs": [],
   "source": [
    "#전체 리뷰 추출\n",
    "review_list=[]\n",
    "for i in range(1, 2732) :\n",
    "    review_list.extend(get_page_reviews('https://movie.naver.com/movie/bi/mi/pointWriteFormList.naver?code=192608&type=after&isActualPointWriteExecute=false&isMileageSubscriptionAlready=false&isMileageSubscriptionReject=false&page='+str(i)))"
   ]
  },
  {
   "cell_type": "code",
   "execution_count": 14,
   "metadata": {},
   "outputs": [
    {
     "name": "stdout",
     "output_type": "stream",
     "text": [
      "<class 'pandas.core.frame.DataFrame'>\n",
      "RangeIndex: 27309 entries, 0 to 27308\n",
      "Data columns (total 2 columns):\n",
      " #   Column  Non-Null Count  Dtype \n",
      "---  ------  --------------  ----- \n",
      " 0   point   27309 non-null  object\n",
      " 1   review  27309 non-null  object\n",
      "dtypes: object(2)\n",
      "memory usage: 426.8+ KB\n"
     ]
    }
   ],
   "source": [
    "#데이터 프레임 저장\n",
    "import pandas as pd\n",
    "review_df = pd.DataFrame(review_list)\n",
    "review_df.to_csv('범죄도시2_네이버영화_관람객리뷰.csv')\n",
    "review_df.info()"
   ]
  },
  {
   "cell_type": "markdown",
   "metadata": {},
   "source": [
    "## 전문가 평점&리뷰 추출"
   ]
  },
  {
   "cell_type": "code",
   "execution_count": 11,
   "metadata": {},
   "outputs": [],
   "source": [
    "import requests\n",
    "from bs4 import BeautifulSoup\n",
    "import re\n",
    "def get_review_pro(box, route):\n",
    "    point = box.select_one('div em').text\n",
    "    if route == 'div.score_result ul li':\n",
    "        review = box.select_one('div p').text\n",
    "    else:\n",
    "        review = box.select_one('p.tx_report').text\n",
    "    return { \"point\": point, \"review\": review}\n",
    "\n",
    "def get_page_reviews_pro(url, route) :\n",
    "    page = requests.get(url)\n",
    "    soup = BeautifulSoup(page.text, 'html.parser')\n",
    "    elements = soup.select(route)\n",
    "    return  [get_review_pro(element, route)   for element in elements ] "
   ]
  },
  {
   "cell_type": "code",
   "execution_count": 12,
   "metadata": {},
   "outputs": [
    {
     "name": "stdout",
     "output_type": "stream",
     "text": [
      "9\n"
     ]
    }
   ],
   "source": [
    "#전문가 리뷰 추출\n",
    "review_pro_list=[]\n",
    "review_pro_list.extend(get_page_reviews_pro('https://movie.naver.com/movie/bi/mi/point.naver?code=192608#', 'div.reporter ul li'))\n",
    "review_pro_list.extend(get_page_reviews_pro('https://movie.naver.com/movie/bi/mi/point.naver?code=192608#', 'div.score_result ul li'))\n",
    "print(len(review_pro_list))"
   ]
  },
  {
   "cell_type": "code",
   "execution_count": 13,
   "metadata": {},
   "outputs": [
    {
     "name": "stdout",
     "output_type": "stream",
     "text": [
      "<class 'pandas.core.frame.DataFrame'>\n",
      "RangeIndex: 9 entries, 0 to 8\n",
      "Data columns (total 2 columns):\n",
      " #   Column  Non-Null Count  Dtype \n",
      "---  ------  --------------  ----- \n",
      " 0   point   9 non-null      object\n",
      " 1   review  9 non-null      object\n",
      "dtypes: object(2)\n",
      "memory usage: 272.0+ bytes\n"
     ]
    }
   ],
   "source": [
    "#데이터 프레임 저장\n",
    "import pandas as pd\n",
    "review_pro_df = pd.DataFrame(review_pro_list)\n",
    "review_pro_df.to_csv('범죄도시2_네이버영화_전문가리뷰.csv')\n",
    "review_pro_df.info()"
   ]
  },
  {
   "cell_type": "markdown",
   "metadata": {},
   "source": [
    "## 자연어처리 > 토큰화"
   ]
  },
  {
   "cell_type": "code",
   "execution_count": null,
   "metadata": {},
   "outputs": [],
   "source": []
  }
 ],
 "metadata": {
  "kernelspec": {
   "display_name": "Python 3 (ipykernel)",
   "language": "python",
   "name": "python3"
  },
  "language_info": {
   "codemirror_mode": {
    "name": "ipython",
    "version": 3
   },
   "file_extension": ".py",
   "mimetype": "text/x-python",
   "name": "python",
   "nbconvert_exporter": "python",
   "pygments_lexer": "ipython3",
   "version": "3.9.12"
  },
  "toc": {
   "base_numbering": 1,
   "nav_menu": {},
   "number_sections": true,
   "sideBar": true,
   "skip_h1_title": false,
   "title_cell": "Table of Contents",
   "title_sidebar": "Contents",
   "toc_cell": false,
   "toc_position": {},
   "toc_section_display": true,
   "toc_window_display": false
  },
  "vscode": {
   "interpreter": {
    "hash": "631926b96873d2007fbe5ba14401cac9ce99e5e76ded0bffc18be58f3fefa61b"
   }
  }
 },
 "nbformat": 4,
 "nbformat_minor": 2
}
