{
 "cells": [
  {
   "cell_type": "code",
   "execution_count": null,
   "id": "e2379b51",
   "metadata": {},
   "outputs": [],
   "source": [
    "location =\"https://book.naver.com/bestsell/bestseller_list.nhn\"\n",
    "TIMEOUT = 3  \n",
    "try:\n",
    "    service = Service(executable_path=\"./chromedriver\")\n",
    "    driver = webdriver.Chrome(service=service)    #브라우저 실행시키위한 드라이버 객체 생성 (브라우저 실행)\n",
    "    driver.get(location)                          #url 요청\n",
    "    driver.implicitly_wait(TIMEOUT)               #응답데이터 받을때까지 지연\n",
    "\n",
    "    title = driver.find_element(by=By.CSS_SELECTOR, value=\"dt#book_title_0 > a\") \n",
    "    authors = driver.find_elements(by=By.CSS_SELECTOR, value=\"#section_bestseller > ol > li:nth-child(1) > dl > dd.txt_block > a.txt_name\")\n",
    "    print(title.text)\n",
    "    for author in authors :\n",
    "        print(author.text)\n",
    "    price = driver.find_element(by=By.CSS_SELECTOR, value=\"#section_bestseller > ol > li:nth-child(1) > dl > dd.txt_desc > em\")\n",
    "    print(price.text)    \n",
    "    \n",
    "except Exception:\n",
    "        raise\n",
    "finally:\n",
    "     if driver is not None:\n",
    "        driver.quit()  \n",
    "        \n",
    "    #book_title_0 > a"
   ]
  },
  {
   "cell_type": "code",
   "execution_count": null,
   "id": "dfc239fc",
   "metadata": {},
   "outputs": [],
   "source": [
    "def get_detailed_info(element):\n",
    "    # 1. 책 제목\n",
    "    title = element.find_element(By.CSS_SELECTOR, 'dt > a')\n",
    "    \n",
    "    # 2. 작가들\n",
    "    # a 는 여러개---------------------\n",
    "    # class=\"txt_name N=a:bel.author\"\n",
    "    # class=\"N=a:bel.publisher\">    \n",
    "    authors = []\n",
    "    a_tags = element.find_elements(By.CSS_SELECTOR, 'dd.txt_block > a') \n",
    "    for idx, a in enumerate(a_tags) :\n",
    "        class_ = a.get_attribute('class')\n",
    "        if 'N=a:bel.author' in class_:\n",
    "            authors.append(a.text)         \n",
    "    authors = ','.join(authors)\n",
    "    \n",
    "    # 3. 가격\n",
    "    price = element.find_element(By.CSS_SELECTOR, 'dd.txt_desc > em')\n",
    "# dict로 반환\n",
    "    return {\"title\":title.text, \"author\":authors, \"price\":price.text}"
   ]
  },
  {
   "cell_type": "code",
   "execution_count": null,
   "id": "d970f016",
   "metadata": {},
   "outputs": [],
   "source": [
    "def get_bestsellers(driver):\n",
    "    elements = driver.find_elements(By.CSS_SELECTOR, value='li > dl')\n",
    "    \n",
    "    # 한 개의 책 정보를 반환하는 dict를 리스트에 저장\n",
    "    bestseller_list = [ get_detailed_info(element) for element in elements ] \n",
    "    \n",
    "    # 10위까지만 반환\n",
    "    return bestseller_list[:10]"
   ]
  },
  {
   "cell_type": "code",
   "execution_count": null,
   "id": "fdc10af1",
   "metadata": {},
   "outputs": [],
   "source": [
    "def write_info(bestsellers):\n",
    "    # 파일 핸들\n",
    "    filename =\"네이버_베스트셀러_1위_10위.csv\"\n",
    "    f = open(filename,\"w\",encoding='utf-8')\n",
    "    writer = csv.writer(f)\n",
    "    columns_name = [\"title\",\"author\",\"price\"]\n",
    "    writer.writerow(columns_name)  \n",
    "    \n",
    "    # 리스트를 row로 저장\n",
    "    for book in bestsellers:\n",
    "        print(list(book.values()))\n",
    "        writer.writerow(list(book.values()))\n",
    "    f.close()"
   ]
  },
  {
   "cell_type": "code",
   "execution_count": null,
   "id": "f3776ed1",
   "metadata": {},
   "outputs": [],
   "source": [
    "if __name__ == '__main__':\n",
    "    bestsellers = get_bestsellers(driver)\n",
    "    write_info(bestsellers)\n"
   ]
  },
  {
   "cell_type": "code",
   "execution_count": 18,
   "id": "19d26dd7",
   "metadata": {},
   "outputs": [
    {
     "name": "stdout",
     "output_type": "stream",
     "text": [
      "Fri, 23 Sep 2022 11:17:27 +0900\n",
      "38696\n",
      "100\n"
     ]
    }
   ],
   "source": [
    "# 네이버 검색 API 예제 - 블로그 검색\n",
    "import requests\n",
    "from urllib.parse import urlparse\n",
    "\n",
    "client_id = \"ZuESjNwuvrnFVF1MEsJq\"\n",
    "client_secret = \"2_2hqdX8bP\"\n",
    "\n",
    "searchWord = \"수리남\"\n",
    "display = 100\n",
    "url = \"https://openapi.naver.com/v1/search/blog?query=\" + searchWord + \"&display=\" + str(display) # JSON 결과\n",
    "# url = \"https://openapi.naver.com/v1/search/blog.xml?query=\" + encText # XML 결과\n",
    "response = requests.get(urlparse(url).geturl(), headers = {'X-Naver-Client-Id' : client_id, 'X-Naver-Client-Secret' : client_secret})\n",
    "\n",
    "# print(response.json())\n",
    "json_obj = response.json()\n",
    "print(json_obj['lastBuildDate'])\n",
    "print(json_obj['total'])\n",
    "items = json_obj['items']\n",
    "print(len(items))"
   ]
  },
  {
   "cell_type": "code",
   "execution_count": 19,
   "id": "6c47e165",
   "metadata": {},
   "outputs": [],
   "source": [
    "def get_naverblog_search(search, display) :\n",
    "    client_id = \"ZuESjNwuvrnFVF1MEsJq\"\n",
    "    client_secret = \"2_2hqdX8bP\"\n",
    "    url = \"https://openapi.naver.com/v1/search/blog?query=\" + search + \"&display=\" + str(display) \n",
    "    response= requests.get(urlparse(url).geturl(), \n",
    "                           headers = {'X-Naver-Client-Id' : client_id, 'X-Naver-Client-Secret' : client_secret})\n",
    "    return response.json()"
   ]
  },
  {
   "cell_type": "code",
   "execution_count": 24,
   "id": "0ffd9354",
   "metadata": {},
   "outputs": [
    {
     "name": "stdout",
     "output_type": "stream",
     "text": [
      "100\n"
     ]
    }
   ],
   "source": [
    "json_obj = get_naverblog_search('육사오', 100)\n",
    "items = json_obj['items']\n",
    "print(len(items))"
   ]
  },
  {
   "cell_type": "code",
   "execution_count": 25,
   "id": "4814c95f",
   "metadata": {},
   "outputs": [],
   "source": [
    "def get_naverblog_search(search, display, start) :\n",
    "    client_id = \"ZuESjNwuvrnFVF1MEsJq\"\n",
    "    client_secret = \"2_2hqdX8bP\"\n",
    "    url = \"https://openapi.naver.com/v1/search/blog?query=\" + search + \"&display=\" + str(display)  + '&start=' + str(start)\n",
    "    response= requests.get(urlparse(url).geturl(), \n",
    "                           headers = {'X-Naver-Client-Id' : client_id, 'X-Naver-Client-Secret' : client_secret})\n",
    "    return response.json()"
   ]
  },
  {
   "cell_type": "code",
   "execution_count": 26,
   "id": "a2c0892f",
   "metadata": {},
   "outputs": [
    {
     "name": "stdout",
     "output_type": "stream",
     "text": [
      "50\n"
     ]
    }
   ],
   "source": [
    "json_obj = get_naverblog_search('육사오', 50, 100)\n",
    "items = json_obj['items']\n",
    "print(len(items))"
   ]
  },
  {
   "cell_type": "code",
   "execution_count": 16,
   "id": "b2d9bddf",
   "metadata": {},
   "outputs": [
    {
     "name": "stdout",
     "output_type": "stream",
     "text": [
      "세상 모든 리뷰/영화창고 넷플 수리남 결국 넷플릭스 해지하게 만든 지루한 드라마 썬도그 2022. 9. 10. 19... &lt;수리남&gt;까지만 보고 결정하자 했는데 결정을 내렸습니다. 해지했습니다. 도저히 못 참겠네요. 영원한... \n",
      "실화를 바탕으로 만든 6부작 넷플릭스 드라마 수리남 결말 스포가 포함된 후기 시작합니다. 추석 연휴... 국가 수리남을 장악한 마약 대부로 인해 누명을 쓴 한 민간인이 국정원의 비밀 임수를 수락하며 벌어지는... \n",
      "드라마 &lt;수리남&gt;을 보는 데에 시간을 할애했다. 원래는 이 드라마를 볼 생각이 없었는데, 친구들과 주고받는 단체 카카오톡방을 통해서 친구 한 명이 지금 드라마 &lt;수리남&gt;을 보고 있는데 너무 재밌다는 호평을... \n",
      "수리남! 대부분의 사람들이 그렇듯이 수리남이라는 나라는 이번 작품으로 처음 접했지 않았을까 싶다. 수리남은 남미에 있는 조그마한 나라로 브라질과 국경을 맞대고 있다. 수리남은 말그대로 수리남에서... \n",
      "넷플릭스 수리남 안녕하세요! 김토익입니다. 2022년 9월 9일 넷플릭스 수리남이 공개되었습니다. (총 6부작 넷플릭스 시리즈) 수리남은 넷플릭스에서 투자한 넷플릭스 시리즈로 범죄와의 전쟁으로 유명한... \n",
      "넷플릭스 시리즈 [수리남] 윤종빈 감독의 넷플릭스 시리즈 [수리남]이 어제 드디어 공개가 되었습니다. 저도 추석 음식 준비하다 말고 이건 꼭 보고 글을 써야 한다면 슬그머니 일어나 이 드라마를 시청했습니다.... \n",
      "&lt; 수리남 전요환 목사역 조봉행 실존인물 실화? 시즌2 미정 &gt; 저번에 드라마 리뷰할 때 더 길~게... 시즌2는 아직 미정 수리남 시즌2 에 관해 확정된 바가 없고요. 결말에 전요환(황정민)이 강인구(하정우)에게... \n",
      "넷플릭스 수리남 박해수 황정민의 팽팽한 긴장감 조우진은 역시! 추석에 개봉(?)을 했지만 좀 늦게... 봤어요^^ 수리남은 나라이름이에요~~ㅎㅎ 다들 무슨男 인줄 알기도~ㅎ 총 6부작이구요~한번 보면 그냥 앉아서... \n",
      "드라마 수리남 일반정보 장르 : 범죄, 액션 연출 : 윤종빈 * 범죄와의전쟁, 나쁜놈들전성시대 연출감독... 영화 수리남 남미에서 마약 조직을 운영하는 한국인 마약왕의 이야기. 그를 체포하기 위한 대한민국 정부... \n",
      "오늘은 추석 때 몰아 본 넷플릭스 인기순위에 올라와있는 수리남 후기, 결말 리뷰를 써보겠습니다.(스포있습니다) 수리남 수리남은 2022년 9월 9일에 공개(개봉,오픈) 되었구요, 간단한 줄거리는 아래와 같습니다.... \n"
     ]
    }
   ],
   "source": [
    "items = json_obj['items']\n",
    "for item in items :\n",
    "    print(item['description'].replace('<b>', '').replace('</b>',''))"
   ]
  },
  {
   "cell_type": "code",
   "execution_count": 8,
   "id": "1fddefef",
   "metadata": {},
   "outputs": [
    {
     "name": "stdout",
     "output_type": "stream",
     "text": [
      "{\n",
      "\t\"lastBuildDate\":\"Fri, 23 Sep 2022 10:53:53 +0900\",\n",
      "\t\"total\":38672,\n",
      "\t\"start\":1,\n",
      "\t\"display\":10,\n",
      "\t\"items\":[\n",
      "\t\t{\n",
      "\t\t\t\"title\":\"넷플 <b>수리남<\\/b> 결국 넷플릭스 해지하게 만든 지루한 드라마\",\n",
      "\t\t\t\"link\":\"https:\\/\\/photohistory.tistory.com\\/20300\",\n",
      "\t\t\t\"description\":\"세상 모든 리뷰\\/영화창고 넷플 <b>수리남<\\/b> 결국 넷플릭스 해지하게 만든 지루한 드라마 썬도그 2022. 9. 10. 19... &lt;<b>수리남<\\/b>&gt;까지만 보고 결정하자 했는데 결정을 내렸습니다. 해지했습니다. 도저히 못 참겠네요. 영원한... \",\n",
      "\t\t\t\"bloggername\":\"사진은 권력이다\",\n",
      "\t\t\t\"bloggerlink\":\"https:\\/\\/photohistory.tistory.com\\/\",\n",
      "\t\t\t\"postdate\":\"20220910\"\n",
      "\t\t},\n",
      "\t\t{\n",
      "\t\t\t\"title\":\"<b>수리남<\\/b> 결말 후기 넷플릭스 드라마\",\n",
      "\t\t\t\"link\":\"https:\\/\\/blog.naver.com\\/lovelyjjan?Redirect=Log&logNo=222872278895\",\n",
      "\t\t\t\"description\":\"실화를 바탕으로 만든 6부작 넷플릭스 드라마 <b>수리남<\\/b> 결말 스포가 포함된 후기 시작합니다. 추석 연휴... 국가 <b>수리남<\\/b>을 장악한 마약 대부로 인해 누명을 쓴 한 민간인이 국정원의 비밀 임수를 수락하며 벌어지는... \",\n",
      "\t\t\t\"bloggername\":\"슈가와 함께하는 신나는 세상\",\n",
      "\t\t\t\"bloggerlink\":\"https:\\/\\/blog.naver.com\\/lovelyjjan\",\n",
      "\t\t\t\"postdate\":\"20220911\"\n",
      "\t\t},\n",
      "\t\t{\n",
      "\t\t\t\"title\":\"넷플릭스 <b>수리남<\\/b>, 명배우들이 이끈 실화 바탕 범죄 드라마\",\n",
      "\t\t\t\"link\":\"https:\\/\\/nohji.com\\/4801\",\n",
      "\t\t\t\"description\":\"드라마 &lt;<b>수리남<\\/b>&gt;을 보는 데에 시간을 할애했다. 원래는 이 드라마를 볼 생각이 없었는데, 친구들과 주고받는 단체 카카오톡방을 통해서 친구 한 명이 지금 드라마 &lt;<b>수리남<\\/b>&gt;을 보고 있는데 너무 재밌다는 호평을... \",\n",
      "\t\t\t\"bloggername\":\"노지의 소박한 이야기\",\n",
      "\t\t\t\"bloggerlink\":\"https:\\/\\/nohji.com\\/\",\n",
      "\t\t\t\"postdate\":\"20220911\"\n",
      "\t\t},\n",
      "\t\t{\n",
      "\t\t\t\"title\":\"[넷플릭스]<b>수리남<\\/b> 아쉬웠던 점.(스포없음)\",\n",
      "\t\t\t\"link\":\"https:\\/\\/vinyl.tistory.com\\/1054\",\n",
      "\t\t\t\"description\":\"<b>수리남<\\/b>! 대부분의 사람들이 그렇듯이 <b>수리남<\\/b>이라는 나라는 이번 작품으로 처음 접했지 않았을까 싶다. <b>수리남<\\/b>은 남미에 있는 조그마한 나라로 브라질과 국경을 맞대고 있다. <b>수리남<\\/b>은 말그대로 <b>수리남<\\/b>에서... \",\n",
      "\t\t\t\"bloggername\":\"끄적끄적\",\n",
      "\t\t\t\"bloggerlink\":\"https:\\/\\/vinyl.tistory.com\\/\",\n",
      "\t\t\t\"postdate\":\"20220912\"\n",
      "\t\t},\n",
      "\t\t{\n",
      "\t\t\t\"title\":\"넷플릭스 <b>수리남<\\/b> 후기 및 명대사 TOP 20\",\n",
      "\t\t\t\"link\":\"https:\\/\\/kimtoeic.tistory.com\\/627\",\n",
      "\t\t\t\"description\":\"넷플릭스 <b>수리남<\\/b> 안녕하세요! 김토익입니다. 2022년 9월 9일 넷플릭스 <b>수리남<\\/b>이 공개되었습니다. (총 6부작 넷플릭스 시리즈) <b>수리남<\\/b>은 넷플릭스에서 투자한 넷플릭스 시리즈로 범죄와의 전쟁으로 유명한... \",\n",
      "\t\t\t\"bloggername\":\"김토익\",\n",
      "\t\t\t\"bloggerlink\":\"https:\\/\\/kimtoeic.tistory.com\\/\",\n",
      "\t\t\t\"postdate\":\"20220912\"\n",
      "\t\t},\n",
      "\t\t{\n",
      "\t\t\t\"title\":\"<b>수리남<\\/b> 후기 : 아버지의 삶은 여전히 무겁다. (넷플릭스 오리지널)\",\n",
      "\t\t\t\"link\":\"https:\\/\\/blog.naver.com\\/pooh0512?Redirect=Log&logNo=222871199497\",\n",
      "\t\t\t\"description\":\"넷플릭스 시리즈 [<b>수리남<\\/b>] 윤종빈 감독의 넷플릭스 시리즈 [<b>수리남<\\/b>]이 어제 드디어 공개가 되었습니다. 저도 추석 음식 준비하다 말고 이건 꼭 보고 글을 써야 한다면 슬그머니 일어나 이 드라마를 시청했습니다.... \",\n",
      "\t\t\t\"bloggername\":\"시간의마법사\",\n",
      "\t\t\t\"bloggerlink\":\"https:\\/\\/blog.naver.com\\/pooh0512\",\n",
      "\t\t\t\"postdate\":\"20220910\"\n",
      "\t\t},\n",
      "\t\t{\n",
      "\t\t\t\"title\":\"<b>수리남<\\/b> 전요환 목사역 조봉행 실존인물 실화? 시즌2 미정\",\n",
      "\t\t\t\"link\":\"https:\\/\\/blog.naver.com\\/blanche15?Redirect=Log&logNo=222873798426\",\n",
      "\t\t\t\"description\":\"&lt; <b>수리남<\\/b> 전요환 목사역 조봉행 실존인물 실화? 시즌2 미정 &gt; 저번에 드라마 리뷰할 때 더 길~게... 시즌2는 아직 미정 <b>수리남<\\/b> 시즌2 에 관해 확정된 바가 없고요. 결말에 전요환(황정민)이 강인구(하정우)에게... \",\n",
      "\t\t\t\"bloggername\":\"블랑부케&apos;story\",\n",
      "\t\t\t\"bloggerlink\":\"https:\\/\\/blog.naver.com\\/blanche15\",\n",
      "\t\t\t\"postdate\":\"20220913\"\n",
      "\t\t},\n",
      "\t\t{\n",
      "\t\t\t\"title\":\"넷플릭스 <b>수리남<\\/b> 박해수 황정민의 팽팽한 긴장감 조우진은 역시!\",\n",
      "\t\t\t\"link\":\"https:\\/\\/blog.naver.com\\/for0819?Redirect=Log&logNo=222878050632\",\n",
      "\t\t\t\"description\":\"넷플릭스 <b>수리남<\\/b> 박해수 황정민의 팽팽한 긴장감 조우진은 역시! 추석에 개봉(?)을 했지만 좀 늦게... 봤어요^^ <b>수리남<\\/b>은 나라이름이에요~~ㅎㅎ 다들 무슨男 인줄 알기도~ㅎ 총 6부작이구요~한번 보면 그냥 앉아서... \",\n",
      "\t\t\t\"bloggername\":\"작은울림의 시작\",\n",
      "\t\t\t\"bloggerlink\":\"https:\\/\\/blog.naver.com\\/for0819\",\n",
      "\t\t\t\"postdate\":\"20220918\"\n",
      "\t\t},\n",
      "\t\t{\n",
      "\t\t\t\"title\":\"드라마 <b>수리남<\\/b> 정보 등장인물 줄거리 몇부작 장첸\",\n",
      "\t\t\t\"link\":\"https:\\/\\/blog.naver.com\\/awaityou?Redirect=Log&logNo=222872654196\",\n",
      "\t\t\t\"description\":\"드라마 <b>수리남<\\/b> 일반정보 장르 : 범죄, 액션 연출 : 윤종빈 * 범죄와의전쟁, 나쁜놈들전성시대 연출감독... 영화 <b>수리남<\\/b> 남미에서 마약 조직을 운영하는 한국인 마약왕의 이야기. 그를 체포하기 위한 대한민국 정부... \",\n",
      "\t\t\t\"bloggername\":\"브라보의 마이라이프\",\n",
      "\t\t\t\"bloggerlink\":\"https:\\/\\/blog.naver.com\\/awaityou\",\n",
      "\t\t\t\"postdate\":\"20220912\"\n",
      "\t\t},\n",
      "\t\t{\n",
      "\t\t\t\"title\":\"넷플릭스 <b>수리남<\\/b> : 솔직후기 결말 스포, 야구공 의미\",\n",
      "\t\t\t\"link\":\"https:\\/\\/blog.naver.com\\/jungtoru?Redirect=Log&logNo=222876237894\",\n",
      "\t\t\t\"description\":\"오늘은 추석 때 몰아 본 넷플릭스 인기순위에 올라와있는 <b>수리남<\\/b> 후기, 결말 리뷰를 써보겠습니다.(스포있습니다) <b>수리남<\\/b> <b>수리남<\\/b>은 2022년 9월 9일에 공개(개봉,오픈) 되었구요, 간단한 줄거리는 아래와 같습니다.... \",\n",
      "\t\t\t\"bloggername\":\"토루의 다양한 이야기+\",\n",
      "\t\t\t\"bloggerlink\":\"https:\\/\\/blog.naver.com\\/jungtoru\",\n",
      "\t\t\t\"postdate\":\"20220916\"\n",
      "\t\t}\n",
      "\t]\n",
      "}\n"
     ]
    }
   ],
   "source": [
    "import os\n",
    "import sys\n",
    "import urllib.request\n",
    "client_id = \"ZuESjNwuvrnFVF1MEsJq\"\n",
    "client_secret = \"2_2hqdX8bP\"\n",
    "encText = urllib.parse.quote(\"수리남\")\n",
    "url = \"https://openapi.naver.com/v1/search/blog?query=\" + encText # JSON 결과\n",
    "# url = \"https://openapi.naver.com/v1/search/blog.xml?query=\" + encText # XML 결과\n",
    "request = urllib.request.Request(url)\n",
    "request.add_header(\"X-Naver-Client-Id\",client_id)\n",
    "request.add_header(\"X-Naver-Client-Secret\",client_secret)\n",
    "response = urllib.request.urlopen(request)\n",
    "rescode = response.getcode()\n",
    "if(rescode==200):\n",
    "    response_body = response.read()\n",
    "    print(response_body.decode('utf-8'))\n",
    "else:\n",
    "    print(\"Error Code:\" + rescode)"
   ]
  },
  {
   "cell_type": "code",
   "execution_count": null,
   "id": "e32841e5",
   "metadata": {},
   "outputs": [],
   "source": [
    "# 검색어로 100개씩 title, link, description 1000개를 추출해서 엑셀에 저장\n",
    "\n",
    "def get_naverblog_search(search, display, start) :\n",
    "    client_id = \"ZuESjNwuvrnFVF1MEsJq\"\n",
    "    client_secret = \"2_2hqdX8bP\"\n",
    "    url = \"https://openapi.naver.com/v1/search/blog?query=\" + search + \"&display=\" + str(display)  + '&start=' + str(start)\n",
    "    response= requests.get(urlparse(url).geturl(), \n",
    "                           headers = {'X-Naver-Client-Id' : client_id, 'X-Naver-Client-Secret' : client_secret})\n",
    "    return response.json()\n"
   ]
  },
  {
   "cell_type": "code",
   "execution_count": 12,
   "id": "a7b65031",
   "metadata": {},
   "outputs": [
    {
     "name": "stdout",
     "output_type": "stream",
     "text": [
      "http://apis.data.go.kr/B552657/ErmctInsttInfoInqireService/getParmacyListInfoInqire?serviceKey=UO0vW8HgL5dUIgY5JtAv738heqxCLWNm3UuEJDVbWrSocTchcxXCnu6fDC4K7vnjMN5yAodVrtKVTN6aiORE7w%3D%3D&Q0=%EC%84%9C%EC%9A%B8%ED%8A%B9%EB%B3%84%EC%8B%9C&Q1=%EA%B0%95%EC%84%9C%EA%B5%AC&ORD=NAME&pageNo=1&numOfRows=10\n",
      "21C세계로약국\n",
      "서울특별시 강서구 화곡로 173 , 1층\n",
      "365그린약국\n",
      "서울특별시 강서구 강서로 43, B104호 (화곡동, 도양라비앙타워)\n",
      "365열린약국\n",
      "서울특별시 강서구 공항대로41길 52, 버들빌딩 1층 (등촌동)\n",
      "SooPharm수약국\n",
      "서울특별시 강서구 화곡로61길 26 (등촌동)\n",
      "가고싶은이화사랑약국\n",
      "서울특별시 강서구 공항대로 지하 267, 발산역(5호선) 505-106호 (마곡동)\n",
      "가까운약국\n",
      "서울특별시 강서구 공항대로 426  (화곡동)\n",
      "가까운중앙약국\n",
      "서울특별시 강서구 마곡중앙4로 74, 106~107호 (마곡동)\n",
      "가까운천사약국\n",
      "서울특별시 강서구 공항대로36길 9, 1층 (내발산동)\n",
      "가양누리약국\n",
      "서울특별시 강서구 허준로 198, 가양프라자 1층 104, 105호 (가양동)\n",
      "가양메디칼약국\n",
      "서울특별시 강서구 양천로57길 13\n"
     ]
    }
   ],
   "source": [
    "# 약국 목록 정보\n",
    "import requests\n",
    "from bs4 import BeautifulSoup\n",
    "from urllib.parse import quote\n",
    "\n",
    "endpoint = 'http://apis.data.go.kr/B552657/ErmctInsttInfoInqireService/getParmacyListInfoInqire?'  \n",
    "serviceKey = 'UO0vW8HgL5dUIgY5JtAv738heqxCLWNm3UuEJDVbWrSocTchcxXCnu6fDC4K7vnjMN5yAodVrtKVTN6aiORE7w%3D%3D'\n",
    "Q0 = quote('서울특별시')\n",
    "Q1 = quote('강서구')\n",
    "QT = '8'\n",
    "QN = quote('')\n",
    "ORD = 'NAME'\n",
    "pageNo = '1'\n",
    "startPage = '1'\n",
    "numOfRows = '10'\n",
    "pageSize = '10'\n",
    "\n",
    "paramset = 'serviceKey='+serviceKey +'&Q0='+Q0 +'&Q1='+Q1 +'&ORD='+ORD + '&pageNo='+pageNo + '&numOfRows='+numOfRows\n",
    "\n",
    "url = endpoint + paramset\n",
    "print(url)\n",
    "\n",
    "result = requests.get(url)\n",
    "soup = BeautifulSoup(result.content, 'html.parser')\n",
    "items = soup.findAll('item')\n",
    "\n",
    "for item in items :\n",
    "    print(item.dutyname.text)\n",
    "    print(item.dutyaddr.text)"
   ]
  },
  {
   "cell_type": "code",
   "execution_count": null,
   "id": "5c4d2dcf",
   "metadata": {},
   "outputs": [],
   "source": [
    "#한국직업능력연구원_커리어넷 직업정보 open api 이용해서 연봉 5000만원 이상 직업 찾기\n",
    "\n"
   ]
  },
  {
   "cell_type": "code",
   "execution_count": 14,
   "id": "148a0d77",
   "metadata": {},
   "outputs": [
    {
     "name": "stdout",
     "output_type": "stream",
     "text": [
      "저장완료\n"
     ]
    }
   ],
   "source": [
    "# 웹에서 pdf 가져와서 저장하기\n",
    "url = 'http://elearning.kocw.net/document/lec/2011/Kicu/ChaJungSub/01.pdf'\n",
    "r = requests.get(url)\n",
    "\n",
    "with open('01.pdf', 'wb') as f :\n",
    "    f.write(r.content)\n",
    "print('저장완료')"
   ]
  },
  {
   "cell_type": "code",
   "execution_count": 15,
   "id": "1833e96b",
   "metadata": {},
   "outputs": [],
   "source": [
    "#텍스트는 Response.text 속성에 저장되고\n",
    "#이진데이터(binary data)는 Response.contect속성에 저장\n",
    "url = 'http://jubil2018.cafe24.com/2018/mp3/jubil36/01.mp3'\n",
    "r = requests.get(url)\n",
    "with open('jubil36_01.mp3', 'wb') as f:\n",
    "    f.write(r.content)"
   ]
  },
  {
   "cell_type": "code",
   "execution_count": 19,
   "id": "2d01ea0d",
   "metadata": {},
   "outputs": [
    {
     "name": "stdout",
     "output_type": "stream",
     "text": [
      "************************************************************************************************************************************************************************************************************************************************************************************************************************************************************************************************************************************************************************************************************************************************************************************************************************************************************************************************************************************************************************************************************************************************************************************************************************************************************************************************************************************************************************************************************************************************************************************************************************************************************************************************************************************************************************************************************************************************************************************************************************************************************************************************************************************************************************************************************************************************************************************************************************************************************************************************************************************************************************************************************************************************************************************************************************************************************************************************************************************************************************************************************************************************************************************************************************************************************************************************************************************************************************************************************************************************************************************************************************************************************************************************************************************************************************************************************************************************************************************************************************************************************************************************************************"
     ]
    },
    {
     "name": "stderr",
     "output_type": "stream",
     "text": [
      "IOPub message rate exceeded.\n",
      "The notebook server will temporarily stop sending output\n",
      "to the client in order to avoid crashing it.\n",
      "To change this limit, set the config variable\n",
      "`--NotebookApp.iopub_msg_rate_limit`.\n",
      "\n",
      "Current values:\n",
      "NotebookApp.iopub_msg_rate_limit=1000.0 (msgs/sec)\n",
      "NotebookApp.rate_limit_window=3.0 (secs)\n",
      "\n"
     ]
    },
    {
     "name": "stdout",
     "output_type": "stream",
     "text": [
      "************************************************************************************************************************************************************************************************************************************************************************************************************************************************************************************************************************************************************************************************************************************************************************************************************************************************************************************************************************************************************************************************************************************************************************************************************************************************************************************************************************************************************************************************************************************************************************************************************************************************************************************************************************************************************************************************************************************************************************************************************************************************************************************************************************************************************************************************************************************************************************************************************************************************************************************************************************************************************************************************************************************************************************************************************************************************************************************************************************************************************************************************************************************************************************************************************************************************************************************************************************************************************************************************************************************************************************************************************************************************************************************************************************************************************************************************************************************************************************************************************************************************************************************************************************"
     ]
    },
    {
     "name": "stderr",
     "output_type": "stream",
     "text": [
      "IOPub message rate exceeded.\n",
      "The notebook server will temporarily stop sending output\n",
      "to the client in order to avoid crashing it.\n",
      "To change this limit, set the config variable\n",
      "`--NotebookApp.iopub_msg_rate_limit`.\n",
      "\n",
      "Current values:\n",
      "NotebookApp.iopub_msg_rate_limit=1000.0 (msgs/sec)\n",
      "NotebookApp.rate_limit_window=3.0 (secs)\n",
      "\n"
     ]
    },
    {
     "name": "stdout",
     "output_type": "stream",
     "text": [
      "************************************************************************************************************************************************************************************************************************************************************************************************************************************************************************************************************************************************************************************************************************************************************************************************************************************************************************************************************************************************************************************************************************************************************************************************************************************************************************************************************************************************************************************************************************************************************************************************************************************************************************************************************************************************************************************************************************************************************************************************************************************************************************************************************************************************************************************************************************************************************************************************************************************************************************************************************************************************************************************************************************************************************************************************************************************************************************************************************************************************************************************************************************************************************************************************************************************************************************************************************************************************************************************************************************************************************************************************************************************************************************************************************************************************************************************************************************************************************************************************************************************************************************************************************************"
     ]
    },
    {
     "name": "stderr",
     "output_type": "stream",
     "text": [
      "IOPub message rate exceeded.\n",
      "The notebook server will temporarily stop sending output\n",
      "to the client in order to avoid crashing it.\n",
      "To change this limit, set the config variable\n",
      "`--NotebookApp.iopub_msg_rate_limit`.\n",
      "\n",
      "Current values:\n",
      "NotebookApp.iopub_msg_rate_limit=1000.0 (msgs/sec)\n",
      "NotebookApp.rate_limit_window=3.0 (secs)\n",
      "\n"
     ]
    }
   ],
   "source": [
    "# 웹 요청으로 받은 대용량 파일의 경우, python 실행환경의 할당 메모리를 초과할 수 있음 => 시스템 장애 발생 가능\n",
    "# get( , stream = True)로 설정하면 웹 요청 파일을 받으면서 동시에 처리 가능 (버퍼 설정, 사용)\n",
    "r = requests.get('http://releases.ubuntu.com/18.04.1/ubuntu-18.04.1-desktop-amd64.iso')\n",
    "\n",
    "with open('ubuntu-18.04.1-desktop-amd64.iso', 'wb') as f:\n",
    "    for chunk in r.iter_content(100000) : # 100k 바이트 단위로 처리\n",
    "        f.write(chunk)\n",
    "        print('*', end='', flush=True) # 진행상황을 화면에 표시"
   ]
  },
  {
   "cell_type": "code",
   "execution_count": 30,
   "id": "efa532e2",
   "metadata": {},
   "outputs": [
    {
     "name": "stdout",
     "output_type": "stream",
     "text": [
      "<class 'feedparser.util.FeedParserDict'>\n",
      "dict_keys(['bozo', 'entries', 'feed', 'headers', 'etag', 'updated', 'updated_parsed', 'href', 'status', 'encoding', 'version', 'namespaces'])\n",
      "https://www.mk.co.kr/rss/40300001/\n",
      "https://www.mk.co.kr/rss/40300001/\n",
      "매일경제 : 전체뉴스\n",
      "[{'no': '2022/842240', 'title': '고등학교 가정통신문에 서부선 역사 청원', 'title_detail': {'type': 'text/plain', 'language': None, 'base': 'https://www.mk.co.kr/rss/40300001/', 'value': '고등학교 가정통신문에 서부선 역사 청원'}, 'links': [{'rel': 'alternate', 'type': 'text/html', 'href': 'https://www.mk.co.kr/news/society/view/2022/09/842240/'}], 'link': 'https://www.mk.co.kr/news/society/view/2022/09/842240/', 'tags': [{'term': '전체뉴스', 'scheme': None, 'label': None}], 'authors': [{'name': '매일경제'}], 'author': '매일경제', 'author_detail': {'name': '매일경제'}, 'published': '2022-09-23T14:12:09+09:00', 'published_parsed': time.struct_time(tm_year=2022, tm_mon=9, tm_mday=23, tm_hour=5, tm_min=12, tm_sec=9, tm_wday=4, tm_yday=266, tm_isdst=0), 'summary': \"은평구 새절역에서 관악구 서울대입구역을 연결하는 '서부선'이 2023년 착공을 앞두고 있는 가운데, 은평구 응암초 인근으로 예정된 '102'역사 위치를 두고 두 자치구 주민 사이 갈등이 빚어지고 있다. 서대문구에..\", 'summary_detail': {'type': 'text/html', 'language': None, 'base': 'https://www.mk.co.kr/rss/40300001/', 'value': \"은평구 새절역에서 관악구 서울대입구역을 연결하는 '서부선'이 2023년 착공을 앞두고 있는 가운데, 은평구 응암초 인근으로 예정된 '102'역사 위치를 두고 두 자치구 주민 사이 갈등이 빚어지고 있다. 서대문구에..\"}}, {'no': '2022/841877', 'title': 'WHO 사무총장 \"코로나19 대유행 끝난 것 아니다\"', 'title_detail': {'type': 'text/plain', 'language': None, 'base': 'https://www.mk.co.kr/rss/40300001/', 'value': 'WHO 사무총장 \"코로나19 대유행 끝난 것 아니다\"'}, 'links': [{'rel': 'alternate', 'type': 'text/html', 'href': 'https://www.mk.co.kr/news/world/view/2022/09/841877/'}], 'link': 'https://www.mk.co.kr/news/world/view/2022/09/841877/', 'tags': [{'term': '전체뉴스', 'scheme': None, 'label': None}], 'authors': [{'name': '매일경제'}], 'author': '매일경제', 'author_detail': {'name': '매일경제'}, 'published': '2022-09-23T12:03:40+09:00', 'published_parsed': time.struct_time(tm_year=2022, tm_mon=9, tm_mday=23, tm_hour=3, tm_min=3, tm_sec=40, tm_wday=4, tm_yday=266, tm_isdst=0), 'summary': '세계보건기구(WHO)가 22일(현지시간) 신종 코로나바이러스 감염증(코로나19) 팬데믹(전염병의 세계적 대유행)은 아직 끝나지 않았다고 밝혔다. 조 바이든 미국 대통령이 팬데믹 종료를 언급해 논란이 인 지 5일 ..', 'summary_detail': {'type': 'text/html', 'language': None, 'base': 'https://www.mk.co.kr/rss/40300001/', 'value': '세계보건기구(WHO)가 22일(현지시간) 신종 코로나바이러스 감염증(코로나19) 팬데믹(전염병의 세계적 대유행)은 아직 끝나지 않았다고 밝혔다. 조 바이든 미국 대통령이 팬데믹 종료를 언급해 논란이 인 지 5일 ..'}}, {'no': '2022/841495', 'title': '尹 대통령 지지율 28%…한 주만에 다시 20%대로', 'title_detail': {'type': 'text/plain', 'language': None, 'base': 'https://www.mk.co.kr/rss/40300001/', 'value': '尹 대통령 지지율 28%…한 주만에 다시 20%대로'}, 'links': [{'rel': 'alternate', 'type': 'text/html', 'href': 'https://www.mk.co.kr/news/politics/view/2022/09/841495/'}], 'link': 'https://www.mk.co.kr/news/politics/view/2022/09/841495/', 'tags': [{'term': '전체뉴스', 'scheme': None, 'label': None}], 'authors': [{'name': '매일경제'}], 'author': '매일경제', 'author_detail': {'name': '매일경제'}, 'published': '2022-09-23T11:02:03+09:00', 'published_parsed': time.struct_time(tm_year=2022, tm_mon=9, tm_mday=23, tm_hour=2, tm_min=2, tm_sec=3, tm_wday=4, tm_yday=266, tm_isdst=0), 'summary': '윤석열 대통령 국정수행평가 긍정 평가가 다시 20%대로 내려갔다. 약 두 달 만에 30%대를 회복했으나 한 주 만에 다시 주저앉은 것이다.여론조사전문업체 한국갤럽이 지난 20~22일(9월 4주) 전국 성인 1000명을 대..', 'summary_detail': {'type': 'text/html', 'language': None, 'base': 'https://www.mk.co.kr/rss/40300001/', 'value': '윤석열 대통령 국정수행평가 긍정 평가가 다시 20%대로 내려갔다. 약 두 달 만에 30%대를 회복했으나 한 주 만에 다시 주저앉은 것이다.여론조사전문업체 한국갤럽이 지난 20~22일(9월 4주) 전국 성인 1000명을 대..'}}, {'no': '2022/842358', 'title': '美NSC, \\'尹 비속어 논란\\'에 \"노코멘트\"', 'title_detail': {'type': 'text/plain', 'language': None, 'base': 'https://www.mk.co.kr/rss/40300001/', 'value': '美NSC, \\'尹 비속어 논란\\'에 \"노코멘트\"'}, 'links': [{'rel': 'alternate', 'type': 'text/html', 'href': 'https://www.mk.co.kr/news/world/view/2022/09/842358/'}], 'link': 'https://www.mk.co.kr/news/world/view/2022/09/842358/', 'tags': [{'term': '전체뉴스', 'scheme': None, 'label': None}], 'authors': [{'name': '매일경제'}], 'author': '매일경제', 'author_detail': {'name': '매일경제'}, 'published': '2022-09-23T14:35:24+09:00', 'published_parsed': time.struct_time(tm_year=2022, tm_mon=9, tm_mday=23, tm_hour=5, tm_min=35, tm_sec=24, tm_wday=4, tm_yday=266, tm_isdst=0), 'summary': 'WP, NSC 대변인 입장 보도', 'summary_detail': {'type': 'text/html', 'language': None, 'base': 'https://www.mk.co.kr/rss/40300001/', 'value': 'WP, NSC 대변인 입장 보도'}}, {'no': '2022/841800', 'title': \"검찰, '신당역 살해사건' 서울교통공사 압수수색\", 'title_detail': {'type': 'text/plain', 'language': None, 'base': 'https://www.mk.co.kr/rss/40300001/', 'value': \"검찰, '신당역 살해사건' 서울교통공사 압수수색\"}, 'links': [{'rel': 'alternate', 'type': 'text/html', 'href': 'https://www.mk.co.kr/news/society/view/2022/09/841800/'}], 'link': 'https://www.mk.co.kr/news/society/view/2022/09/841800/', 'tags': [{'term': '전체뉴스', 'scheme': None, 'label': None}], 'authors': [{'name': '매일경제'}], 'author': '매일경제', 'author_detail': {'name': '매일경제'}, 'published': '2022-09-23T11:55:04+09:00', 'published_parsed': time.struct_time(tm_year=2022, tm_mon=9, tm_mday=23, tm_hour=2, tm_min=55, tm_sec=4, tm_wday=4, tm_yday=266, tm_isdst=0), 'summary': '스토킹 끝에 여성을 살해한 전주환(31·구속)을 보강수사 중인 서울중앙지검 전담수사팀(팀장 김수민 형사3부장)이 23일 서울교통공사 사무실 등을 압수수색하고 있다.전씨는 피해자를 스토킹한 혐의 등으로 불구..', 'summary_detail': {'type': 'text/html', 'language': None, 'base': 'https://www.mk.co.kr/rss/40300001/', 'value': '스토킹 끝에 여성을 살해한 전주환(31·구속)을 보강수사 중인 서울중앙지검 전담수사팀(팀장 김수민 형사3부장)이 23일 서울교통공사 사무실 등을 압수수색하고 있다.전씨는 피해자를 스토킹한 혐의 등으로 불구..'}}, {'no': '2022/842262', 'title': '안심전환대출 접수 엿새째…1조4389억원 신청', 'title_detail': {'type': 'text/plain', 'language': None, 'base': 'https://www.mk.co.kr/rss/40300001/', 'value': '안심전환대출 접수 엿새째…1조4389억원 신청'}, 'links': [{'rel': 'alternate', 'type': 'text/html', 'href': 'https://www.mk.co.kr/news/economy/view/2022/09/842262/'}], 'link': 'https://www.mk.co.kr/news/economy/view/2022/09/842262/', 'tags': [{'term': '전체뉴스', 'scheme': None, 'label': None}], 'authors': [{'name': '매일경제'}], 'author': '매일경제', 'author_detail': {'name': '매일경제'}, 'published': '2022-09-23T14:18:42+09:00', 'published_parsed': time.struct_time(tm_year=2022, tm_mon=9, tm_mday=23, tm_hour=5, tm_min=18, tm_sec=42, tm_wday=4, tm_yday=266, tm_isdst=0), 'summary': '변동금리 주택담보대출을 최저 연 3.7% 장기·고정금리로 바꿔주는 우대형 안심전환대출이 접수 6일 차까지 1조4천389억원어치 신청된 것으로 집계됐다.    한국주택금융공사는 우대형 안심전환대출이 전날까지 6..', 'summary_detail': {'type': 'text/html', 'language': None, 'base': 'https://www.mk.co.kr/rss/40300001/', 'value': '변동금리 주택담보대출을 최저 연 3.7% 장기·고정금리로 바꿔주는 우대형 안심전환대출이 접수 6일 차까지 1조4천389억원어치 신청된 것으로 집계됐다.    한국주택금융공사는 우대형 안심전환대출이 전날까지 6..'}}, {'no': '2022/841687', 'title': '코스피 장중 2300선 붕괴…2개월여만', 'title_detail': {'type': 'text/plain', 'language': None, 'base': 'https://www.mk.co.kr/rss/40300001/', 'value': '코스피 장중 2300선 붕괴…2개월여만'}, 'links': [{'rel': 'alternate', 'type': 'text/html', 'href': 'https://www.mk.co.kr/news/stock/view/2022/09/841687/'}], 'link': 'https://www.mk.co.kr/news/stock/view/2022/09/841687/', 'tags': [{'term': '전체뉴스', 'scheme': None, 'label': None}], 'authors': [{'name': '매일경제'}], 'author': '매일경제', 'author_detail': {'name': '매일경제'}, 'published': '2022-09-23T11:31:38+09:00', 'published_parsed': time.struct_time(tm_year=2022, tm_mon=9, tm_mday=23, tm_hour=2, tm_min=31, tm_sec=38, tm_wday=4, tm_yday=266, tm_isdst=0), 'summary': '코스피가 2개월 만에 장중 2300선을 내줬다.23일 오전 11시 39분 현재 코스피는 전일대비 36.01포인트(1.54%) 하락한 2296.30에 거래중이다.이날 소폭 하락하며 장을 연 코스피는 오전 장중 낙폭을 키우며 2300선..', 'summary_detail': {'type': 'text/html', 'language': None, 'base': 'https://www.mk.co.kr/rss/40300001/', 'value': '코스피가 2개월 만에 장중 2300선을 내줬다.23일 오전 11시 39분 현재 코스피는 전일대비 36.01포인트(1.54%) 하락한 2296.30에 거래중이다.이날 소폭 하락하며 장을 연 코스피는 오전 장중 낙폭을 키우며 2300선..'}}, {'no': '2022/841921', 'title': \"법무부, '한동수 후임' 대검 감찰부장 인선 착수\", 'title_detail': {'type': 'text/plain', 'language': None, 'base': 'https://www.mk.co.kr/rss/40300001/', 'value': \"법무부, '한동수 후임' 대검 감찰부장 인선 착수\"}, 'links': [{'rel': 'alternate', 'type': 'text/html', 'href': 'https://www.mk.co.kr/news/society/view/2022/09/841921/'}], 'link': 'https://www.mk.co.kr/news/society/view/2022/09/841921/', 'tags': [{'term': '전체뉴스', 'scheme': None, 'label': None}], 'authors': [{'name': '매일경제'}], 'author': '매일경제', 'author_detail': {'name': '매일경제'}, 'published': '2022-09-23T12:18:18+09:00', 'published_parsed': time.struct_time(tm_year=2022, tm_mon=9, tm_mday=23, tm_hour=3, tm_min=18, tm_sec=18, tm_wday=4, tm_yday=266, tm_isdst=0), 'summary': '법무부가 한동수(사법연수원 24기) 전 부장의 사직 이후 2개월 넘게 공석 상태인 대검찰청 감찰부장 인선 절차에 착수했다.    23일 법조계에 따르면 법무부는 이날 대한변호사협회 홈페이지 등에 대검 감찰부장 ..', 'summary_detail': {'type': 'text/html', 'language': None, 'base': 'https://www.mk.co.kr/rss/40300001/', 'value': '법무부가 한동수(사법연수원 24기) 전 부장의 사직 이후 2개월 넘게 공석 상태인 대검찰청 감찰부장 인선 절차에 착수했다.    23일 법조계에 따르면 법무부는 이날 대한변호사협회 홈페이지 등에 대검 감찰부장 ..'}}, {'no': '2022/841252', 'title': '\"아빠, 꼭 돌아오세요\"…푸틴 동원령에 곳곳서 생이별', 'title_detail': {'type': 'text/plain', 'language': None, 'base': 'https://www.mk.co.kr/rss/40300001/', 'value': '\"아빠, 꼭 돌아오세요\"…푸틴 동원령에 곳곳서 생이별'}, 'links': [{'rel': 'alternate', 'type': 'text/html', 'href': 'https://www.mk.co.kr/news/world/view/2022/09/841252/'}], 'link': 'https://www.mk.co.kr/news/world/view/2022/09/841252/', 'tags': [{'term': '전체뉴스', 'scheme': None, 'label': None}], 'authors': [{'name': '매일경제'}], 'author': '매일경제', 'author_detail': {'name': '매일경제'}, 'published': '2022-09-23T10:21:56+09:00', 'published_parsed': time.struct_time(tm_year=2022, tm_mon=9, tm_mday=23, tm_hour=1, tm_min=21, tm_sec=56, tm_wday=4, tm_yday=266, tm_isdst=0), 'summary': '블라디미르 푸틴 러시아 대통령이 예비군 동원령을 발령하면서 소셜미디어에선 러시아 동원 대상자들이 가족들과 생이별을 하는 영상이 확산, 안타까움을 자아내고 있다.22일(현지시간) AP통신 등 외신에 따르면 ..', 'summary_detail': {'type': 'text/html', 'language': None, 'base': 'https://www.mk.co.kr/rss/40300001/', 'value': '블라디미르 푸틴 러시아 대통령이 예비군 동원령을 발령하면서 소셜미디어에선 러시아 동원 대상자들이 가족들과 생이별을 하는 영상이 확산, 안타까움을 자아내고 있다.22일(현지시간) AP통신 등 외신에 따르면 ..'}}, {'no': '2022/841892', 'title': \"중년, 악몽 자주꾸면 '이 병' 징후 가능성 높아\", 'title_detail': {'type': 'text/plain', 'language': None, 'base': 'https://www.mk.co.kr/rss/40300001/', 'value': \"중년, 악몽 자주꾸면 '이 병' 징후 가능성 높아\"}, 'links': [{'rel': 'alternate', 'type': 'text/html', 'href': 'https://www.mk.co.kr/news/world/view/2022/09/841892/'}], 'link': 'https://www.mk.co.kr/news/world/view/2022/09/841892/', 'tags': [{'term': '전체뉴스', 'scheme': None, 'label': None}], 'authors': [{'name': '매일경제'}], 'author': '매일경제', 'author_detail': {'name': '매일경제'}, 'published': '2022-09-23T12:09:09+09:00', 'published_parsed': time.struct_time(tm_year=2022, tm_mon=9, tm_mday=23, tm_hour=3, tm_min=9, tm_sec=9, tm_wday=4, tm_yday=266, tm_isdst=0), 'summary': '대수롭지 않게 여기던 악몽이 치매 초기 징후일 수 있다는 연구결과가 나왔다.22일(현지시간) 가디언과 데일리 메일 등 외신에 따르면 영국 버밍엄 대학 의대 신경과 전문의 아비데미 오타이쿠 박사 연구팀이 두 ..', 'summary_detail': {'type': 'text/html', 'language': None, 'base': 'https://www.mk.co.kr/rss/40300001/', 'value': '대수롭지 않게 여기던 악몽이 치매 초기 징후일 수 있다는 연구결과가 나왔다.22일(현지시간) 가디언과 데일리 메일 등 외신에 따르면 영국 버밍엄 대학 의대 신경과 전문의 아비데미 오타이쿠 박사 연구팀이 두 ..'}}, {'no': '2022/841284', 'title': '\"젤렌스키는 XXX다\"…20분간 막말 후 사라진 이사람', 'title_detail': {'type': 'text/plain', 'language': None, 'base': 'https://www.mk.co.kr/rss/40300001/', 'value': '\"젤렌스키는 XXX다\"…20분간 막말 후 사라진 이사람'}, 'links': [{'rel': 'alternate', 'type': 'text/html', 'href': 'https://www.mk.co.kr/news/world/view/2022/09/841284/'}], 'link': 'https://www.mk.co.kr/news/world/view/2022/09/841284/', 'tags': [{'term': '전체뉴스', 'scheme': None, 'label': None}], 'authors': [{'name': '매일경제'}], 'author': '매일경제', 'author_detail': {'name': '매일경제'}, 'published': '2022-09-23T10:27:31+09:00', 'published_parsed': time.struct_time(tm_year=2022, tm_mon=9, tm_mday=23, tm_hour=1, tm_min=27, tm_sec=31, tm_wday=4, tm_yday=266, tm_isdst=0), 'summary': '젤렌스키는 XXX다.22일(현지시간) 미국 뉴욕 유엔 본부에서 열린 안전보장이사회(안보리) 회의에서 세르게이 라브로프 러시아 외무장관이 자국의 우크라이나 침공을 정당화하면서 욕설을 내뱉는 추태를 보였다. AP..', 'summary_detail': {'type': 'text/html', 'language': None, 'base': 'https://www.mk.co.kr/rss/40300001/', 'value': '젤렌스키는 XXX다.22일(현지시간) 미국 뉴욕 유엔 본부에서 열린 안전보장이사회(안보리) 회의에서 세르게이 라브로프 러시아 외무장관이 자국의 우크라이나 침공을 정당화하면서 욕설을 내뱉는 추태를 보였다. AP..'}}, {'no': '2022/840668', 'title': \"中서 판매 금지령 내린 '죽음의 열매'…대체 뭐길래\", 'title_detail': {'type': 'text/plain', 'language': None, 'base': 'https://www.mk.co.kr/rss/40300001/', 'value': \"中서 판매 금지령 내린 '죽음의 열매'…대체 뭐길래\"}, 'links': [{'rel': 'alternate', 'type': 'text/html', 'href': 'https://www.mk.co.kr/news/world/view/2022/09/840668/'}], 'link': 'https://www.mk.co.kr/news/world/view/2022/09/840668/', 'tags': [{'term': '전체뉴스', 'scheme': None, 'label': None}], 'authors': [{'name': '매일경제'}], 'author': '매일경제', 'author_detail': {'name': '매일경제'}, 'published': '2022-09-23T08:38:57+09:00', 'published_parsed': time.struct_time(tm_year=2022, tm_mon=9, tm_mday=22, tm_hour=23, tm_min=38, tm_sec=57, tm_wday=3, tm_yday=265, tm_isdst=0), 'summary': \"구강암을 유발해 '죽음의 열매'로 불리는 빈랑(비틀넛) 중국 내 소비가 늘자 지방정부들이 판매 규제에 나섰다.22일 공산당 기관지 인민일보에 따르면 저장성 이우시와 장시성 난창시 시장감독관리국은 지난 20일 ..\", 'summary_detail': {'type': 'text/html', 'language': None, 'base': 'https://www.mk.co.kr/rss/40300001/', 'value': \"구강암을 유발해 '죽음의 열매'로 불리는 빈랑(비틀넛) 중국 내 소비가 늘자 지방정부들이 판매 규제에 나섰다.22일 공산당 기관지 인민일보에 따르면 저장성 이우시와 장시성 난창시 시장감독관리국은 지난 20일 ..\"}}, {'no': '2022/840653', 'title': '26일부터 실외 마스크 착용의무 전면 해제…실내는 유지', 'title_detail': {'type': 'text/plain', 'language': None, 'base': 'https://www.mk.co.kr/rss/40300001/', 'value': '26일부터 실외 마스크 착용의무 전면 해제…실내는 유지'}, 'links': [{'rel': 'alternate', 'type': 'text/html', 'href': 'https://www.mk.co.kr/news/society/view/2022/09/840653/'}], 'link': 'https://www.mk.co.kr/news/society/view/2022/09/840653/', 'tags': [{'term': '전체뉴스', 'scheme': None, 'label': None}], 'authors': [{'name': '매일경제'}], 'author': '매일경제', 'author_detail': {'name': '매일경제'}, 'published': '2022-09-23T08:36:34+09:00', 'published_parsed': time.struct_time(tm_year=2022, tm_mon=9, tm_mday=22, tm_hour=23, tm_min=36, tm_sec=34, tm_wday=3, tm_yday=265, tm_isdst=0), 'summary': '오는 26일부터 실외에서 마스크 착용 의무가 전면 해제된다. 50인 이상이 모이는 야외 집회에 참석할 때나 공연, 스포츠 경기를 관람할 때도 마스크를 쓰지 않아도 된다. 다만 실내 마스크 착용 의무는 당분간 유..', 'summary_detail': {'type': 'text/html', 'language': None, 'base': 'https://www.mk.co.kr/rss/40300001/', 'value': '오는 26일부터 실외에서 마스크 착용 의무가 전면 해제된다. 50인 이상이 모이는 야외 집회에 참석할 때나 공연, 스포츠 경기를 관람할 때도 마스크를 쓰지 않아도 된다. 다만 실내 마스크 착용 의무는 당분간 유..'}}, {'no': '2022/840930', 'title': '尹대통령 \"한·캐나다 협력으로 AI 새로운 도약\"…3대 강국 목표', 'title_detail': {'type': 'text/plain', 'language': None, 'base': 'https://www.mk.co.kr/rss/40300001/', 'value': '尹대통령 \"한·캐나다 협력으로 AI 새로운 도약\"…3대 강국 목표'}, 'links': [{'rel': 'alternate', 'type': 'text/html', 'href': 'https://www.mk.co.kr/news/politics/view/2022/09/840930/'}], 'link': 'https://www.mk.co.kr/news/politics/view/2022/09/840930/', 'tags': [{'term': '전체뉴스', 'scheme': None, 'label': None}], 'authors': [{'name': '매일경제'}], 'author': '매일경제', 'author_detail': {'name': '매일경제'}, 'published': '2022-09-23T09:27:18+09:00', 'published_parsed': time.struct_time(tm_year=2022, tm_mon=9, tm_mday=23, tm_hour=0, tm_min=27, tm_sec=18, tm_wday=4, tm_yday=266, tm_isdst=0), 'summary': '윤석열 대통령은 22일(현지시간) 캐나다 방문 첫 일정으로 토론토대학에서 인공지능(AI) 전문가 간담회를 진행했다.    이날 간담회에는 딥러닝 알고리즘을 개발한 제프리 힌튼 교수와 가스 깁슨 벡터연구소 ..', 'summary_detail': {'type': 'text/html', 'language': None, 'base': 'https://www.mk.co.kr/rss/40300001/', 'value': '윤석열 대통령은 22일(현지시간) 캐나다 방문 첫 일정으로 토론토대학에서 인공지능(AI) 전문가 간담회를 진행했다.    이날 간담회에는 딥러닝 알고리즘을 개발한 제프리 힌튼 교수와 가스 깁슨 벡터연구소 ..'}}, {'no': '2022/842044', 'title': '청약·입주물량, 토지시세, 의료영상…공공기관 데이터 민간에 푼다', 'title_detail': {'type': 'text/plain', 'language': None, 'base': 'https://www.mk.co.kr/rss/40300001/', 'value': '청약·입주물량, 토지시세, 의료영상…공공기관 데이터 민간에 푼다'}, 'links': [{'rel': 'alternate', 'type': 'text/html', 'href': 'https://www.mk.co.kr/news/economy/view/2022/09/842044/'}], 'link': 'https://www.mk.co.kr/news/economy/view/2022/09/842044/', 'tags': [{'term': '전체뉴스', 'scheme': None, 'label': None}], 'authors': [{'name': '매일경제'}], 'author': '매일경제', 'author_detail': {'name': '매일경제'}, 'published': '2022-09-23T13:10:56+09:00', 'published_parsed': time.struct_time(tm_year=2022, tm_mon=9, tm_mday=23, tm_hour=4, tm_min=10, tm_sec=56, tm_wday=4, tm_yday=266, tm_isdst=0), 'summary': '정부가 청약·입주 물량, 토지시세, 자기공명영상(MRI)등 공공기관이 보유한 부동산, 연금, 의료 10대 분야의 데이터를 민간에 개방한다. 공공기관이 활용하지 않는 1조원 규모의 특허를 민간에 무료로 공유하고, ..', 'summary_detail': {'type': 'text/html', 'language': None, 'base': 'https://www.mk.co.kr/rss/40300001/', 'value': '정부가 청약·입주 물량, 토지시세, 자기공명영상(MRI)등 공공기관이 보유한 부동산, 연금, 의료 10대 분야의 데이터를 민간에 개방한다. 공공기관이 활용하지 않는 1조원 규모의 특허를 민간에 무료로 공유하고, ..'}}, {'no': '2022/841193', 'title': \"검찰, '종편 재승인 심사 고의감점 의혹' 방통위 압수수색\", 'title_detail': {'type': 'text/plain', 'language': None, 'base': 'https://www.mk.co.kr/rss/40300001/', 'value': \"검찰, '종편 재승인 심사 고의감점 의혹' 방통위 압수수색\"}, 'links': [{'rel': 'alternate', 'type': 'text/html', 'href': 'https://www.mk.co.kr/news/society/view/2022/09/841193/'}], 'link': 'https://www.mk.co.kr/news/society/view/2022/09/841193/', 'tags': [{'term': '전체뉴스', 'scheme': None, 'label': None}], 'authors': [{'name': '매일경제'}], 'author': '매일경제', 'author_detail': {'name': '매일경제'}, 'published': '2022-09-23T10:08:22+09:00', 'published_parsed': time.struct_time(tm_year=2022, tm_mon=9, tm_mday=23, tm_hour=1, tm_min=8, tm_sec=22, tm_wday=4, tm_yday=266, tm_isdst=0), 'summary': '검찰이 종합편성채널(종편) 재승인 심사 점수 조작 의혹과 관련해 방송통신위원회(방통위)에 압수수색을 시작했다.서울북부지검은 23일 오전 방통위와 지난 2020년 종편 재승인 심사에 참여한 심사위원들의 자택 ..', 'summary_detail': {'type': 'text/html', 'language': None, 'base': 'https://www.mk.co.kr/rss/40300001/', 'value': '검찰이 종합편성채널(종편) 재승인 심사 점수 조작 의혹과 관련해 방송통신위원회(방통위)에 압수수색을 시작했다.서울북부지검은 23일 오전 방통위와 지난 2020년 종편 재승인 심사에 참여한 심사위원들의 자택 ..'}}, {'no': '2022/841179', 'title': \"올 4분기 D램값, 최대 18% 떨어진다…내년 전망도 '잿빛'\", 'title_detail': {'type': 'text/plain', 'language': None, 'base': 'https://www.mk.co.kr/rss/40300001/', 'value': \"올 4분기 D램값, 최대 18% 떨어진다…내년 전망도 '잿빛'\"}, 'links': [{'rel': 'alternate', 'type': 'text/html', 'href': 'https://www.mk.co.kr/news/business/view/2022/09/841179/'}], 'link': 'https://www.mk.co.kr/news/business/view/2022/09/841179/', 'tags': [{'term': '전체뉴스', 'scheme': None, 'label': None}], 'authors': [{'name': '매일경제'}], 'author': '매일경제', 'author_detail': {'name': '매일경제'}, 'published': '2022-09-23T10:05:48+09:00', 'published_parsed': time.struct_time(tm_year=2022, tm_mon=9, tm_mday=23, tm_hour=1, tm_min=5, tm_sec=48, tm_wday=4, tm_yday=266, tm_isdst=0), 'summary': '전 세계 D램 시장 침체가 지속되는 가운데 오는 4분기 D램값이 13~18% 하락한다는 전망이 나왔다. 하락세는 내년에도 이어질 것으로 보인다.23일 대만 시장조사업체 트렌드포스가 최근 발표한 보고서에 따르면 지..', 'summary_detail': {'type': 'text/html', 'language': None, 'base': 'https://www.mk.co.kr/rss/40300001/', 'value': '전 세계 D램 시장 침체가 지속되는 가운데 오는 4분기 D램값이 13~18% 하락한다는 전망이 나왔다. 하락세는 내년에도 이어질 것으로 보인다.23일 대만 시장조사업체 트렌드포스가 최근 발표한 보고서에 따르면 지..'}}, {'no': '2022/841852', 'title': '상반기 지재권 무역수지 흑자 3억7천만달러로 역대 최대', 'title_detail': {'type': 'text/plain', 'language': None, 'base': 'https://www.mk.co.kr/rss/40300001/', 'value': '상반기 지재권 무역수지 흑자 3억7천만달러로 역대 최대'}, 'links': [{'rel': 'alternate', 'type': 'text/html', 'href': 'https://www.mk.co.kr/news/economy/view/2022/09/841852/'}], 'link': 'https://www.mk.co.kr/news/economy/view/2022/09/841852/', 'tags': [{'term': '전체뉴스', 'scheme': None, 'label': None}], 'authors': [{'name': '매일경제'}], 'author': '매일경제', 'author_detail': {'name': '매일경제'}, 'published': '2022-09-23T12:00:00+09:00', 'published_parsed': time.struct_time(tm_year=2022, tm_mon=9, tm_mday=23, tm_hour=3, tm_min=0, tm_sec=0, tm_wday=4, tm_yday=266, tm_isdst=0), 'summary': '올 상반기 한국의 지식재산권(지재권) 무역수지 흑자가 4억달러에 근접하며 반기 기준 역대 최대치를 기록했다.    23일 한국은행에 따르면 올 1∼6월 지재권 무역수지 흑자는 3억7천만달러로 잠정 집계됐다. 종..', 'summary_detail': {'type': 'text/html', 'language': None, 'base': 'https://www.mk.co.kr/rss/40300001/', 'value': '올 상반기 한국의 지식재산권(지재권) 무역수지 흑자가 4억달러에 근접하며 반기 기준 역대 최대치를 기록했다.    23일 한국은행에 따르면 올 1∼6월 지재권 무역수지 흑자는 3억7천만달러로 잠정 집계됐다. 종..'}}, {'no': '2022/841582', 'title': 'PEF 손잡고 경영권 강화한 상장사 나왔다', 'title_detail': {'type': 'text/plain', 'language': None, 'base': 'https://www.mk.co.kr/rss/40300001/', 'value': 'PEF 손잡고 경영권 강화한 상장사 나왔다'}, 'links': [{'rel': 'alternate', 'type': 'text/html', 'href': 'https://www.mk.co.kr/news/stock/view/2022/09/841582/'}], 'link': 'https://www.mk.co.kr/news/stock/view/2022/09/841582/', 'tags': [{'term': '전체뉴스', 'scheme': None, 'label': None}], 'authors': [{'name': '매일경제'}], 'author': '매일경제', 'author_detail': {'name': '매일경제'}, 'published': '2022-09-23T11:16:13+09:00', 'published_parsed': time.struct_time(tm_year=2022, tm_mon=9, tm_mday=23, tm_hour=2, tm_min=16, tm_sec=13, tm_wday=4, tm_yday=266, tm_isdst=0), 'summary': \"사모펀드(PEF)와 손잡고 경영권을 강화한 상장사가 등장했다. 지난해 11월 코스닥에 입성한 2차 전지 전해액 업체 '엔켐'이 그 주인공이다. 23일 투자은행(IB) 업계에 따르면 엔켐은 기존 재무적투자자들의 보유 지..\", 'summary_detail': {'type': 'text/html', 'language': None, 'base': 'https://www.mk.co.kr/rss/40300001/', 'value': \"사모펀드(PEF)와 손잡고 경영권을 강화한 상장사가 등장했다. 지난해 11월 코스닥에 입성한 2차 전지 전해액 업체 '엔켐'이 그 주인공이다. 23일 투자은행(IB) 업계에 따르면 엔켐은 기존 재무적투자자들의 보유 지..\"}}, {'no': '2022/841527', 'title': \"은행, 中企 대상 '꺾기' 의심거래 53조…기업은행이 최다\", 'title_detail': {'type': 'text/plain', 'language': None, 'base': 'https://www.mk.co.kr/rss/40300001/', 'value': \"은행, 中企 대상 '꺾기' 의심거래 53조…기업은행이 최다\"}, 'links': [{'rel': 'alternate', 'type': 'text/html', 'href': 'https://www.mk.co.kr/news/economy/view/2022/09/841527/'}], 'link': 'https://www.mk.co.kr/news/economy/view/2022/09/841527/', 'tags': [{'term': '전체뉴스', 'scheme': None, 'label': None}], 'authors': [{'name': '매일경제'}], 'author': '매일경제', 'author_detail': {'name': '매일경제'}, 'published': '2022-09-23T11:04:41+09:00', 'published_parsed': time.struct_time(tm_year=2022, tm_mon=9, tm_mday=23, tm_hour=2, tm_min=4, tm_sec=41, tm_wday=4, tm_yday=266, tm_isdst=0), 'summary': \"은행들이 최근 5년간 중소기업을 대상으로 행한 '편법 꺾기' 의심거래가 92만4143건, 의심거래 금액은 53조6320억원에 이르는 것으로 드러났다.23일 금융감독원이 국회 박재호 의원에 제출한 자료에 따르면 2017년..\", 'summary_detail': {'type': 'text/html', 'language': None, 'base': 'https://www.mk.co.kr/rss/40300001/', 'value': \"은행들이 최근 5년간 중소기업을 대상으로 행한 '편법 꺾기' 의심거래가 92만4143건, 의심거래 금액은 53조6320억원에 이르는 것으로 드러났다.23일 금융감독원이 국회 박재호 의원에 제출한 자료에 따르면 2017년..\"}}, {'no': '2022/841111', 'title': '\"금고 따고 52억 꿀꺽\" 농·축협서 올해만 289억 횡령', 'title_detail': {'type': 'text/plain', 'language': None, 'base': 'https://www.mk.co.kr/rss/40300001/', 'value': '\"금고 따고 52억 꿀꺽\" 농·축협서 올해만 289억 횡령'}, 'links': [{'rel': 'alternate', 'type': 'text/html', 'href': 'https://www.mk.co.kr/news/economy/view/2022/09/841111/'}], 'link': 'https://www.mk.co.kr/news/economy/view/2022/09/841111/', 'tags': [{'term': '전체뉴스', 'scheme': None, 'label': None}], 'authors': [{'name': '매일경제'}], 'author': '매일경제', 'author_detail': {'name': '매일경제'}, 'published': '2022-09-23T09:55:46+09:00', 'published_parsed': time.struct_time(tm_year=2022, tm_mon=9, tm_mday=23, tm_hour=0, tm_min=55, tm_sec=46, tm_wday=4, tm_yday=266, tm_isdst=0), 'summary': '올해 들어 농·축협에서 임직원이 횡령한 돈이 총 289억원에 달하는 것으로 나타났다. 이는 최근 5년간 횡령액(519억원)의 55.6% 달하는 규모다.\\n국회 이달곤 의원이 23일 농협중앙회에서 받은 자료에 따르면 올..', 'summary_detail': {'type': 'text/html', 'language': None, 'base': 'https://www.mk.co.kr/rss/40300001/', 'value': '올해 들어 농·축협에서 임직원이 횡령한 돈이 총 289억원에 달하는 것으로 나타났다. 이는 최근 5년간 횡령액(519억원)의 55.6% 달하는 규모다.\\n국회 이달곤 의원이 23일 농협중앙회에서 받은 자료에 따르면 올..'}}, {'no': '2022/839491', 'title': '손정의 \"삼성과 ARM 전략적 제휴 논의\"…지분매각 협상 공식화', 'title_detail': {'type': 'text/plain', 'language': None, 'base': 'https://www.mk.co.kr/rss/40300001/', 'value': '손정의 \"삼성과 ARM 전략적 제휴 논의\"…지분매각 협상 공식화'}, 'links': [{'rel': 'alternate', 'type': 'text/html', 'href': 'https://www.mk.co.kr/news/business/view/2022/09/839491/'}], 'link': 'https://www.mk.co.kr/news/business/view/2022/09/839491/', 'tags': [{'term': '전체뉴스', 'scheme': None, 'label': None}], 'authors': [{'name': '매일경제'}], 'author': '매일경제', 'author_detail': {'name': '매일경제'}, 'published': '2022-09-22T17:25:35+09:00', 'published_parsed': time.struct_time(tm_year=2022, tm_mon=9, tm_mday=22, tm_hour=8, tm_min=25, tm_sec=35, tm_wday=3, tm_yday=265, tm_isdst=0), 'summary': '영국 반도체 설계회사인 ARM 인수전에 삼성전자 참여가 구체화되고 있다. 독과점 등 여러 가지 이슈로 경영권 단독 인수는 쉽지 않겠지만, ARM의 지분 일부를 인수하는 것은 충분히 가능한 시나리오라는 분석이 나..', 'summary_detail': {'type': 'text/html', 'language': None, 'base': 'https://www.mk.co.kr/rss/40300001/', 'value': '영국 반도체 설계회사인 ARM 인수전에 삼성전자 참여가 구체화되고 있다. 독과점 등 여러 가지 이슈로 경영권 단독 인수는 쉽지 않겠지만, ARM의 지분 일부를 인수하는 것은 충분히 가능한 시나리오라는 분석이 나..'}}, {'no': '2022/841683', 'title': '부동산 전문가 \"미국발 금리 인상에 서울 오피스 공실 늘 것\"', 'title_detail': {'type': 'text/plain', 'language': None, 'base': 'https://www.mk.co.kr/rss/40300001/', 'value': '부동산 전문가 \"미국발 금리 인상에 서울 오피스 공실 늘 것\"'}, 'links': [{'rel': 'alternate', 'type': 'text/html', 'href': 'https://www.mk.co.kr/news/realestate/view/2022/09/841683/'}], 'link': 'https://www.mk.co.kr/news/realestate/view/2022/09/841683/', 'tags': [{'term': '전체뉴스', 'scheme': None, 'label': None}], 'authors': [{'name': '매일경제'}], 'author': '매일경제', 'author_detail': {'name': '매일경제'}, 'published': '2022-09-23T11:31:16+09:00', 'published_parsed': time.struct_time(tm_year=2022, tm_mon=9, tm_mday=23, tm_hour=2, tm_min=31, tm_sec=16, tm_wday=4, tm_yday=266, tm_isdst=0), 'summary': '최근 미국발 기준금리 인상으로 서울 주요 업무 지역의 오피스 공실률도 오를 것이라는 설문 결과가 나왔다.23일 상업용 부동산 정보업체 알스퀘어가 상업용 부동산 전문가로 구성된 자사 임직원 108명을 대상으로..', 'summary_detail': {'type': 'text/html', 'language': None, 'base': 'https://www.mk.co.kr/rss/40300001/', 'value': '최근 미국발 기준금리 인상으로 서울 주요 업무 지역의 오피스 공실률도 오를 것이라는 설문 결과가 나왔다.23일 상업용 부동산 정보업체 알스퀘어가 상업용 부동산 전문가로 구성된 자사 임직원 108명을 대상으로..'}}, {'no': '2022/841533', 'title': '美금리인상에 주담대 금리 6.3%…22년만에 최고', 'title_detail': {'type': 'text/plain', 'language': None, 'base': 'https://www.mk.co.kr/rss/40300001/', 'value': '美금리인상에 주담대 금리 6.3%…22년만에 최고'}, 'links': [{'rel': 'alternate', 'type': 'text/html', 'href': 'https://www.mk.co.kr/news/economy/view/2022/09/841533/'}], 'link': 'https://www.mk.co.kr/news/economy/view/2022/09/841533/', 'tags': [{'term': '전체뉴스', 'scheme': None, 'label': None}], 'authors': [{'name': '매일경제'}], 'author': '매일경제', 'author_detail': {'name': '매일경제'}, 'published': '2022-09-23T11:06:18+09:00', 'published_parsed': time.struct_time(tm_year=2022, tm_mon=9, tm_mday=23, tm_hour=2, tm_min=6, tm_sec=18, tm_wday=4, tm_yday=266, tm_isdst=0), 'summary': '고급주택 판매도 28% 급감', 'summary_detail': {'type': 'text/html', 'language': None, 'base': 'https://www.mk.co.kr/rss/40300001/', 'value': '고급주택 판매도 28% 급감'}}, {'no': '2022/841405', 'title': \"멕시코서 규모 6.8 강진에…美데스밸리에 '사막 쓰나미'\", 'title_detail': {'type': 'text/plain', 'language': None, 'base': 'https://www.mk.co.kr/rss/40300001/', 'value': \"멕시코서 규모 6.8 강진에…美데스밸리에 '사막 쓰나미'\"}, 'links': [{'rel': 'alternate', 'type': 'text/html', 'href': 'https://www.mk.co.kr/news/world/view/2022/09/841405/'}], 'link': 'https://www.mk.co.kr/news/world/view/2022/09/841405/', 'tags': [{'term': '전체뉴스', 'scheme': None, 'label': None}], 'authors': [{'name': '매일경제'}], 'author': '매일경제', 'author_detail': {'name': '매일경제'}, 'published': '2022-09-23T10:49:48+09:00', 'published_parsed': time.struct_time(tm_year=2022, tm_mon=9, tm_mday=23, tm_hour=1, tm_min=49, tm_sec=48, tm_wday=4, tm_yday=266, tm_isdst=0), 'summary': \"멕시코에서 규모 6.8의 강진 여파로 2000㎞ 넘게 떨어진 미국에서 '사막 쓰나미'로 불리는 자연 현상이 나타났다.22일(현지시각) 미국 네바다주의 모하비 사막이 펼쳐진 데스밸리 국립공원에 따르면 지난 19일 이곳..\", 'summary_detail': {'type': 'text/html', 'language': None, 'base': 'https://www.mk.co.kr/rss/40300001/', 'value': \"멕시코에서 규모 6.8의 강진 여파로 2000㎞ 넘게 떨어진 미국에서 '사막 쓰나미'로 불리는 자연 현상이 나타났다.22일(현지시각) 미국 네바다주의 모하비 사막이 펼쳐진 데스밸리 국립공원에 따르면 지난 19일 이곳..\"}}, {'no': '2022/841194', 'title': '이해찬 \"대선 절박함 없어 져…尹, 국정운영 잘 몰라\"', 'title_detail': {'type': 'text/plain', 'language': None, 'base': 'https://www.mk.co.kr/rss/40300001/', 'value': '이해찬 \"대선 절박함 없어 져…尹, 국정운영 잘 몰라\"'}, 'links': [{'rel': 'alternate', 'type': 'text/html', 'href': 'https://www.mk.co.kr/news/politics/view/2022/09/841194/'}], 'link': 'https://www.mk.co.kr/news/politics/view/2022/09/841194/', 'tags': [{'term': '전체뉴스', 'scheme': None, 'label': None}], 'authors': [{'name': '매일경제'}], 'author': '매일경제', 'author_detail': {'name': '매일경제'}, 'published': '2022-09-23T10:10:01+09:00', 'published_parsed': time.struct_time(tm_year=2022, tm_mon=9, tm_mday=23, tm_hour=1, tm_min=10, tm_sec=1, tm_wday=4, tm_yday=266, tm_isdst=0), 'summary': '이해찬 더불어민주당 전 대표는 지난 3월9일 치러진 대통령 선거에 대해 민주당이 이번 대선에서 진 이유는 절박함이 없었기 때문이라고 말했다.이 전 대표는 22일 유시민 전 노무현재단 이사장이 진행하는 유튜브..', 'summary_detail': {'type': 'text/html', 'language': None, 'base': 'https://www.mk.co.kr/rss/40300001/', 'value': '이해찬 더불어민주당 전 대표는 지난 3월9일 치러진 대통령 선거에 대해 민주당이 이번 대선에서 진 이유는 절박함이 없었기 때문이라고 말했다.이 전 대표는 22일 유시민 전 노무현재단 이사장이 진행하는 유튜브..'}}, {'no': '2022/840277', 'title': '공직자 재산공개…박성근 총리 비서실장 229억, 김동조 비서관 124억', 'title_detail': {'type': 'text/plain', 'language': None, 'base': 'https://www.mk.co.kr/rss/40300001/', 'value': '공직자 재산공개…박성근 총리 비서실장 229억, 김동조 비서관 124억'}, 'links': [{'rel': 'alternate', 'type': 'text/html', 'href': 'https://www.mk.co.kr/news/society/view/2022/09/840277/'}], 'link': 'https://www.mk.co.kr/news/society/view/2022/09/840277/', 'tags': [{'term': '전체뉴스', 'scheme': None, 'label': None}], 'authors': [{'name': '매일경제'}], 'author': '매일경제', 'author_detail': {'name': '매일경제'}, 'published': '2022-09-23T00:01:02+09:00', 'published_parsed': time.struct_time(tm_year=2022, tm_mon=9, tm_mday=22, tm_hour=15, tm_min=1, tm_sec=2, tm_wday=3, tm_yday=265, tm_isdst=0), 'summary': '박성근 국무총리 비서실장이 재산 약 229억원을 신고해 23일 공개된 윤석열 정부 주요 고위 공직자 재산 가운데 가장 많은 것으로 나타났다. 이번에 재산이 공개된 공직자는 지난 6월 임명된 인사들이다. 정부공직자..', 'summary_detail': {'type': 'text/html', 'language': None, 'base': 'https://www.mk.co.kr/rss/40300001/', 'value': '박성근 국무총리 비서실장이 재산 약 229억원을 신고해 23일 공개된 윤석열 정부 주요 고위 공직자 재산 가운데 가장 많은 것으로 나타났다. 이번에 재산이 공개된 공직자는 지난 6월 임명된 인사들이다. 정부공직자..'}}, {'no': '2022/842274', 'title': \"檢, 김건희 '주가조각' 거짓해명한 국힘 대변인 불기소\", 'title_detail': {'type': 'text/plain', 'language': None, 'base': 'https://www.mk.co.kr/rss/40300001/', 'value': \"檢, 김건희 '주가조각' 거짓해명한 국힘 대변인 불기소\"}, 'links': [{'rel': 'alternate', 'type': 'text/html', 'href': 'https://www.mk.co.kr/news/society/view/2022/09/842274/'}], 'link': 'https://www.mk.co.kr/news/society/view/2022/09/842274/', 'tags': [{'term': '전체뉴스', 'scheme': None, 'label': None}], 'authors': [{'name': '매일경제'}], 'author': '매일경제', 'author_detail': {'name': '매일경제'}, 'published': '2022-09-23T14:22:35+09:00', 'published_parsed': time.struct_time(tm_year=2022, tm_mon=9, tm_mday=23, tm_hour=5, tm_min=22, tm_sec=35, tm_wday=4, tm_yday=266, tm_isdst=0), 'summary': '검찰이 김건희 여사가 도이치모터스 주가조작에 가담한 적 없다고 거짓 해명한 국민의힘 전 대변인들을 불기소 처분한 것으로 확인됐다. 권오수 도이치모터스 회장의 공소장 범죄일람표에 김 여사가 등장하는 것은..', 'summary_detail': {'type': 'text/html', 'language': None, 'base': 'https://www.mk.co.kr/rss/40300001/', 'value': '검찰이 김건희 여사가 도이치모터스 주가조작에 가담한 적 없다고 거짓 해명한 국민의힘 전 대변인들을 불기소 처분한 것으로 확인됐다. 권오수 도이치모터스 회장의 공소장 범죄일람표에 김 여사가 등장하는 것은..'}}, {'no': '2022/842267', 'title': '도주 중 늘어난 공소시효…대법 \"법 개정 전 시효 적용해야\"', 'title_detail': {'type': 'text/plain', 'language': None, 'base': 'https://www.mk.co.kr/rss/40300001/', 'value': '도주 중 늘어난 공소시효…대법 \"법 개정 전 시효 적용해야\"'}, 'links': [{'rel': 'alternate', 'type': 'text/html', 'href': 'https://www.mk.co.kr/news/society/view/2022/09/842267/'}], 'link': 'https://www.mk.co.kr/news/society/view/2022/09/842267/', 'tags': [{'term': '전체뉴스', 'scheme': None, 'label': None}], 'authors': [{'name': '매일경제'}], 'author': '매일경제', 'author_detail': {'name': '매일경제'}, 'published': '2022-09-23T14:20:45+09:00', 'published_parsed': time.struct_time(tm_year=2022, tm_mon=9, tm_mday=23, tm_hour=5, tm_min=20, tm_sec=45, tm_wday=4, tm_yday=266, tm_isdst=0), 'summary': '재판에 넘겨진 피고인이 잠적하며 재판이 중단된 경우 법 개정으로 해당 범죄의 공소시효가 연장됐어도 개정 전 공소시효를 적용해야 한다는 대법원 판단이 나왔다.대법원 3부(주심 노정희 대법관)는 22년 전 기소..', 'summary_detail': {'type': 'text/html', 'language': None, 'base': 'https://www.mk.co.kr/rss/40300001/', 'value': '재판에 넘겨진 피고인이 잠적하며 재판이 중단된 경우 법 개정으로 해당 범죄의 공소시효가 연장됐어도 개정 전 공소시효를 적용해야 한다는 대법원 판단이 나왔다.대법원 3부(주심 노정희 대법관)는 22년 전 기소..'}}, {'no': '2022/841423', 'title': '통일부, 대북전단 살포 자제 요청…\"북 도발 시 단호히 대처\"', 'title_detail': {'type': 'text/plain', 'language': None, 'base': 'https://www.mk.co.kr/rss/40300001/', 'value': '통일부, 대북전단 살포 자제 요청…\"북 도발 시 단호히 대처\"'}, 'links': [{'rel': 'alternate', 'type': 'text/html', 'href': 'https://www.mk.co.kr/news/politics/view/2022/09/841423/'}], 'link': 'https://www.mk.co.kr/news/politics/view/2022/09/841423/', 'tags': [{'term': '전체뉴스', 'scheme': None, 'label': None}], 'authors': [{'name': '매일경제'}], 'author': '매일경제', 'author_detail': {'name': '매일경제'}, 'published': '2022-09-23T10:52:24+09:00', 'published_parsed': time.struct_time(tm_year=2022, tm_mon=9, tm_mday=23, tm_hour=1, tm_min=52, tm_sec=24, tm_wday=4, tm_yday=266, tm_isdst=0), 'summary': '통일부는 국내 민간단체들에 대북전단 살포 자제를 촉구하며 북측에는 전단 살포를 빌미로 도발 시 강력히 대처하겠다고 밝혔다.이효정 통일부 부대변인은 23일 정부서울청사에서 열린 정례브리핑에서 정부의 거듭..', 'summary_detail': {'type': 'text/html', 'language': None, 'base': 'https://www.mk.co.kr/rss/40300001/', 'value': '통일부는 국내 민간단체들에 대북전단 살포 자제를 촉구하며 북측에는 전단 살포를 빌미로 도발 시 강력히 대처하겠다고 밝혔다.이효정 통일부 부대변인은 23일 정부서울청사에서 열린 정례브리핑에서 정부의 거듭..'}}, {'no': '2022/841265', 'title': '기본료 4800원·심야할증 늘려도 택시기사는 불만…왜', 'title_detail': {'type': 'text/plain', 'language': None, 'base': 'https://www.mk.co.kr/rss/40300001/', 'value': '기본료 4800원·심야할증 늘려도 택시기사는 불만…왜'}, 'links': [{'rel': 'alternate', 'type': 'text/html', 'href': 'https://www.mk.co.kr/news/society/view/2022/09/841265/'}], 'link': 'https://www.mk.co.kr/news/society/view/2022/09/841265/', 'tags': [{'term': '전체뉴스', 'scheme': None, 'label': None}], 'authors': [{'name': '매일경제'}], 'author': '매일경제', 'author_detail': {'name': '매일경제'}, 'published': '2022-09-23T10:24:58+09:00', 'published_parsed': time.struct_time(tm_year=2022, tm_mon=9, tm_mday=23, tm_hour=1, tm_min=24, tm_sec=58, tm_wday=4, tm_yday=266, tm_isdst=0), 'summary': '택시 기본요금이 기존보다 1000원 많은 4800원으로 인상되고 심야할증 시간과 할증률도 올리는 서울시 택시요금 조정안이 서울시 상임위원회를 통과했다. 하지만 이 같은 인상분이 실질적으로 택시기사에게 돌아가..', 'summary_detail': {'type': 'text/html', 'language': None, 'base': 'https://www.mk.co.kr/rss/40300001/', 'value': '택시 기본요금이 기존보다 1000원 많은 4800원으로 인상되고 심야할증 시간과 할증률도 올리는 서울시 택시요금 조정안이 서울시 상임위원회를 통과했다. 하지만 이 같은 인상분이 실질적으로 택시기사에게 돌아가..'}}, {'no': '2022/80395', 'title': '\"트와이스 언니들이 내 꿈\"…일본 10대 3만명이 몰려왔다', 'title_detail': {'type': 'text/plain', 'language': None, 'base': 'https://www.mk.co.kr/rss/40300001/', 'value': '\"트와이스 언니들이 내 꿈\"…일본 10대 3만명이 몰려왔다'}, 'links': [{'rel': 'alternate', 'type': 'text/html', 'href': 'https://www.mk.co.kr/news/culture/view/2022/01/80395/'}], 'link': 'https://www.mk.co.kr/news/culture/view/2022/01/80395/', 'tags': [{'term': '전체뉴스', 'scheme': None, 'label': None}], 'authors': [{'name': '매일경제'}], 'author': '매일경제', 'author_detail': {'name': '매일경제'}, 'published': '2022-01-26T17:53:17+09:00', 'published_parsed': time.struct_time(tm_year=2022, tm_mon=1, tm_mday=26, tm_hour=8, tm_min=53, tm_sec=17, tm_wday=2, tm_yday=26, tm_isdst=0), 'summary': \"2020년 3월 데뷔하자마자 일본 오리콘 차트 1위를 5차례나 휩쓸고 골든디스크 신인상을 거머쥔 현지 보이그룹 JO1은 K팝 아이돌 육성 프로그램 '프로듀스101 재팬' 출신이다. CJ ENM과 일본 대형 연예기획사 요시..\", 'summary_detail': {'type': 'text/html', 'language': None, 'base': 'https://www.mk.co.kr/rss/40300001/', 'value': \"2020년 3월 데뷔하자마자 일본 오리콘 차트 1위를 5차례나 휩쓸고 골든디스크 신인상을 거머쥔 현지 보이그룹 JO1은 K팝 아이돌 육성 프로그램 '프로듀스101 재팬' 출신이다. CJ ENM과 일본 대형 연예기획사 요시..\"}}, {'no': '2022/840501', 'title': '미국 국채 수익률 급등…뉴욕증시 하락 마감 [월가월부]', 'title_detail': {'type': 'text/plain', 'language': None, 'base': 'https://www.mk.co.kr/rss/40300001/', 'value': '미국 국채 수익률 급등…뉴욕증시 하락 마감 [월가월부]'}, 'links': [{'rel': 'alternate', 'type': 'text/html', 'href': 'https://www.mk.co.kr/news/stock/view/2022/09/840501/'}], 'link': 'https://www.mk.co.kr/news/stock/view/2022/09/840501/', 'tags': [{'term': '전체뉴스', 'scheme': None, 'label': None}], 'authors': [{'name': '매일경제'}], 'author': '매일경제', 'author_detail': {'name': '매일경제'}, 'published': '2022-09-23T06:34:12+09:00', 'published_parsed': time.struct_time(tm_year=2022, tm_mon=9, tm_mday=22, tm_hour=21, tm_min=34, tm_sec=12, tm_wday=3, tm_yday=265, tm_isdst=0), 'summary': \"'미국 중앙은행' 연방준비제도(Fed·연준)가 기준금리를 결정한 이후 뉴욕증시가 다시 하락 마감했습니다. 미국 국채 수익률이 급등하고 연준의 긴축 정책 불확실성이 부각된 가운데 투자자들은 다음 주 미국 상무..\", 'summary_detail': {'type': 'text/html', 'language': None, 'base': 'https://www.mk.co.kr/rss/40300001/', 'value': \"'미국 중앙은행' 연방준비제도(Fed·연준)가 기준금리를 결정한 이후 뉴욕증시가 다시 하락 마감했습니다. 미국 국채 수익률이 급등하고 연준의 긴축 정책 불확실성이 부각된 가운데 투자자들은 다음 주 미국 상무..\"}}, {'no': '2022/839688', 'title': '코피 터지는 코스피…전문가 \"당분간 현금비중 확대를\"', 'title_detail': {'type': 'text/plain', 'language': None, 'base': 'https://www.mk.co.kr/rss/40300001/', 'value': '코피 터지는 코스피…전문가 \"당분간 현금비중 확대를\"'}, 'links': [{'rel': 'alternate', 'type': 'text/html', 'href': 'https://www.mk.co.kr/news/stock/view/2022/09/839688/'}], 'link': 'https://www.mk.co.kr/news/stock/view/2022/09/839688/', 'tags': [{'term': '전체뉴스', 'scheme': None, 'label': None}], 'authors': [{'name': '매일경제'}], 'author': '매일경제', 'author_detail': {'name': '매일경제'}, 'published': '2022-09-22T17:52:45+09:00', 'published_parsed': time.struct_time(tm_year=2022, tm_mon=9, tm_mday=22, tm_hour=8, tm_min=52, tm_sec=45, tm_wday=3, tm_yday=265, tm_isdst=0), 'summary': '◆ 美 3연속 자이언트스텝 ◆  미국 정부가 3연속 자이언트스텝(기준금리 0.75%포인트 인상)을 단행하자 국내 유가증권시장(코스피)도 약세를 보였다. 증권가에서는 고강도 긴축에 따른 증시 하방 압력이 더욱 커질 ..', 'summary_detail': {'type': 'text/html', 'language': None, 'base': 'https://www.mk.co.kr/rss/40300001/', 'value': '◆ 美 3연속 자이언트스텝 ◆  미국 정부가 3연속 자이언트스텝(기준금리 0.75%포인트 인상)을 단행하자 국내 유가증권시장(코스피)도 약세를 보였다. 증권가에서는 고강도 긴축에 따른 증시 하방 압력이 더욱 커질 ..'}}, {'no': '2022/839390', 'title': '이제 8000원 짜리도 없다…종이값 인상에 시집 30% 올라', 'title_detail': {'type': 'text/plain', 'language': None, 'base': 'https://www.mk.co.kr/rss/40300001/', 'value': '이제 8000원 짜리도 없다…종이값 인상에 시집 30% 올라'}, 'links': [{'rel': 'alternate', 'type': 'text/html', 'href': 'https://www.mk.co.kr/news/culture/view/2022/09/839390/'}], 'link': 'https://www.mk.co.kr/news/culture/view/2022/09/839390/', 'tags': [{'term': '전체뉴스', 'scheme': None, 'label': None}], 'authors': [{'name': '매일경제'}], 'author': '매일경제', 'author_detail': {'name': '매일경제'}, 'published': '2022-09-22T17:10:25+09:00', 'published_parsed': time.struct_time(tm_year=2022, tm_mon=9, tm_mday=22, tm_hour=8, tm_min=10, tm_sec=25, tm_wday=3, tm_yday=265, tm_isdst=0), 'summary': '얇은 주머니로도 한 권의 시집을 읽으며 세상과의 불화를 달래던 문학도들의 풍경이 이제 옛말이 될 전망이다. 태풍처럼 들이닥친 고물가에 주요 출판사 시인선 권당 가격이 최근 전부 1만원을 돌파했기 때문이다...', 'summary_detail': {'type': 'text/html', 'language': None, 'base': 'https://www.mk.co.kr/rss/40300001/', 'value': '얇은 주머니로도 한 권의 시집을 읽으며 세상과의 불화를 달래던 문학도들의 풍경이 이제 옛말이 될 전망이다. 태풍처럼 들이닥친 고물가에 주요 출판사 시인선 권당 가격이 최근 전부 1만원을 돌파했기 때문이다...'}}, {'no': '2022/524929', 'title': '낡은 디올 재킷에 초현실주의 그림…걸어다니는 미술관', 'title_detail': {'type': 'text/plain', 'language': None, 'base': 'https://www.mk.co.kr/rss/40300001/', 'value': '낡은 디올 재킷에 초현실주의 그림…걸어다니는 미술관'}, 'links': [{'rel': 'alternate', 'type': 'text/html', 'href': 'https://www.mk.co.kr/news/culture/view/2022/06/524929/'}], 'link': 'https://www.mk.co.kr/news/culture/view/2022/06/524929/', 'tags': [{'term': '전체뉴스', 'scheme': None, 'label': None}], 'authors': [{'name': '매일경제'}], 'author': '매일경제', 'author_detail': {'name': '매일경제'}, 'published': '2022-06-15T17:30:25+09:00', 'published_parsed': time.struct_time(tm_year=2022, tm_mon=6, tm_mday=15, tm_hour=8, tm_min=30, tm_sec=25, tm_wday=2, tm_yday=166, tm_isdst=0), 'summary': \"저 멀리 태양이 동심원처럼 빛나고 오아시스와 야자수가 함께 있는 우주 공간에서 사자 한 마리가 담배를 피우고 있다. 캔버스에 그린 아크릴 회화는 빨간색 중고 '디올(Dior)' 재킷 뒤에 붙어 '걸어 다니는 그림'..\", 'summary_detail': {'type': 'text/html', 'language': None, 'base': 'https://www.mk.co.kr/rss/40300001/', 'value': \"저 멀리 태양이 동심원처럼 빛나고 오아시스와 야자수가 함께 있는 우주 공간에서 사자 한 마리가 담배를 피우고 있다. 캔버스에 그린 아크릴 회화는 빨간색 중고 '디올(Dior)' 재킷 뒤에 붙어 '걸어 다니는 그림'..\"}}, {'no': '2022/840289', 'title': '한국인은 왜 문해력이 떨어질까 [매경데스크]', 'title_detail': {'type': 'text/plain', 'language': None, 'base': 'https://www.mk.co.kr/rss/40300001/', 'value': '한국인은 왜 문해력이 떨어질까 [매경데스크]'}, 'links': [{'rel': 'alternate', 'type': 'text/html', 'href': 'https://www.mk.co.kr/opinion/columnists/view/2022/09/840289/'}], 'link': 'https://www.mk.co.kr/opinion/columnists/view/2022/09/840289/', 'tags': [{'term': '전체뉴스', 'scheme': None, 'label': None}], 'authors': [{'name': '매일경제'}], 'author': '매일경제', 'author_detail': {'name': '매일경제'}, 'published': '2022-09-23T00:07:01+09:00', 'published_parsed': time.struct_time(tm_year=2022, tm_mon=9, tm_mday=22, tm_hour=15, tm_min=7, tm_sec=1, tm_wday=3, tm_yday=265, tm_isdst=0), 'summary': \"1960년대 1인당 GDP가 아프리카 가나보다 못했던 한국이 세계 10위권 국가가 되었다는 서사를 한국인들은 좋아한다. 그럴만하다. '한강의 기적'은 어떤 기준에서든 세계사적으로 희귀한 사례이고 60년 전 우리가 ..\", 'summary_detail': {'type': 'text/html', 'language': None, 'base': 'https://www.mk.co.kr/rss/40300001/', 'value': \"1960년대 1인당 GDP가 아프리카 가나보다 못했던 한국이 세계 10위권 국가가 되었다는 서사를 한국인들은 좋아한다. 그럴만하다. '한강의 기적'은 어떤 기준에서든 세계사적으로 희귀한 사례이고 60년 전 우리가 ..\"}}, {'no': '2022/840286', 'title': '[매경의 창] 체외순환사를 아시나요', 'title_detail': {'type': 'text/plain', 'language': None, 'base': 'https://www.mk.co.kr/rss/40300001/', 'value': '[매경의 창] 체외순환사를 아시나요'}, 'links': [{'rel': 'alternate', 'type': 'text/html', 'href': 'https://www.mk.co.kr/opinion/contributors/view/2022/09/840286/'}], 'link': 'https://www.mk.co.kr/opinion/contributors/view/2022/09/840286/', 'tags': [{'term': '전체뉴스', 'scheme': None, 'label': None}], 'authors': [{'name': '매일경제'}], 'author': '매일경제', 'author_detail': {'name': '매일경제'}, 'published': '2022-09-23T00:05:01+09:00', 'published_parsed': time.struct_time(tm_year=2022, tm_mon=9, tm_mday=22, tm_hour=15, tm_min=5, tm_sec=1, tm_wday=3, tm_yday=265, tm_isdst=0), 'summary': '심장은 평생, 예외 없이, 쉬지 않고 일한다. 멈춤은 사망을 의미한다. 심장이 하는 일은 의외로 간단하다. 산소를 소모한 정맥혈을 폐로 보내 산소가 가득한 동맥혈로 바꾸게 하고, 그 혈액을 온몸으로 힘차게 박..', 'summary_detail': {'type': 'text/html', 'language': None, 'base': 'https://www.mk.co.kr/rss/40300001/', 'value': '심장은 평생, 예외 없이, 쉬지 않고 일한다. 멈춤은 사망을 의미한다. 심장이 하는 일은 의외로 간단하다. 산소를 소모한 정맥혈을 폐로 보내 산소가 가득한 동맥혈로 바꾸게 하고, 그 혈액을 온몸으로 힘차게 박..'}}, {'no': '2022/840284', 'title': '[기고] 대미 투자가 국내 고용 위협한다는 잘못된 믿음', 'title_detail': {'type': 'text/plain', 'language': None, 'base': 'https://www.mk.co.kr/rss/40300001/', 'value': '[기고] 대미 투자가 국내 고용 위협한다는 잘못된 믿음'}, 'links': [{'rel': 'alternate', 'type': 'text/html', 'href': 'https://www.mk.co.kr/opinion/contributors/view/2022/09/840284/'}], 'link': 'https://www.mk.co.kr/opinion/contributors/view/2022/09/840284/', 'tags': [{'term': '전체뉴스', 'scheme': None, 'label': None}], 'authors': [{'name': '매일경제'}], 'author': '매일경제', 'author_detail': {'name': '매일경제'}, 'published': '2022-09-23T00:04:02+09:00', 'published_parsed': time.struct_time(tm_year=2022, tm_mon=9, tm_mday=22, tm_hour=15, tm_min=4, tm_sec=2, tm_wday=3, tm_yday=265, tm_isdst=0), 'summary': '우리가 세계화라는 거대한 물결에 올라탄 지 30년이 흘렀다. 국내총생산과 수출은 극적으로 증가했고, 빈곤은 감소했으며, 생활수준은 크게 향상됐다. 이러한 성공은 불확실성 속에서 새로운 기회를 만들어내기 위..', 'summary_detail': {'type': 'text/html', 'language': None, 'base': 'https://www.mk.co.kr/rss/40300001/', 'value': '우리가 세계화라는 거대한 물결에 올라탄 지 30년이 흘렀다. 국내총생산과 수출은 극적으로 증가했고, 빈곤은 감소했으며, 생활수준은 크게 향상됐다. 이러한 성공은 불확실성 속에서 새로운 기회를 만들어내기 위..'}}, {'no': '2022/840285', 'title': '[매경춘추] 피임, 생명을 구한다', 'title_detail': {'type': 'text/plain', 'language': None, 'base': 'https://www.mk.co.kr/rss/40300001/', 'value': '[매경춘추] 피임, 생명을 구한다'}, 'links': [{'rel': 'alternate', 'type': 'text/html', 'href': 'https://www.mk.co.kr/opinion/contributors/view/2022/09/840285/'}], 'link': 'https://www.mk.co.kr/opinion/contributors/view/2022/09/840285/', 'tags': [{'term': '전체뉴스', 'scheme': None, 'label': None}], 'authors': [{'name': '매일경제'}], 'author': '매일경제', 'author_detail': {'name': '매일경제'}, 'published': '2022-09-23T00:04:02+09:00', 'published_parsed': time.struct_time(tm_year=2022, tm_mon=9, tm_mday=22, tm_hour=15, tm_min=4, tm_sec=2, tm_wday=3, tm_yday=265, tm_isdst=0), 'summary': '최근 러시아·우크라이나 전쟁으로 수많은 사상자가 발생하고 무고한 시민들이 폐허 속에 갈 곳을 잃었다. 하지만 물리적인 파괴만이 전쟁은 아니다. 아직도 많은 국가에서 기본적인 건강 권리가 보장되지 못해 또..', 'summary_detail': {'type': 'text/html', 'language': None, 'base': 'https://www.mk.co.kr/rss/40300001/', 'value': '최근 러시아·우크라이나 전쟁으로 수많은 사상자가 발생하고 무고한 시민들이 폐허 속에 갈 곳을 잃었다. 하지만 물리적인 파괴만이 전쟁은 아니다. 아직도 많은 국가에서 기본적인 건강 권리가 보장되지 못해 또..'}}, {'no': '2022/842254', 'title': '美NSC, \\'尹 비속어 논란\\'에 \"노코멘트\"', 'title_detail': {'type': 'text/plain', 'language': None, 'base': 'https://www.mk.co.kr/rss/40300001/', 'value': '美NSC, \\'尹 비속어 논란\\'에 \"노코멘트\"'}, 'links': [{'rel': 'alternate', 'type': 'text/html', 'href': 'https://www.mk.co.kr/news/world/view/2022/09/842254/'}], 'link': 'https://www.mk.co.kr/news/world/view/2022/09/842254/', 'tags': [{'term': '전체뉴스', 'scheme': None, 'label': None}], 'authors': [{'name': '매일경제'}], 'author': '매일경제', 'author_detail': {'name': '매일경제'}, 'published': '2022-09-23T14:17:56+09:00', 'published_parsed': time.struct_time(tm_year=2022, tm_mon=9, tm_mday=23, tm_hour=5, tm_min=17, tm_sec=56, tm_wday=4, tm_yday=266, tm_isdst=0), 'summary': '[최아영 매경닷컴 기자][ⓒ 매일경제 & mk.co.kr, 무단전재 및 재배포 금지]', 'summary_detail': {'type': 'text/html', 'language': None, 'base': 'https://www.mk.co.kr/rss/40300001/', 'value': '[최아영 매경닷컴 기자][ⓒ 매일경제 & mk.co.kr, 무단전재 및 재배포 금지]'}}, {'no': '2022/842241', 'title': '\"브레이크 밟으려다\" 80대 운전자, 차량 7대 \\'쾅쾅쾅\\'', 'title_detail': {'type': 'text/plain', 'language': None, 'base': 'https://www.mk.co.kr/rss/40300001/', 'value': '\"브레이크 밟으려다\" 80대 운전자, 차량 7대 \\'쾅쾅쾅\\''}, 'links': [{'rel': 'alternate', 'type': 'text/html', 'href': 'https://www.mk.co.kr/news/society/view/2022/09/842241/'}], 'link': 'https://www.mk.co.kr/news/society/view/2022/09/842241/', 'tags': [{'term': '전체뉴스', 'scheme': None, 'label': None}], 'authors': [{'name': '매일경제'}], 'author': '매일경제', 'author_detail': {'name': '매일경제'}, 'published': '2022-09-23T14:12:14+09:00', 'published_parsed': time.struct_time(tm_year=2022, tm_mon=9, tm_mday=23, tm_hour=5, tm_min=12, tm_sec=14, tm_wday=4, tm_yday=266, tm_isdst=0), 'summary': '경남 김해시의 한 아파트에서 80대 운전자가 주차장에서 차량 7대를 들이받는 사고가 발생했다.23일 김해중부경찰서에 따르면 지난 21일 오후 8시 20분쯤 김해시 외동 한 아파트 주차장에서 80대 A씨가 자신의 스포..', 'summary_detail': {'type': 'text/html', 'language': None, 'base': 'https://www.mk.co.kr/rss/40300001/', 'value': '경남 김해시의 한 아파트에서 80대 운전자가 주차장에서 차량 7대를 들이받는 사고가 발생했다.23일 김해중부경찰서에 따르면 지난 21일 오후 8시 20분쯤 김해시 외동 한 아파트 주차장에서 80대 A씨가 자신의 스포..'}}, {'no': '2022/840288', 'title': '[기자24시] 사모펀드는 나쁠 수도 좋을 수도 있다', 'title_detail': {'type': 'text/plain', 'language': None, 'base': 'https://www.mk.co.kr/rss/40300001/', 'value': '[기자24시] 사모펀드는 나쁠 수도 좋을 수도 있다'}, 'links': [{'rel': 'alternate', 'type': 'text/html', 'href': 'https://www.mk.co.kr/opinion/journalist/view/2022/09/840288/'}], 'link': 'https://www.mk.co.kr/opinion/journalist/view/2022/09/840288/', 'tags': [{'term': '전체뉴스', 'scheme': None, 'label': None}], 'authors': [{'name': '매일경제'}], 'author': '매일경제', 'author_detail': {'name': '매일경제'}, 'published': '2022-09-23T00:06:01+09:00', 'published_parsed': time.struct_time(tm_year=2022, tm_mon=9, tm_mday=22, tm_hour=15, tm_min=6, tm_sec=1, tm_wday=3, tm_yday=265, tm_isdst=0), 'summary': '최근 여행 스타트업 마이리얼트립은 사모펀드 운용사 VIG얼터너티브크레딧을 대상으로 500억원 규모의 신주인수권부사채(BW)를 발행했다. 쉽게 말해 사모펀드를 통해 500억원을 대출한 것이다. 금리 급등으로 인해 ..', 'summary_detail': {'type': 'text/html', 'language': None, 'base': 'https://www.mk.co.kr/rss/40300001/', 'value': '최근 여행 스타트업 마이리얼트립은 사모펀드 운용사 VIG얼터너티브크레딧을 대상으로 500억원 규모의 신주인수권부사채(BW)를 발행했다. 쉽게 말해 사모펀드를 통해 500억원을 대출한 것이다. 금리 급등으로 인해 ..'}}, {'no': '2022/839687', 'title': '마케팅 대가의 예언…\"\\'이것\\' 변해야 안망한다\"', 'title_detail': {'type': 'text/plain', 'language': None, 'base': 'https://www.mk.co.kr/rss/40300001/', 'value': '마케팅 대가의 예언…\"\\'이것\\' 변해야 안망한다\"'}, 'links': [{'rel': 'alternate', 'type': 'text/html', 'href': 'https://www.mk.co.kr/news/economy/view/2022/09/839687/'}], 'link': 'https://www.mk.co.kr/news/economy/view/2022/09/839687/', 'tags': [{'term': '전체뉴스', 'scheme': None, 'label': None}], 'authors': [{'name': '매일경제'}], 'author': '매일경제', 'author_detail': {'name': '매일경제'}, 'published': '2022-09-22T17:52:31+09:00', 'published_parsed': time.struct_time(tm_year=2022, tm_mon=9, tm_mday=22, tm_hour=8, tm_min=52, tm_sec=31, tm_wday=3, tm_yday=265, tm_isdst=0), 'summary': \"◆ 세계지식포럼 / '마케팅 구루' 필립 코틀러 ◆  제 예측이지만, 기업이 지속가능성을 추구하지 않고 똑같은 사업만 한다면 5년 내 폐업할 것입니다.필립 코틀러 노스웨스턴대 켈로그경영대학원 국제마케팅 석좌교..\", 'summary_detail': {'type': 'text/html', 'language': None, 'base': 'https://www.mk.co.kr/rss/40300001/', 'value': \"◆ 세계지식포럼 / '마케팅 구루' 필립 코틀러 ◆  제 예측이지만, 기업이 지속가능성을 추구하지 않고 똑같은 사업만 한다면 5년 내 폐업할 것입니다.필립 코틀러 노스웨스턴대 켈로그경영대학원 국제마케팅 석좌교..\"}}, {'no': '2022/495151', 'title': \"의자 하나에 1억…루이비통 '가구 전시회' 표 동났다\", 'title_detail': {'type': 'text/plain', 'language': None, 'base': 'https://www.mk.co.kr/rss/40300001/', 'value': \"의자 하나에 1억…루이비통 '가구 전시회' 표 동났다\"}, 'links': [{'rel': 'alternate', 'type': 'text/html', 'href': 'https://www.mk.co.kr/news/business/view/2022/06/495151/'}], 'link': 'https://www.mk.co.kr/news/business/view/2022/06/495151/', 'tags': [{'term': '전체뉴스', 'scheme': None, 'label': None}], 'authors': [{'name': '매일경제'}], 'author': '매일경제', 'author_detail': {'name': '매일경제'}, 'published': '2022-06-06T08:20:11+09:00', 'published_parsed': time.struct_time(tm_year=2022, tm_mon=6, tm_mday=5, tm_hour=23, tm_min=20, tm_sec=11, tm_wday=6, tm_yday=156, tm_isdst=0), 'summary': '프랑스 명품 브랜드 루이비통이 국내 최초로 디자인 가구 단독 전시를 선보이자 주요 시간대 사전 예약이 빠르게 마감됐다.\\n루이비통은 오는 7일부터 19일까지 서울 강남구 청담동의 비영리 문화공간 송은에서 디..', 'summary_detail': {'type': 'text/html', 'language': None, 'base': 'https://www.mk.co.kr/rss/40300001/', 'value': '프랑스 명품 브랜드 루이비통이 국내 최초로 디자인 가구 단독 전시를 선보이자 주요 시간대 사전 예약이 빠르게 마감됐다.\\n루이비통은 오는 7일부터 19일까지 서울 강남구 청담동의 비영리 문화공간 송은에서 디..'}}, {'no': '2022/842516', 'title': '[데이터로 보는 세상] 자극적인 정보의 요람, 극우 유튜브 인기 뚝', 'title_detail': {'type': 'text/plain', 'language': None, 'base': 'https://www.mk.co.kr/rss/40300001/', 'value': '[데이터로 보는 세상] 자극적인 정보의 요람, 극우 유튜브 인기 뚝'}, 'links': [{'rel': 'alternate', 'type': 'text/html', 'href': 'https://www.mk.co.kr/news/business/view/2022/09/842516/'}], 'link': 'https://www.mk.co.kr/news/business/view/2022/09/842516/', 'tags': [{'term': '전체뉴스', 'scheme': None, 'label': None}], 'authors': [{'name': '매일경제'}], 'author': '매일경제', 'author_detail': {'name': '매일경제'}, 'published': '2022-09-23T14:59:29+09:00', 'published_parsed': time.struct_time(tm_year=2022, tm_mon=9, tm_mday=23, tm_hour=5, tm_min=59, tm_sec=29, tm_wday=4, tm_yday=266, tm_isdst=0), 'summary': '극단적인 우파 성향 유튜브의 인기가 시들해진 모습이다. 대선 직전만 해도 유튜브 슈퍼챗 순위 상위권에 이름을 올렸던 극우 유튜브 채널들이 8월 들어 순위권에서 사라졌다. 해당 유튜브들이 쏟아내는 자극적인 정..', 'summary_detail': {'type': 'text/html', 'language': None, 'base': 'https://www.mk.co.kr/rss/40300001/', 'value': '극단적인 우파 성향 유튜브의 인기가 시들해진 모습이다. 대선 직전만 해도 유튜브 슈퍼챗 순위 상위권에 이름을 올렸던 극우 유튜브 채널들이 8월 들어 순위권에서 사라졌다. 해당 유튜브들이 쏟아내는 자극적인 정..'}}, {'no': '2022/842511', 'title': '[속보] 원희룡 감찰 지시 이틀 만에…김진숙 도로공사 사장 전격 사의', 'title_detail': {'type': 'text/plain', 'language': None, 'base': 'https://www.mk.co.kr/rss/40300001/', 'value': '[속보] 원희룡 감찰 지시 이틀 만에…김진숙 도로공사 사장 전격 사의'}, 'links': [{'rel': 'alternate', 'type': 'text/html', 'href': 'https://www.mk.co.kr/news/society/view/2022/09/842511/'}], 'link': 'https://www.mk.co.kr/news/society/view/2022/09/842511/', 'tags': [{'term': '전체뉴스', 'scheme': None, 'label': None}], 'authors': [{'name': '매일경제'}], 'author': '매일경제', 'author_detail': {'name': '매일경제'}, 'published': '2022-09-23T14:58:07+09:00', 'published_parsed': time.struct_time(tm_year=2022, tm_mon=9, tm_mday=23, tm_hour=5, tm_min=58, tm_sec=7, tm_wday=4, tm_yday=266, tm_isdst=0), 'summary': '[최아영 매경닷컴 기자]', 'summary_detail': {'type': 'text/html', 'language': None, 'base': 'https://www.mk.co.kr/rss/40300001/', 'value': '[최아영 매경닷컴 기자]'}}, {'no': '2022/842490', 'title': '파업 손배 청구 제한 ‘노란봉투법’ 필요할까', 'title_detail': {'type': 'text/plain', 'language': None, 'base': 'https://www.mk.co.kr/rss/40300001/', 'value': '파업 손배 청구 제한 ‘노란봉투법’ 필요할까'}, 'links': [{'rel': 'alternate', 'type': 'text/html', 'href': 'https://www.mk.co.kr/news/business/view/2022/09/842490/'}], 'link': 'https://www.mk.co.kr/news/business/view/2022/09/842490/', 'tags': [{'term': '전체뉴스', 'scheme': None, 'label': None}], 'authors': [{'name': '매일경제'}], 'author': '매일경제', 'author_detail': {'name': '매일경제'}, 'published': '2022-09-23T14:55:33+09:00', 'published_parsed': time.struct_time(tm_year=2022, tm_mon=9, tm_mday=23, tm_hour=5, tm_min=55, tm_sec=33, tm_wday=4, tm_yday=266, tm_isdst=0), 'summary': '매경이코노미는 정치 데이터 플랫폼 ‘옥소폴리틱스’와 손잡고 ‘민심으로 보는 세상’ 코너를 연재합니다. 새롭게 부상하는 사회적 이슈나 정책 등에 대한 시민 생각을 살펴보기 위한 취지입니다. 옥소폴리틱스는..', 'summary_detail': {'type': 'text/html', 'language': None, 'base': 'https://www.mk.co.kr/rss/40300001/', 'value': '매경이코노미는 정치 데이터 플랫폼 ‘옥소폴리틱스’와 손잡고 ‘민심으로 보는 세상’ 코너를 연재합니다. 새롭게 부상하는 사회적 이슈나 정책 등에 대한 시민 생각을 살펴보기 위한 취지입니다. 옥소폴리틱스는..'}}, {'no': '2022/842456', 'title': '[신간] 2022 이효석문학상 대상, 김멜라의 ‘제 꿈 꾸세요’ | 다른 사람의 꿈속으로 떠나는 여행 이야기', 'title_detail': {'type': 'text/plain', 'language': None, 'base': 'https://www.mk.co.kr/rss/40300001/', 'value': '[신간] 2022 이효석문학상 대상, 김멜라의 ‘제 꿈 꾸세요’ | 다른 사람의 꿈속으로 떠나는 여행 이야기'}, 'links': [{'rel': 'alternate', 'type': 'text/html', 'href': 'https://www.mk.co.kr/news/business/view/2022/09/842456/'}], 'link': 'https://www.mk.co.kr/news/business/view/2022/09/842456/', 'tags': [{'term': '전체뉴스', 'scheme': None, 'label': None}], 'authors': [{'name': '매일경제'}], 'author': '매일경제', 'author_detail': {'name': '매일경제'}, 'published': '2022-09-23T14:53:33+09:00', 'published_parsed': time.struct_time(tm_year=2022, tm_mon=9, tm_mday=23, tm_hour=5, tm_min=53, tm_sec=33, tm_wday=4, tm_yday=266, tm_isdst=0), 'summary': '한국 단편문학의 어제와 오늘을 대표하는 작가 작품이 한자리에 모였다.\\n올해로 23회째를 맞이하는 이효석문학상 선정은 오정희, 구효서, 김동식, 편혜영, 이경재가 심사위원단으로 참여해 진행됐다. 심사위원단..', 'summary_detail': {'type': 'text/html', 'language': None, 'base': 'https://www.mk.co.kr/rss/40300001/', 'value': '한국 단편문학의 어제와 오늘을 대표하는 작가 작품이 한자리에 모였다.\\n올해로 23회째를 맞이하는 이효석문학상 선정은 오정희, 구효서, 김동식, 편혜영, 이경재가 심사위원단으로 참여해 진행됐다. 심사위원단..'}}, {'no': '2022/842431', 'title': '[신간] 기빙 파워 | 훌륭한 조직 원한다면 구성원과 권력 나눠라', 'title_detail': {'type': 'text/plain', 'language': None, 'base': 'https://www.mk.co.kr/rss/40300001/', 'value': '[신간] 기빙 파워 | 훌륭한 조직 원한다면 구성원과 권력 나눠라'}, 'links': [{'rel': 'alternate', 'type': 'text/html', 'href': 'https://www.mk.co.kr/opinion/columnists/view/2022/09/842431/'}], 'link': 'https://www.mk.co.kr/opinion/columnists/view/2022/09/842431/', 'tags': [{'term': '전체뉴스', 'scheme': None, 'label': None}], 'authors': [{'name': '매일경제'}], 'author': '매일경제', 'author_detail': {'name': '매일경제'}, 'published': '2022-09-23T14:52:32+09:00', 'published_parsed': time.struct_time(tm_year=2022, tm_mon=9, tm_mday=23, tm_hour=5, tm_min=52, tm_sec=32, tm_wday=4, tm_yday=266, tm_isdst=0), 'summary': '조직을 성공적으로 이끌고 싶은 리더에게 보내는 메시지를 담은 책. 스웨덴과 영국 주재 미국 대사로 재직한 이력이 있는 사업가 매슈 바전은 ‘훌륭한 조직을 원한다면 리더가 권력을 나눠야 한다’고 강조한다. ..', 'summary_detail': {'type': 'text/html', 'language': None, 'base': 'https://www.mk.co.kr/rss/40300001/', 'value': '조직을 성공적으로 이끌고 싶은 리더에게 보내는 메시지를 담은 책. 스웨덴과 영국 주재 미국 대사로 재직한 이력이 있는 사업가 매슈 바전은 ‘훌륭한 조직을 원한다면 리더가 권력을 나눠야 한다’고 강조한다. ..'}}]\n"
     ]
    }
   ],
   "source": [
    "import feedparser\n",
    "\n",
    "# https://www.mk.co.kr/rss/40300001/\n",
    "d = feedparser.parse('https://www.mk.co.kr/rss/40300001/') # 전체 뉴스\n",
    "print(type(d))\n",
    "print(d.keys())\n",
    "print(d['href']) # RSS피드 주소값\n",
    "print(d.href)\n",
    "print(d.feed.title) #RSS 피드(자체) 정보\n",
    "print(d.entries) #제공되는 기사가 저장되어 있는 속성"
   ]
  },
  {
   "cell_type": "code",
   "execution_count": 31,
   "id": "431affae",
   "metadata": {},
   "outputs": [
    {
     "name": "stdout",
     "output_type": "stream",
     "text": [
      "고등학교 가정통신문에 서부선 역사 청원\n",
      "https://www.mk.co.kr/news/society/view/2022/09/842240/\n",
      "은평구 새절역에서 관악구 서울대입구역을 연결하는 '서부선'이 2023년 착공을 앞두고 있는 가운데, 은평구 응암초 인근으로 예정된 '102'역사 위치를 두고 두 자치구 주민 사이 갈등이 빚어지고 있다. 서대문구에..\n",
      "2022-09-23T14:12:09+09:00\n"
     ]
    }
   ],
   "source": [
    "article = d.entries[0]\n",
    "print(article['title']) # 첫 번째 기사의 제목\n",
    "print(article['link']) # 첫 번째 기사를 제공하는 웹 페이지 url\n",
    "print(article['summary']) # 첫 번째 기사의 요약된 내용\n",
    "print(article['published']) # 첫 번째 기사 작성 및 게시 날짜 시간"
   ]
  },
  {
   "cell_type": "code",
   "execution_count": 38,
   "id": "05dfb59f",
   "metadata": {},
   "outputs": [
    {
     "name": "stdout",
     "output_type": "stream",
     "text": [
      "* 송치형 두나무 회장 \"크립토 윈터 지나면 블록체인 세대 나올 것\" \"이번 '크립토 윈터(가상화폐 하락장)'가 끝나면, 이제까지와는 전혀 다른 새로운 국면이 될 것이다. 혁신적인 블록체인 상품과 서비스를 만들어야 겨울을 끝낼 수 있다.\"\n",
      "송치형 두나무 회장 겸 이사회 의장은 2.. https://www.mk.co.kr/news/economy/view/2022/09/839978/\n"
     ]
    }
   ],
   "source": [
    "# 경제 카테고리에서 제공하는 기사중에서 제목에 '코인'이 포함되어 있거나 기사 내용 요약에 '코인'이 포함된 내용만\n",
    "# 제목 전체와 기사 요약된 내용을 지공하는 웹 페이지 url을 출력하세요\n",
    "# https://www.mk.co.kr/rss/30100041/\n",
    "\n",
    "d = feedparser.parse('https://www.mk.co.kr/rss/30100041/') # 경제 뉴스\n",
    "\n",
    "for entry in d.entries:\n",
    "    if '블록체인' in entry['title'] or '블록체인' in entry['summary']:\n",
    "        print('*', entry['title'], entry['summary'], entry['link'])\n",
    "        "
   ]
  },
  {
   "cell_type": "code",
   "execution_count": 5,
   "id": "73184277",
   "metadata": {},
   "outputs": [
    {
     "name": "stdout",
     "output_type": "stream",
     "text": [
      "BIG Naughty(서동현) - Frank Ocean (Feat. SOLE) (Prod. Cosmic Boy) / 가사(Lyrics)\n",
      "https://www.youtube.com/watch?v=tmnxdVfJSj4\n"
     ]
    }
   ],
   "source": [
    "#https://www.youtube.com/   ‘hero’ 음악 검색, 첫번째 url만 추출 출력\n",
    "import time\n",
    "from selenium import webdriver\n",
    "from webdriver_manager.chrome import ChromeDriverManager\n",
    "from selenium.webdriver.chrome.service import Service\n",
    "from selenium.webdriver.common.by import By\n",
    "#sp_nws1 > div.news_wrap.api_ani_send > div > div.news_dsc > div > a\n",
    "location =\"https://www.youtube.com/\"\n",
    "TIMEOUT = 3  \n",
    "\n",
    "try:\n",
    "    service = Service(executable_path=\"./chromedriver\")\n",
    "    driver = webdriver.Chrome(service=service)    #브라우저 실행시키위한 드라이버 객체 생성 (브라우저 실행)\n",
    "    driver.get(location)                          #url 요청\n",
    "    time.sleep(2)\n",
    "    qstr = 'frank ocean'  # 검색 질의어 believer\n",
    "    driver.find_element(by=By.CSS_SELECTOR, value='input#search').send_keys(qstr)  # 질의어 입력 \n",
    "    driver.find_element(by=By.CSS_SELECTOR, value='button#search-icon-legacy').click()  # 검색 버튼 클릭\n",
    "    time.sleep(2)    # 검색 결과가 나올 때 까지 약간 대기\n",
    "\n",
    "    for elem in driver.find_elements(by=By.CSS_SELECTOR, value='a#video-title'):\n",
    "        if qstr in elem.text.lower():\n",
    "            print(elem.text)\n",
    "            print(elem.get_attribute('href'))\n",
    "            break\n",
    "            \n",
    "    driver.close()  # 헤드리스 크롬을 종료한다\n",
    "    \n",
    "except Exception:\n",
    "        raise\n",
    "finally:\n",
    "     if driver is not None:\n",
    "        driver.quit()      "
   ]
  },
  {
   "cell_type": "code",
   "execution_count": 65,
   "id": "43e95d45",
   "metadata": {},
   "outputs": [
    {
     "name": "stdout",
     "output_type": "stream",
     "text": [
      "https://www.career.go.kr/cnet/openapi/getOpenApi?apiKey=9da6d5499bf9a3a5f29ff60f394de120&svcType=api&svcCode=JOB&contentType=json&gubun=job_dic_list&perPage=1000\n",
      "<class 'dict'>\n",
      "454\n"
     ]
    }
   ],
   "source": [
    "endpoint = \"https://www.career.go.kr/cnet/openapi/getOpenApi?\"\n",
    "apiKey = \"9da6d5499bf9a3a5f29ff60f394de120\"\n",
    "svcType=\"api\"\n",
    "svcCode=\"JOB\"\n",
    "contentType=\"json\"\n",
    "gubun=\"job_dic_list\"\n",
    "perPage=\"1000\"\n",
    "\n",
    "paramset = \"apiKey=\"+apiKey+\"&svcType=\"+svcType+\"&svcCode=\"+svcCode+\"&contentType=\"+contentType \\\n",
    "           +\"&gubun=\"+gubun+\"&perPage=\"+perPage\n",
    "url = endpoint+paramset\n",
    "print(url)\n",
    "\n",
    "result = requests.get(url)\n",
    "career_data = result.json()\n",
    "\n",
    "print(type(career_data))\n",
    "print(len(career_data['dataSearch']['content']))"
   ]
  },
  {
   "cell_type": "code",
   "execution_count": 72,
   "id": "8d03e8a6",
   "metadata": {},
   "outputs": [
    {
     "data": {
      "text/plain": [
       "4000"
      ]
     },
     "execution_count": 72,
     "metadata": {},
     "output_type": "execute_result"
    }
   ],
   "source": [
    "int(career['salery'].split(' ')[0])"
   ]
  },
  {
   "cell_type": "code",
   "execution_count": 66,
   "id": "5a67f8c6",
   "metadata": {
    "collapsed": true
   },
   "outputs": [
    {
     "name": "stdout",
     "output_type": "stream",
     "text": [
      "163\n",
      "103747 감정평가사\n",
      "103951 건축사\n",
      "103956 건설공사품질관리원\n",
      "103975 건설기계운전원\n",
      "103797 판사\n",
      "104067 게임기획자\n",
      "103743 경영컨설턴트\n",
      "103789 행정학연구원\n",
      "104080 고객관리시스템(CRM)전문가\n",
      "103749 관세사\n",
      "103977 광원 및 채석원\n",
      "103804 교도관\n",
      "103788 철학연구원\n",
      "103720 교장\n",
      "103713 행정부고위공무원\n",
      "104018 금속가공장치조작원\n",
      "104004 재료공학기술자\n",
      "103766 금융자산운용가(펀드매니저)\n",
      "103983 항공우주공학기술자\n",
      "103786 화학연구원\n",
      "103712 기업고위임원\n",
      "103843 스포츠해설가\n",
      "103744 노무사\n",
      "103860 녹음기사\n",
      "103891 상품중개인\n",
      "103792 농업기술자\n",
      "104098 환경컨설턴트\n",
      "104101 에너지공학기술자\n",
      "103867 선장 및 항해사\n",
      "103955 도시 및 교통설계전문가\n",
      "103750 마케팅전문가\n",
      "104075 통신엔지니어\n",
      "104052 전자공학기술자\n",
      "104061 발전장치조작원\n",
      "103857 영화기획자\n",
      "104071 방송장비(H/W)설치 및 수리원\n",
      "103873 버스운전기사\n",
      "103800 법무사\n",
      "104069 정보중개인\n",
      "103799 변리사\n",
      "103798 변호사\n",
      "103767 보험계리인\n",
      "103936 비행기승무원\n",
      "103868 비행기조종사\n",
      "104104 산업안전관리원\n",
      "104108 상ㆍ하수도 처리장치 조작원\n",
      "103973 상수도기술자\n",
      "103787 해부학연구원\n",
      "103774 생활설계사\n",
      "104033 화학공학기술자\n",
      "103765 증권중개인\n",
      "104034 섬유공학기술자\n",
      "103858 성우\n",
      "103748 세무사\n",
      "103802 소방관\n",
      "103768 손해사정사\n",
      "103859 아나운서\n",
      "103812 수의사\n",
      "104079 시스템소프트웨어개발자\n",
      "104076 IT컨설턴트\n",
      "103752 시장 및 여론조사전문가\n",
      "104091 식품공학기술자\n",
      "103772 신용관련추심원\n",
      "103764 투자분석가(애널리스트)\n",
      "103871 신호원 및 수송원\n",
      "103813 약사 및 한약사\n",
      "104132 양식원\n",
      "103861 영사기사\n",
      "103890 영업원\n",
      "103917 운동감독\n",
      "103918 카레이서\n",
      "103773 은행출납사무원\n",
      "103783 인문사회계열교수\n",
      "103761 일반공무원\n",
      "103808 일반의사\n",
      "103888 자동차영업원\n",
      "104001 자동차조립원\n",
      "103785 장학사\n",
      "104056 전공\n",
      "104053 전기공학기술자\n",
      "103810 전문의사\n",
      "103962 전통건축원\n",
      "104130 조림 영림 및 벌목원\n",
      "103876 크레인 및 호이스트운전원\n",
      "103846 지휘자\n",
      "103708 직업군인\n",
      "103870 철도 및 지하철기관사\n",
      "103993 철도차량정비원\n",
      "103793 초등학교교사\n",
      "103954 측량사\n",
      "103821 치과기공사\n",
      "103809 치과의사\n",
      "104074 컴퓨터하드웨어 기술자 및 연구원\n",
      "103952 토목공학기술자\n",
      "103795 특수교사\n",
      "104111 펄프 및 종이 생산직\n",
      "103811 한의사\n",
      "103869 항공교통관제사\n",
      "103980 항공기·선박조립 및 검사원\n",
      "103992 항공기정비원\n",
      "104106 해양수산기술자\n",
      "103829 헤드헌터\n",
      "103815 호스피스전문간호사\n",
      "103710 호텔지배인\n",
      "103746 회계사\n"
     ]
    }
   ],
   "source": [
    "career_list = career_data['dataSearch']['content']\n",
    "salary_4000_count = 0\n",
    "salary_4000_profession = {}\n",
    "\n",
    "for career in career_list :\n",
    "    if career['salery'] != 'null':\n",
    "        if int(career['salery'].split(' ')[0]) == 4000:\n",
    "            salary_4000_count += 1\n",
    "            salary_4000_profession[career['job_ctg_code']] = career['job']\n",
    "        \n",
    "print(str(salary_4000_count))\n",
    "\n",
    "for k, v in salary_4000_profession.items():\n",
    "    print(k, v)"
   ]
  },
  {
   "cell_type": "code",
   "execution_count": null,
   "id": "2f9828eb",
   "metadata": {},
   "outputs": [],
   "source": [
    "네이버 뉴스에서 특정 키워드를 검색해서, 첫 페이지의 모든 기사들의 제목과 언론사, 요약 기사내용을 크롤링"
   ]
  },
  {
   "cell_type": "code",
   "execution_count": 5,
   "id": "e78a2588",
   "metadata": {
    "collapsed": true
   },
   "outputs": [
    {
     "name": "stdout",
     "output_type": "stream",
     "text": [
      "{\n",
      "\t\"lastBuildDate\":\"Sat, 24 Sep 2022 18:23:45 +0900\",\n",
      "\t\"total\":628385,\n",
      "\t\"start\":1,\n",
      "\t\"display\":10,\n",
      "\t\"items\":[\n",
      "\t\t{\n",
      "\t\t\t\"title\":\"“초기 아담 의상 변환 등 한계… ‘탈중앙’ 가상인간으로 컴백” [이슈 속으...\",\n",
      "\t\t\t\"originallink\":\"http:\\/\\/www.segye.com\\/content\\/html\\/2022\\/09\\/19\\/20220919519172.html?OutUrl=naver\",\n",
      "\t\t\t\"link\":\"https:\\/\\/n.news.naver.com\\/mnews\\/article\\/022\\/0003737841?sid=101\",\n",
      "\t\t\t\"description\":\"활동 <b>아이폰<\\/b> 활성화 이후 모바일 무한 확장 사이버 시공간 활용 현실의 문제 극복 성별·인종 다양한 ‘아담... “2007년 스티브 잡스가 <b>아이폰<\\/b>을 출시하면서 컴퓨터가 전화기 속으로 들어오는 모바일 시대가 열렸다. 언제... \",\n",
      "\t\t\t\"pubDate\":\"Sat, 24 Sep 2022 17:02:00 +0900\"\n",
      "\t\t},\n",
      "\t\t{\n",
      "\t\t\t\"title\":\"[종합] 애플 <b>아이폰<\\/b>14 출시일 화제 &apos;사전예약·색상·가격·혜택은?&apos;\",\n",
      "\t\t\t\"originallink\":\"https:\\/\\/www.sisamagazine.co.kr\\/news\\/articleView.html?idxno=466029\",\n",
      "\t\t\t\"link\":\"https:\\/\\/www.sisamagazine.co.kr\\/news\\/articleView.html?idxno=466029\",\n",
      "\t\t\t\"description\":\"<b>아이폰<\\/b>14 \\/ 사진=애플 홈페이지 애플 <b>아이폰<\\/b>14 출시를 앞두고 통신사별 사전 예약 혜택, 가격, 색상 등에 대한 관심이 뜨겁다. 지난 16일 통신업계에 따르면 SK텔레콤, KT, LG유플러스 등 이동통신 3사는 오는 30일부터... \",\n",
      "\t\t\t\"pubDate\":\"Sat, 24 Sep 2022 16:18:00 +0900\"\n",
      "\t\t},\n",
      "\t\t{\n",
      "\t\t\t\"title\":\"애플 앱 가격 인상...킹달러, 디지털 시장도 흔든다\",\n",
      "\t\t\t\"originallink\":\"http:\\/\\/weekly.chosun.com\\/news\\/articleView.html?idxno=22257\",\n",
      "\t\t\t\"link\":\"https:\\/\\/n.news.naver.com\\/mnews\\/article\\/053\\/0000032772?sid=101\",\n",
      "\t\t\t\"description\":\"당장 다음 달부터 <b>아이폰<\\/b> 사용자들이 쓰는 앱과 인앱(in-app) 결제 가격이 오른다. 애플은 9 월 19일(현지시간) 애플 개발자 홈페이지에 유로존 전역과 일부 아시아 국가에서 앱 및 앱 내 구입 가격의 인상을 공지했다.... \",\n",
      "\t\t\t\"pubDate\":\"Sat, 24 Sep 2022 16:01:00 +0900\"\n",
      "\t\t},\n",
      "\t\t{\n",
      "\t\t\t\"title\":\"애플이 노치 말고도 없앤 것 한 가지… 유심 가고 &apos;e-sim&apos;시대 [정혜진의 Why...\",\n",
      "\t\t\t\"originallink\":\"https:\\/\\/www.sedaily.com\\/NewsView\\/26B76JTZRY\",\n",
      "\t\t\t\"link\":\"https:\\/\\/n.news.naver.com\\/mnews\\/article\\/011\\/0004102527?sid=104\",\n",
      "\t\t\t\"description\":\"애플이 지난 7일(현지 시간) 공개한 <b>아이폰<\\/b>14 시리즈에서 ‘노치(M자 모양의 움푹 파인 테두리)’ 말고도... 애플이 미국 내에 출시된 <b>아이폰<\\/b>14 시리즈에는 전면적으로 심카드 트레이를 없애면서 ‘e-sim only&apos;체제를... \",\n",
      "\t\t\t\"pubDate\":\"Sat, 24 Sep 2022 15:01:00 +0900\"\n",
      "\t\t},\n",
      "\t\t{\n",
      "\t\t\t\"title\":\"애플 <b>아이폰<\\/b>14 시리즈 한국 출시일 10월 7일 확장…일반형 125만원\",\n",
      "\t\t\t\"originallink\":\"http:\\/\\/www.econonews.co.kr\\/news\\/articleView.html?idxno=260922\",\n",
      "\t\t\t\"link\":\"http:\\/\\/www.econonews.co.kr\\/news\\/articleView.html?idxno=260922\",\n",
      "\t\t\t\"description\":\" 애플의 하반기 플래그십폰 &apos;<b>아이폰<\\/b>14&apos; 시리즈의 한국 출시일이 오는 10월7일로 확정됐다. 24일 업계에 따르면 애플은 <b>아이폰<\\/b>14 4종(일반형·플러스·프로·프로 맥스)과 애플워치8 시리즈, 애플워치 울트라를 내달... \",\n",
      "\t\t\t\"pubDate\":\"Sat, 24 Sep 2022 13:20:00 +0900\"\n",
      "\t\t},\n",
      "\t\t{\n",
      "\t\t\t\"title\":\"갤럭시S23 울트라, 모델번호 및 충전속도 정보 유출\",\n",
      "\t\t\t\"originallink\":\"http:\\/\\/www.betanews.net:8080\\/article\\/1362938.html\",\n",
      "\t\t\t\"link\":\"http:\\/\\/www.betanews.net:8080\\/article\\/1362938.html\",\n",
      "\t\t\t\"description\":\"퀄컴 X70 5G 모뎀을 사용하며 <b>아이폰<\\/b>14 프로 맥스에 내장돼 인상적인 성능을 자랑했던 삼성의 새 M12 OLED... 라이벌인 애플 <b>아이폰<\\/b>14 프로 맥스의 경우 30W 충전기술과 4,323mAh 용량의 배터리를 내장했는데... \",\n",
      "\t\t\t\"pubDate\":\"Sat, 24 Sep 2022 13:16:00 +0900\"\n",
      "\t\t},\n",
      "\t\t{\n",
      "\t\t\t\"title\":\"KB증권, 9월 넷째주 현대중공업 등 7종목 매수 추천 \",\n",
      "\t\t\t\"originallink\":\"http:\\/\\/www.bigtanews.co.kr\\/news\\/articleView.html?idxno=11921\",\n",
      "\t\t\t\"link\":\"http:\\/\\/www.bigtanews.co.kr\\/news\\/articleView.html?idxno=11921\",\n",
      "\t\t\t\"description\":\"LG이노텍(011070) <b>아이폰<\\/b>14 프로 판매 비중이 전체의 65%로 전작 대비 18%p 증가하며 하반기 실적 역대 최고치 예상. 멕시코 공장에 자율주행차용 카메라 모듈 생산라인의 신규 증설 추진이 예상되어 인플레이션... \",\n",
      "\t\t\t\"pubDate\":\"Sat, 24 Sep 2022 11:20:00 +0900\"\n",
      "\t\t},\n",
      "\t\t{\n",
      "\t\t\t\"title\":\"애플 <b>아이폰<\\/b>14 출시일 D-14, 가격·색상 및 사전예약 사은품·혜택은?\",\n",
      "\t\t\t\"originallink\":\"https:\\/\\/www.gukjenews.com\\/news\\/articleView.html?idxno=2557382\",\n",
      "\t\t\t\"link\":\"https:\\/\\/www.gukjenews.com\\/news\\/articleView.html?idxno=2557382\",\n",
      "\t\t\t\"description\":\"애플 <b>아이폰<\\/b>14 출시일 D-14, 가격·색상 및 사전예약 사은품·혜택은? \\/ 사진=애플 <b>아이폰<\\/b>14 시리즈(<b>아이폰<\\/b>14·플러스·프로·프로맥스) 출시일, 가격, 사전예약 혜택, 사은품 등을 향한 관심이 뜨겁다. SK텔레콤은... \",\n",
      "\t\t\t\"pubDate\":\"Sat, 24 Sep 2022 10:52:00 +0900\"\n",
      "\t\t},\n",
      "\t\t{\n",
      "\t\t\t\"title\":\"주말드라마 &apos;작은 아씨들&apos; 7·8회 관전포인트, 위하준·김고은 서늘한 분위기...\",\n",
      "\t\t\t\"originallink\":\"http:\\/\\/www.lecturernews.com\\/news\\/articleView.html?idxno=107826\",\n",
      "\t\t\t\"link\":\"http:\\/\\/www.lecturernews.com\\/news\\/articleView.html?idxno=107826\",\n",
      "\t\t\t\"description\":\"아이가 아플 때는 밤잠을 자지 않고 번갈아 돌보았고, 허리띠를 졸라 나이키 운동화, 롱패딩, <b>아이폰<\\/b> 같은 것들을 사주었다. 그렇지만 인혜는 언니들이 주는 것을 편하게 받지 못한다. 야근, 배고픔, 불편함, 굴욕감.... \",\n",
      "\t\t\t\"pubDate\":\"Sat, 24 Sep 2022 10:50:00 +0900\"\n",
      "\t\t},\n",
      "\t\t{\n",
      "\t\t\t\"title\":\"[글로벌] 애플, 中과 거리두기 나설까...JP모건 &quot;인도 생산량 늘릴듯&quot;\",\n",
      "\t\t\t\"originallink\":\"https:\\/\\/www.techm.kr\\/news\\/articleView.html?idxno=101780\",\n",
      "\t\t\t\"link\":\"https:\\/\\/www.techm.kr\\/news\\/articleView.html?idxno=101780\",\n",
      "\t\t\t\"description\":\"말부터 <b>아이폰<\\/b>14 생산량의 5%를 인도에서 생산할 것으로 예상했습니다. 이어 2025년까지 맥북을 비롯한 모든 애플 제품의 25%가 중국 이외 지역에서 생산될 것으로 내다봤습니다. 애플은 2017년부터 인도에서 <b>아이폰<\\/b>을... \",\n",
      "\t\t\t\"pubDate\":\"Sat, 24 Sep 2022 10:02:00 +0900\"\n",
      "\t\t}\n",
      "\t]\n",
      "}\n"
     ]
    }
   ],
   "source": [
    "# 네이버 검색 API 예제 - 블로그 검색\n",
    "import os\n",
    "import sys\n",
    "import urllib.request\n",
    "\n",
    "client_id = \"ZuESjNwuvrnFVF1MEsJq\"\n",
    "client_secret = \"2_2hqdX8bP\"\n",
    "encText = urllib.parse.quote(\"아이폰\")\n",
    "url = \"https://openapi.naver.com/v1/search/news?query=\" + encText # JSON 결과\n",
    "# url = \"https://openapi.naver.com/v1/search/blog.xml?query=\" + encText # XML 결과\n",
    "request = urllib.request.Request(url)\n",
    "request.add_header(\"X-Naver-Client-Id\",client_id)\n",
    "request.add_header(\"X-Naver-Client-Secret\",client_secret)\n",
    "response = urllib.request.urlopen(request)\n",
    "rescode = response.getcode()\n",
    "\n",
    "if(rescode==200):\n",
    "    response_body = response.read()\n",
    "    print(response_body.decode('utf-8'))\n",
    "else:\n",
    "    print(\"Error Code:\" + rescode)"
   ]
  },
  {
   "cell_type": "code",
   "execution_count": 8,
   "id": "e00606b7",
   "metadata": {
    "collapsed": true
   },
   "outputs": [
    {
     "name": "stdout",
     "output_type": "stream",
     "text": [
      "{\n",
      "\t\"lastBuildDate\":\"Sat, 24 Sep 2022 18:23:45 +0900\",\n",
      "\t\"total\":628385,\n",
      "\t\"start\":1,\n",
      "\t\"display\":10,\n",
      "\t\"items\":[\n",
      "\t\t{\n",
      "\t\t\t\"title\":\"“초기 아담 의상 변환 등 한계… ‘탈중앙’ 가상인간으로 컴백” [이슈 속으...\",\n",
      "\t\t\t\"originallink\":\"http:\\/\\/www.segye.com\\/content\\/html\\/2022\\/09\\/19\\/20220919519172.html?OutUrl=naver\",\n",
      "\t\t\t\"link\":\"https:\\/\\/n.news.naver.com\\/mnews\\/article\\/022\\/0003737841?sid=101\",\n",
      "\t\t\t\"description\":\"활동 <b>아이폰<\\/b> 활성화 이후 모바일 무한 확장 사이버 시공간 활용 현실의 문제 극복 성별·인종 다양한 ‘아담... “2007년 스티브 잡스가 <b>아이폰<\\/b>을 출시하면서 컴퓨터가 전화기 속으로 들어오는 모바일 시대가 열렸다. 언제... \",\n",
      "\t\t\t\"pubDate\":\"Sat, 24 Sep 2022 17:02:00 +0900\"\n",
      "\t\t},\n",
      "\t\t{\n",
      "\t\t\t\"title\":\"[종합] 애플 <b>아이폰<\\/b>14 출시일 화제 &apos;사전예약·색상·가격·혜택은?&apos;\",\n",
      "\t\t\t\"originallink\":\"https:\\/\\/www.sisamagazine.co.kr\\/news\\/articleView.html?idxno=466029\",\n",
      "\t\t\t\"link\":\"https:\\/\\/www.sisamagazine.co.kr\\/news\\/articleView.html?idxno=466029\",\n",
      "\t\t\t\"description\":\"<b>아이폰<\\/b>14 \\/ 사진=애플 홈페이지 애플 <b>아이폰<\\/b>14 출시를 앞두고 통신사별 사전 예약 혜택, 가격, 색상 등에 대한 관심이 뜨겁다. 지난 16일 통신업계에 따르면 SK텔레콤, KT, LG유플러스 등 이동통신 3사는 오는 30일부터... \",\n",
      "\t\t\t\"pubDate\":\"Sat, 24 Sep 2022 16:18:00 +0900\"\n",
      "\t\t},\n",
      "\t\t{\n",
      "\t\t\t\"title\":\"애플 앱 가격 인상...킹달러, 디지털 시장도 흔든다\",\n",
      "\t\t\t\"originallink\":\"http:\\/\\/weekly.chosun.com\\/news\\/articleView.html?idxno=22257\",\n",
      "\t\t\t\"link\":\"https:\\/\\/n.news.naver.com\\/mnews\\/article\\/053\\/0000032772?sid=101\",\n",
      "\t\t\t\"description\":\"당장 다음 달부터 <b>아이폰<\\/b> 사용자들이 쓰는 앱과 인앱(in-app) 결제 가격이 오른다. 애플은 9 월 19일(현지시간) 애플 개발자 홈페이지에 유로존 전역과 일부 아시아 국가에서 앱 및 앱 내 구입 가격의 인상을 공지했다.... \",\n",
      "\t\t\t\"pubDate\":\"Sat, 24 Sep 2022 16:01:00 +0900\"\n",
      "\t\t},\n",
      "\t\t{\n",
      "\t\t\t\"title\":\"애플이 노치 말고도 없앤 것 한 가지… 유심 가고 &apos;e-sim&apos;시대 [정혜진의 Why...\",\n",
      "\t\t\t\"originallink\":\"https:\\/\\/www.sedaily.com\\/NewsView\\/26B76JTZRY\",\n",
      "\t\t\t\"link\":\"https:\\/\\/n.news.naver.com\\/mnews\\/article\\/011\\/0004102527?sid=104\",\n",
      "\t\t\t\"description\":\"애플이 지난 7일(현지 시간) 공개한 <b>아이폰<\\/b>14 시리즈에서 ‘노치(M자 모양의 움푹 파인 테두리)’ 말고도... 애플이 미국 내에 출시된 <b>아이폰<\\/b>14 시리즈에는 전면적으로 심카드 트레이를 없애면서 ‘e-sim only&apos;체제를... \",\n",
      "\t\t\t\"pubDate\":\"Sat, 24 Sep 2022 15:01:00 +0900\"\n",
      "\t\t},\n",
      "\t\t{\n",
      "\t\t\t\"title\":\"애플 <b>아이폰<\\/b>14 시리즈 한국 출시일 10월 7일 확장…일반형 125만원\",\n",
      "\t\t\t\"originallink\":\"http:\\/\\/www.econonews.co.kr\\/news\\/articleView.html?idxno=260922\",\n",
      "\t\t\t\"link\":\"http:\\/\\/www.econonews.co.kr\\/news\\/articleView.html?idxno=260922\",\n",
      "\t\t\t\"description\":\" 애플의 하반기 플래그십폰 &apos;<b>아이폰<\\/b>14&apos; 시리즈의 한국 출시일이 오는 10월7일로 확정됐다. 24일 업계에 따르면 애플은 <b>아이폰<\\/b>14 4종(일반형·플러스·프로·프로 맥스)과 애플워치8 시리즈, 애플워치 울트라를 내달... \",\n",
      "\t\t\t\"pubDate\":\"Sat, 24 Sep 2022 13:20:00 +0900\"\n",
      "\t\t},\n",
      "\t\t{\n",
      "\t\t\t\"title\":\"갤럭시S23 울트라, 모델번호 및 충전속도 정보 유출\",\n",
      "\t\t\t\"originallink\":\"http:\\/\\/www.betanews.net:8080\\/article\\/1362938.html\",\n",
      "\t\t\t\"link\":\"http:\\/\\/www.betanews.net:8080\\/article\\/1362938.html\",\n",
      "\t\t\t\"description\":\"퀄컴 X70 5G 모뎀을 사용하며 <b>아이폰<\\/b>14 프로 맥스에 내장돼 인상적인 성능을 자랑했던 삼성의 새 M12 OLED... 라이벌인 애플 <b>아이폰<\\/b>14 프로 맥스의 경우 30W 충전기술과 4,323mAh 용량의 배터리를 내장했는데... \",\n",
      "\t\t\t\"pubDate\":\"Sat, 24 Sep 2022 13:16:00 +0900\"\n",
      "\t\t},\n",
      "\t\t{\n",
      "\t\t\t\"title\":\"KB증권, 9월 넷째주 현대중공업 등 7종목 매수 추천 \",\n",
      "\t\t\t\"originallink\":\"http:\\/\\/www.bigtanews.co.kr\\/news\\/articleView.html?idxno=11921\",\n",
      "\t\t\t\"link\":\"http:\\/\\/www.bigtanews.co.kr\\/news\\/articleView.html?idxno=11921\",\n",
      "\t\t\t\"description\":\"LG이노텍(011070) <b>아이폰<\\/b>14 프로 판매 비중이 전체의 65%로 전작 대비 18%p 증가하며 하반기 실적 역대 최고치 예상. 멕시코 공장에 자율주행차용 카메라 모듈 생산라인의 신규 증설 추진이 예상되어 인플레이션... \",\n",
      "\t\t\t\"pubDate\":\"Sat, 24 Sep 2022 11:20:00 +0900\"\n",
      "\t\t},\n",
      "\t\t{\n",
      "\t\t\t\"title\":\"애플 <b>아이폰<\\/b>14 출시일 D-14, 가격·색상 및 사전예약 사은품·혜택은?\",\n",
      "\t\t\t\"originallink\":\"https:\\/\\/www.gukjenews.com\\/news\\/articleView.html?idxno=2557382\",\n",
      "\t\t\t\"link\":\"https:\\/\\/www.gukjenews.com\\/news\\/articleView.html?idxno=2557382\",\n",
      "\t\t\t\"description\":\"애플 <b>아이폰<\\/b>14 출시일 D-14, 가격·색상 및 사전예약 사은품·혜택은? \\/ 사진=애플 <b>아이폰<\\/b>14 시리즈(<b>아이폰<\\/b>14·플러스·프로·프로맥스) 출시일, 가격, 사전예약 혜택, 사은품 등을 향한 관심이 뜨겁다. SK텔레콤은... \",\n",
      "\t\t\t\"pubDate\":\"Sat, 24 Sep 2022 10:52:00 +0900\"\n",
      "\t\t},\n",
      "\t\t{\n",
      "\t\t\t\"title\":\"주말드라마 &apos;작은 아씨들&apos; 7·8회 관전포인트, 위하준·김고은 서늘한 분위기...\",\n",
      "\t\t\t\"originallink\":\"http:\\/\\/www.lecturernews.com\\/news\\/articleView.html?idxno=107826\",\n",
      "\t\t\t\"link\":\"http:\\/\\/www.lecturernews.com\\/news\\/articleView.html?idxno=107826\",\n",
      "\t\t\t\"description\":\"아이가 아플 때는 밤잠을 자지 않고 번갈아 돌보았고, 허리띠를 졸라 나이키 운동화, 롱패딩, <b>아이폰<\\/b> 같은 것들을 사주었다. 그렇지만 인혜는 언니들이 주는 것을 편하게 받지 못한다. 야근, 배고픔, 불편함, 굴욕감.... \",\n",
      "\t\t\t\"pubDate\":\"Sat, 24 Sep 2022 10:50:00 +0900\"\n",
      "\t\t},\n",
      "\t\t{\n",
      "\t\t\t\"title\":\"[글로벌] 애플, 中과 거리두기 나설까...JP모건 &quot;인도 생산량 늘릴듯&quot;\",\n",
      "\t\t\t\"originallink\":\"https:\\/\\/www.techm.kr\\/news\\/articleView.html?idxno=101780\",\n",
      "\t\t\t\"link\":\"https:\\/\\/www.techm.kr\\/news\\/articleView.html?idxno=101780\",\n",
      "\t\t\t\"description\":\"말부터 <b>아이폰<\\/b>14 생산량의 5%를 인도에서 생산할 것으로 예상했습니다. 이어 2025년까지 맥북을 비롯한 모든 애플 제품의 25%가 중국 이외 지역에서 생산될 것으로 내다봤습니다. 애플은 2017년부터 인도에서 <b>아이폰<\\/b>을... \",\n",
      "\t\t\t\"pubDate\":\"Sat, 24 Sep 2022 10:02:00 +0900\"\n",
      "\t\t}\n",
      "\t]\n",
      "}\n"
     ]
    }
   ],
   "source": [
    "news = response_body.decode('utf-8')\n",
    "print(news)"
   ]
  },
  {
   "cell_type": "code",
   "execution_count": 29,
   "id": "a79c7ba9",
   "metadata": {},
   "outputs": [
    {
     "name": "stdout",
     "output_type": "stream",
     "text": [
      "# 검색할 키워드를 입력하세요: 아이폰\n",
      "기사 제목: 아이폰14, 내달 7일 한국 상륙…사전 주문은 이달 30일부터\n",
      "기사 제목: \"프로 vs 프로\"...아이폰14로 업그레이드 할까\n",
      "기사 제목: 'M자 탈모' 없앤 아이폰14, 내달 7일 한국 출시…가격 얼마?\n",
      "기사 제목: 애플, iOS 16.0.2 배포…아이폰14 카메라 흔들림 수정\n",
      "기사 제목: '아이폰14' 내달 7일 韓 출격 확정…삼성 '갤럭시Z4'와 진검승부 예고\n",
      "기사 제목: 아이폰14, 내달 7일 국내 출시…삼성 '갤Z4'와 가을대전\n",
      "기사 제목: 환율 폭등 ‘아이러니’…아이폰14, 오히려 싸다고? [윤기자의 폰폰폰]\n",
      "기사 제목: \"아이폰14 온다\" 다급한 삼성, 갤S21 '재고떨이' 나섰다 [배성수의 다다IT선]\n",
      "기사 제목: 아이폰14는 없네…'애플 잠실' 개장 D-2\n",
      "기사 제목: 아이폰14 프로 모델 '버그'…카메라 흔들리고 흐리고\n",
      "언론사: 뉴시스언론사 선정\n",
      "언론사: 전자신문언론사 선정\n",
      "언론사: 중앙일보언론사 선정\n",
      "언론사: 조선비즈언론사 선정\n",
      "언론사: 아이뉴스24언론사 선정\n",
      "언론사: 시사뉴스\n",
      "언론사: 서울경제언론사 선정\n",
      "언론사: 한국경제언론사 선정\n",
      "언론사: 데일리안언론사 선정\n",
      "언론사: 연합뉴스언론사 선정\n",
      "내용: 기사내용 요약 아이폰14 4종·애플워치8·애플워치 울트라 등 출시일 확정 에어팟 프로2는 출시일 미정…애플스토어에도 내달 7일 구비 [서울=뉴시스]윤현성 기자 = 애플의 하반기 신제품 '14' 시리즈와...\n",
      "내용: 애플 아이폰14 시리즈 국내 사전 예약이 오는 30일 시작된다. 출시는 다음 달 7일이다. 애플이 미국 기준 출고가를 동결했지만, 환율 등 영향으로 국내 판매 가격은 '14 프로'의 경우 20만원이 인상됐다. 애플이...\n",
      "내용: 애플이 아이폰14 시리즈와 애플워치8 등 신제품을 내달 7일 국내 공식 출시한다고 23일 밝혔다. 사전 예약은 이달 30일부터 진행한다. 사전 예약이 가능한 기종은 아이폰14와 플러스, 14 프로 및 프로맥스 등...\n",
      "내용: 애플이 아이폰용 운영체제(OS)인 iOS 16.0.2 업데이트를 진행했다. 이번 업데이트로 아이폰14 프로 시리즈에 발생했던 카메라 울렁임 현상 등이 해결됐다. 22일(현지시각) 애플 전문 IT매체 맥루머스 등에 따르면 애플은 iOS...\n",
      "내용: 애플이 올 하반기 기대작인 '아이폰14' 시리즈의 한국 출시일을 다음 달 7일로 확정 지으면서 경쟁사인... 애플코리아는 앞서 공개된 신제품 '아이폰14' 시리즈를 비롯해 '애플워치 시리즈8'과 '애플워치 SE', '애플워치...\n",
      "내용: 애플워치8 시리즈 동시 국내 출시 4번째 애플스토어 '애플 잠실' 문 열어   애플이 아이폰14 시리즈와... 24일 업계에 따르면 애플은 아이폰14 4종(일반형·플러스·프로·프로 맥스)과 애플워치8 시리즈, 애플워치...\n",
      "내용: 애플 아이폰14 시리즈가 10월 7일 국내 공식 출시합니다. 공개 당시 최대 250만 원에 달하는 고가로 충격을... 아이폰14 시리즈 공개 당일인 9월 8일(한국 시간) 원·달러 기준환율은 1380.8원. 보름만에 30원가량 뛴...\n",
      "내용: 애플이 다음 달 7일 플래그십(전략) 아이폰14 시리즈를 국내에 출시하는 가운데 삼성전자가 구형... 애플의 아이폰14 시리즈를 견제하기 위한 목적으로 풀이된다. 애플은 이에 앞서 오는 30일부터 14...\n",
      "내용: 별도 에약은 필요 없다. 다만 애플이 최근 공개한 아이폰14 시리즈는 진열되지 않을 예정이다. 이동통시사 사전 예약 기간으로 전망되는 30일 이후부터는 아이폰14 시리즈의 실물이 비치될 것으로 예측된다.\n",
      "내용: 시작한 아이폰14 시리즈 가운데 프로 모델에서 버그(프로그램 결함)가 발견됐다. 20일(현지시간) 월스트리트저널(WSJ) 등에 따르면 일부 아이폰14 프로와 아이폰14 프로맥스에서 카메라가 흔들리고 영상이 흐릿하게 나오는...\n"
     ]
    }
   ],
   "source": [
    "# 네이버 뉴스에서 특정 키워드를 검색해서, 첫 페이지의 모든 기사들의 제목과 언론사, 요약 기사내용을 크롤링\n",
    "# https://search.naver.com/search.naver?where=news&sm=tab_jum&query=\n",
    "\n",
    "import time\n",
    "from selenium import webdriver\n",
    "from webdriver_manager.chrome import ChromeDriverManager\n",
    "from selenium.webdriver.chrome.service import Service\n",
    "from selenium.webdriver.common.by import By\n",
    "from selenium.webdriver.common.keys import Keys\n",
    "#nx_search_form > fieldset > button\n",
    "url =\"https://search.naver.com/search.naver?where=news&sm=tab_jum&query=\"\n",
    "TIMEOUT = 3 \n",
    "try:\n",
    "    service = Service(executable_path=\"./chromedriver\")\n",
    "    driver = webdriver.Chrome(service=service)    #브라우저 실행시키위한 드라이버 객체 생성 (브라우저 실행)\n",
    "    driver.get(url)                          #url 요청\n",
    "    time.sleep(1)\n",
    "    qstr = input('# 검색할 키워드를 입력하세요: ') # 검색 질의어 believer\n",
    "    driver.find_element(by=By.CSS_SELECTOR, value='input#nx_query').send_keys(qstr)  # 질의어 입력 \n",
    "    time.sleep(1)\n",
    "    driver.find_element(by=By.CLASS_NAME, value= 'bt_search').click()  # 검색 버튼 클릭\n",
    "    time.sleep(1)    # 검색 결과가 나올 때 까지 약간 대기\n",
    "    \n",
    "    news_titles = driver.find_elements(by=By.CSS_SELECTOR, value='.news_tit')\n",
    "    news_press = driver.find_elements(by=By.CSS_SELECTOR, value='.info.press')\n",
    "    news_text = driver.find_elements(by=By.CSS_SELECTOR, value='.api_txt_lines.dsc_txt_wrap')\n",
    "    \n",
    "#     for i in news_titles:\n",
    "#         title = i.text\n",
    "#         print('기사 제목: '+ title)\n",
    "    \n",
    "#     for i in news_press:\n",
    "#         press = i.text\n",
    "#         print('언론사: ' + press)\n",
    "    \n",
    "#     for i in news_text:\n",
    "#         elem = i.text\n",
    "#         print(elem)\n",
    "    \n",
    "    for i in news_titles:\n",
    "        title = i.text\n",
    "        print('기사 제목: '+ title)\n",
    "    for j in news_press:\n",
    "        press = j.text\n",
    "        print('언론사: ' + press)\n",
    "    for k in news_text:\n",
    "        elem = k.text\n",
    "        print('내용: ' + elem)\n",
    "        \n",
    "    driver.close()  # 헤드리스 크롬을 종료한다\n",
    "    \n",
    "except Exception:\n",
    "        raise\n",
    "finally:\n",
    "     if driver is not None:\n",
    "        driver.quit()"
   ]
  },
  {
   "cell_type": "code",
   "execution_count": 1,
   "id": "8dd19da0",
   "metadata": {},
   "outputs": [
    {
     "name": "stderr",
     "output_type": "stream",
     "text": [
      "[WDM] - Downloading: 100%|████████████████████████████████████████████████████████| 6.68M/6.68M [00:00<00:00, 83.3MB/s]\n",
      "C:\\Users\\dltmd\\AppData\\Local\\Temp\\ipykernel_13128\\2612812867.py:12: DeprecationWarning: executable_path has been deprecated, please pass in a Service object\n",
      "  driver = webdriver.Chrome(ChromeDriverManager().install())\n"
     ]
    },
    {
     "ename": "AttributeError",
     "evalue": "'NoneType' object has no attribute 'find_next_siblings'",
     "output_type": "error",
     "traceback": [
      "\u001b[1;31m---------------------------------------------------------------------------\u001b[0m",
      "\u001b[1;31mAttributeError\u001b[0m                            Traceback (most recent call last)",
      "Input \u001b[1;32mIn [1]\u001b[0m, in \u001b[0;36m<cell line: 32>\u001b[1;34m()\u001b[0m\n\u001b[0;32m     35\u001b[0m bsObject \u001b[38;5;241m=\u001b[39m BeautifulSoup(driver\u001b[38;5;241m.\u001b[39mpage_source, \u001b[38;5;124m'\u001b[39m\u001b[38;5;124mhtml.parser\u001b[39m\u001b[38;5;124m'\u001b[39m)\n\u001b[0;32m     38\u001b[0m title \u001b[38;5;241m=\u001b[39m bsObject\u001b[38;5;241m.\u001b[39mfind(\u001b[38;5;124m'\u001b[39m\u001b[38;5;124mmeta\u001b[39m\u001b[38;5;124m'\u001b[39m, {\u001b[38;5;124m'\u001b[39m\u001b[38;5;124mproperty\u001b[39m\u001b[38;5;124m'\u001b[39m:\u001b[38;5;124m'\u001b[39m\u001b[38;5;124mog:title\u001b[39m\u001b[38;5;124m'\u001b[39m})\u001b[38;5;241m.\u001b[39mget(\u001b[38;5;124m'\u001b[39m\u001b[38;5;124mcontent\u001b[39m\u001b[38;5;124m'\u001b[39m)\n\u001b[1;32m---> 39\u001b[0m author \u001b[38;5;241m=\u001b[39m \u001b[43mbsObject\u001b[49m\u001b[38;5;241;43m.\u001b[39;49m\u001b[43mfind\u001b[49m\u001b[43m(\u001b[49m\u001b[38;5;124;43m'\u001b[39;49m\u001b[38;5;124;43mdt\u001b[39;49m\u001b[38;5;124;43m'\u001b[39;49m\u001b[43m,\u001b[49m\u001b[43m \u001b[49m\u001b[43mtext\u001b[49m\u001b[38;5;241;43m=\u001b[39;49m\u001b[38;5;124;43m'\u001b[39;49m\u001b[38;5;124;43m저자\u001b[39;49m\u001b[38;5;124;43m'\u001b[39;49m\u001b[43m)\u001b[49m\u001b[38;5;241;43m.\u001b[39;49m\u001b[43mfind_next_siblings\u001b[49m(\u001b[38;5;124m'\u001b[39m\u001b[38;5;124mdd\u001b[39m\u001b[38;5;124m'\u001b[39m)[\u001b[38;5;241m0\u001b[39m]\u001b[38;5;241m.\u001b[39mtext\u001b[38;5;241m.\u001b[39mstrip()\n\u001b[0;32m     40\u001b[0m image \u001b[38;5;241m=\u001b[39m bsObject\u001b[38;5;241m.\u001b[39mfind(\u001b[38;5;124m'\u001b[39m\u001b[38;5;124mmeta\u001b[39m\u001b[38;5;124m'\u001b[39m, {\u001b[38;5;124m'\u001b[39m\u001b[38;5;124mproperty\u001b[39m\u001b[38;5;124m'\u001b[39m:\u001b[38;5;124m'\u001b[39m\u001b[38;5;124mog:image\u001b[39m\u001b[38;5;124m'\u001b[39m})\u001b[38;5;241m.\u001b[39mget(\u001b[38;5;124m'\u001b[39m\u001b[38;5;124mcontent\u001b[39m\u001b[38;5;124m'\u001b[39m)\n\u001b[0;32m     41\u001b[0m url \u001b[38;5;241m=\u001b[39m bsObject\u001b[38;5;241m.\u001b[39mfind(\u001b[38;5;124m'\u001b[39m\u001b[38;5;124mmeta\u001b[39m\u001b[38;5;124m'\u001b[39m, {\u001b[38;5;124m'\u001b[39m\u001b[38;5;124mproperty\u001b[39m\u001b[38;5;124m'\u001b[39m:\u001b[38;5;124m'\u001b[39m\u001b[38;5;124mog:url\u001b[39m\u001b[38;5;124m'\u001b[39m})\u001b[38;5;241m.\u001b[39mget(\u001b[38;5;124m'\u001b[39m\u001b[38;5;124mcontent\u001b[39m\u001b[38;5;124m'\u001b[39m)\n",
      "\u001b[1;31mAttributeError\u001b[0m: 'NoneType' object has no attribute 'find_next_siblings'"
     ]
    }
   ],
   "source": [
    "# 실행하기 위해 필요한 패키지 목록입니다. \n",
    "\n",
    "# pip install selenium webdriver-manager beautifulsoup4\n",
    "\n",
    "from selenium import webdriver\n",
    "from webdriver_manager.chrome import ChromeDriverManager\n",
    "from bs4 import BeautifulSoup\n",
    "\n",
    "\n",
    "url = \"https://book.naver.com/bestsell/bestseller_list.nhn\"\n",
    "\n",
    "driver = webdriver.Chrome(ChromeDriverManager().install())\n",
    "driver.implicitly_wait(30)\n",
    "\n",
    "\n",
    "# 네이버의 베스트셀러 웹페이지를 가져옵니다.\n",
    "driver.get(url)\n",
    "bsObject = BeautifulSoup(driver.page_source, 'html.parser')\n",
    "\n",
    "\n",
    "\n",
    "# 책의 상세 웹페이지 주소를 추출하여 리스트에 저장합니다.\n",
    "book_page_urls = []\n",
    "for index in range(0, 25):\n",
    "    dl_data = bsObject.find('dt', {'id':\"book_title_\"+str(index)})\n",
    "    link = dl_data.select('a')[0].get('href')\n",
    "    book_page_urls.append(link)\n",
    "\n",
    "\n",
    "\n",
    "# 메타 정보와 본문에서 필요한 정보를 추출합니다.\n",
    "for index, book_page_url in enumerate(book_page_urls):\n",
    "\n",
    "    driver.get(book_page_url)\n",
    "    bsObject = BeautifulSoup(driver.page_source, 'html.parser')\n",
    "\n",
    "\n",
    "    title = bsObject.find('meta', {'property':'og:title'}).get('content')\n",
    "    author = bsObject.find('dt', text='저자').find_next_siblings('dd')[0].text.strip()\n",
    "    image = bsObject.find('meta', {'property':'og:image'}).get('content')\n",
    "    url = bsObject.find('meta', {'property':'og:url'}).get('content')\n",
    "\n",
    "    dd = bsObject.find('dt', text='가격').find_next_siblings('dd')[0]\n",
    "    salePrice = dd.select('div.lowest strong')[0].text\n",
    "    originalPrice = dd.select('div.lowest span.price')[0].text\n",
    "\n",
    "    print(index+1, title, author, image, url, originalPrice, salePrice)"
   ]
  }
 ],
 "metadata": {
  "kernelspec": {
   "display_name": "Python 3 (ipykernel)",
   "language": "python",
   "name": "python3"
  },
  "language_info": {
   "codemirror_mode": {
    "name": "ipython",
    "version": 3
   },
   "file_extension": ".py",
   "mimetype": "text/x-python",
   "name": "python",
   "nbconvert_exporter": "python",
   "pygments_lexer": "ipython3",
   "version": "3.9.12"
  }
 },
 "nbformat": 4,
 "nbformat_minor": 5
}
