{
 "cells": [
  {
   "cell_type": "code",
   "execution_count": 1,
   "id": "b0e6bce0",
   "metadata": {},
   "outputs": [
    {
     "name": "stderr",
     "output_type": "stream",
     "text": [
      "[nltk_data] Downloading package punkt to\n",
      "[nltk_data]     C:\\Users\\user\\AppData\\Roaming\\nltk_data...\n",
      "[nltk_data]   Package punkt is already up-to-date!\n"
     ]
    },
    {
     "data": {
      "text/plain": [
       "True"
      ]
     },
     "execution_count": 1,
     "metadata": {},
     "output_type": "execute_result"
    }
   ],
   "source": [
    "import re\n",
    "from collections import Counter\n",
    "import matplotlib.pyplot as plt\n",
    "import nltk\n",
    "import numpy as np\n",
    "import pandas as pd\n",
    "from konlpy.tag import Okt\n",
    "nltk.download('punkt')"
   ]
  },
  {
   "cell_type": "markdown",
   "id": "c72dfea6",
   "metadata": {},
   "source": [
    "## 전처리 파일 불러오기"
   ]
  },
  {
   "cell_type": "code",
   "execution_count": 3,
   "id": "026d777e",
   "metadata": {},
   "outputs": [
    {
     "name": "stdout",
     "output_type": "stream",
     "text": [
      "<class 'pandas.core.frame.DataFrame'>\n",
      "RangeIndex: 1330 entries, 0 to 1329\n",
      "Data columns (total 2 columns):\n",
      " #   Column  Non-Null Count  Dtype \n",
      "---  ------  --------------  ----- \n",
      " 0   rating  1330 non-null   int64 \n",
      " 1   review  1330 non-null   object\n",
      "dtypes: int64(1), object(1)\n",
      "memory usage: 20.9+ KB\n"
     ]
    }
   ],
   "source": [
    "file = 'C:/coding/multicampus/프로젝트_주간_3조/theroundup_daum.csv'\n",
    "encoding='ansi'\n",
    "rev = pd.read_csv(file, encoding=encoding)\n",
    "rev.info()"
   ]
  },
  {
   "cell_type": "code",
   "execution_count": 4,
   "id": "fe23e7dc",
   "metadata": {},
   "outputs": [
    {
     "data": {
      "text/html": [
       "<div>\n",
       "<style scoped>\n",
       "    .dataframe tbody tr th:only-of-type {\n",
       "        vertical-align: middle;\n",
       "    }\n",
       "\n",
       "    .dataframe tbody tr th {\n",
       "        vertical-align: top;\n",
       "    }\n",
       "\n",
       "    .dataframe thead th {\n",
       "        text-align: right;\n",
       "    }\n",
       "</style>\n",
       "<table border=\"1\" class=\"dataframe\">\n",
       "  <thead>\n",
       "    <tr style=\"text-align: right;\">\n",
       "      <th></th>\n",
       "      <th>rating</th>\n",
       "      <th>review</th>\n",
       "    </tr>\n",
       "  </thead>\n",
       "  <tbody>\n",
       "    <tr>\n",
       "      <th>0</th>\n",
       "      <td>10</td>\n",
       "      <td>오늘 나의 해방일지 프리퀄인 범죄도시2를 보고왔습니다.\\n구씨가 왜 도랑을 뛰어넘고...</td>\n",
       "    </tr>\n",
       "    <tr>\n",
       "      <th>1</th>\n",
       "      <td>1</td>\n",
       "      <td>15세 영화라니. 정말 기가 막힙니다. 이제 수위가 사라졌나요. 사람은 보고 들은 ...</td>\n",
       "    </tr>\n",
       "    <tr>\n",
       "      <th>2</th>\n",
       "      <td>10</td>\n",
       "      <td>오늘 봤는데, 액션과 유머가 적절히 섞인 재미난 영화 한편이었어요^^ 새로운 감독에...</td>\n",
       "    </tr>\n",
       "    <tr>\n",
       "      <th>3</th>\n",
       "      <td>3</td>\n",
       "      <td>아무리  흥행을 위해서라지만 너무 잔인합니다. 왜 우리 한국 영화가 이리도 잔인하게...</td>\n",
       "    </tr>\n",
       "    <tr>\n",
       "      <th>4</th>\n",
       "      <td>9</td>\n",
       "      <td>속편은 별로다는 선입견으로 별 기대 안하고 봤는데 전편만큼 재미있네요. 오락 영화로 만족</td>\n",
       "    </tr>\n",
       "  </tbody>\n",
       "</table>\n",
       "</div>"
      ],
      "text/plain": [
       "   rating                                             review\n",
       "0      10  오늘 나의 해방일지 프리퀄인 범죄도시2를 보고왔습니다.\\n구씨가 왜 도랑을 뛰어넘고...\n",
       "1       1  15세 영화라니. 정말 기가 막힙니다. 이제 수위가 사라졌나요. 사람은 보고 들은 ...\n",
       "2      10  오늘 봤는데, 액션과 유머가 적절히 섞인 재미난 영화 한편이었어요^^ 새로운 감독에...\n",
       "3       3  아무리  흥행을 위해서라지만 너무 잔인합니다. 왜 우리 한국 영화가 이리도 잔인하게...\n",
       "4       9  속편은 별로다는 선입견으로 별 기대 안하고 봤는데 전편만큼 재미있네요. 오락 영화로 만족"
      ]
     },
     "execution_count": 4,
     "metadata": {},
     "output_type": "execute_result"
    }
   ],
   "source": [
    "rev.head()"
   ]
  },
  {
   "cell_type": "code",
   "execution_count": 5,
   "id": "165e946a",
   "metadata": {},
   "outputs": [
    {
     "data": {
      "text/html": [
       "<div>\n",
       "<style scoped>\n",
       "    .dataframe tbody tr th:only-of-type {\n",
       "        vertical-align: middle;\n",
       "    }\n",
       "\n",
       "    .dataframe tbody tr th {\n",
       "        vertical-align: top;\n",
       "    }\n",
       "\n",
       "    .dataframe thead th {\n",
       "        text-align: right;\n",
       "    }\n",
       "</style>\n",
       "<table border=\"1\" class=\"dataframe\">\n",
       "  <thead>\n",
       "    <tr style=\"text-align: right;\">\n",
       "      <th></th>\n",
       "      <th>rating</th>\n",
       "      <th>review</th>\n",
       "    </tr>\n",
       "  </thead>\n",
       "  <tbody>\n",
       "    <tr>\n",
       "      <th>0</th>\n",
       "      <td>0</td>\n",
       "      <td>4</td>\n",
       "    </tr>\n",
       "    <tr>\n",
       "      <th>1</th>\n",
       "      <td>1</td>\n",
       "      <td>91</td>\n",
       "    </tr>\n",
       "    <tr>\n",
       "      <th>2</th>\n",
       "      <td>2</td>\n",
       "      <td>28</td>\n",
       "    </tr>\n",
       "    <tr>\n",
       "      <th>3</th>\n",
       "      <td>3</td>\n",
       "      <td>15</td>\n",
       "    </tr>\n",
       "    <tr>\n",
       "      <th>4</th>\n",
       "      <td>4</td>\n",
       "      <td>31</td>\n",
       "    </tr>\n",
       "    <tr>\n",
       "      <th>5</th>\n",
       "      <td>5</td>\n",
       "      <td>49</td>\n",
       "    </tr>\n",
       "    <tr>\n",
       "      <th>6</th>\n",
       "      <td>6</td>\n",
       "      <td>67</td>\n",
       "    </tr>\n",
       "    <tr>\n",
       "      <th>7</th>\n",
       "      <td>7</td>\n",
       "      <td>86</td>\n",
       "    </tr>\n",
       "    <tr>\n",
       "      <th>8</th>\n",
       "      <td>8</td>\n",
       "      <td>138</td>\n",
       "    </tr>\n",
       "    <tr>\n",
       "      <th>9</th>\n",
       "      <td>9</td>\n",
       "      <td>145</td>\n",
       "    </tr>\n",
       "    <tr>\n",
       "      <th>10</th>\n",
       "      <td>10</td>\n",
       "      <td>676</td>\n",
       "    </tr>\n",
       "  </tbody>\n",
       "</table>\n",
       "</div>"
      ],
      "text/plain": [
       "    rating  review\n",
       "0        0       4\n",
       "1        1      91\n",
       "2        2      28\n",
       "3        3      15\n",
       "4        4      31\n",
       "5        5      49\n",
       "6        6      67\n",
       "7        7      86\n",
       "8        8     138\n",
       "9        9     145\n",
       "10      10     676"
      ]
     },
     "execution_count": 5,
     "metadata": {},
     "output_type": "execute_result"
    }
   ],
   "source": [
    "rating_count = rev.groupby('rating').count()\n",
    "rating_count = rating_count.reset_index()\n",
    "rating_count"
   ]
  },
  {
   "cell_type": "code",
   "execution_count": 6,
   "id": "58cc6f77",
   "metadata": {},
   "outputs": [
    {
     "data": {
      "text/plain": [
       "<function matplotlib.pyplot.show(close=None, block=None)>"
      ]
     },
     "execution_count": 6,
     "metadata": {},
     "output_type": "execute_result"
    },
    {
     "data": {
      "image/png": "[encoded data removed]",
      "text/plain": [
       "<Figure size 432x288 with 1 Axes>"
      ]
     },
     "metadata": {
      "needs_background": "light"
     },
     "output_type": "display_data"
    }
   ],
   "source": [
    "rating_count.plot(kind='barh', x='rating', y='review')\n",
    "plt.ylabel(\"ratings\", size=12)\n",
    "plt.show"
   ]
  },
  {
   "cell_type": "markdown",
   "id": "765bf15d",
   "metadata": {},
   "source": [
    "## 전처리 함수(수정)\n",
    "> 스포일러 조건 & 손석구, 강해상 join하는 코드 추가"
   ]
  },
  {
   "cell_type": "code",
   "execution_count": 7,
   "id": "736035d0",
   "metadata": {},
   "outputs": [],
   "source": [
    "#토큰화\n",
    "def token_konlpy(text, tagset):\n",
    "    okt=Okt()\n",
    "    words=[]\n",
    "    for word in okt.pos(text):\n",
    "        if (tagset == None) or (word[0] in '손 석 구 강 해 상 장 이 수') :\n",
    "            words.append(word[0])\n",
    "        else:\n",
    "            if (len(word[0])>1) and (word[1] in tagset) :\n",
    "                words.append(word[0])\n",
    "    return words\n",
    "\n",
    "#데이터 전처리\n",
    "def review_preproces_ko(data, stop_words, tagset):\n",
    "    data = str(data)\n",
    "    if '스포일러가 포함된 감상평입니다. 감상평 보기' in data:\n",
    "        data = data.replace('스포일러가 포함된 감상평입니다. 감상평 보기', '')\n",
    "    line_text = re.sub(r\"[^ㄱ-ㅎ ㅏ-ㅣ 가-힣]\", \" \", data) # 한글 외 특수문자 제거\n",
    "\n",
    "    words=token_konlpy(line_text, tagset)   # 토큰화\n",
    "    \n",
    "    if ('손' in words)or('석' in words)or('구' in words)or('강' in words)or('해' in words)or('상' in words)or('장' in words)or('이' in words)or('수' in words) :\n",
    "        word_join = ' '.join(words)\n",
    "        if '손 석 구도' in word_join :\n",
    "            word_join = word_join.replace('손 석 구도', '손석구')\n",
    "        elif '손 석 구의' in word_join :\n",
    "            word_join = word_join.replace('손 석 구의', '손석구')\n",
    "        elif '손 석 구도' in word_join :\n",
    "            word_join = word_join.replace('손 석 구도', '손석구')\n",
    "        elif '손 석 구씨' in word_join :\n",
    "            word_join = word_join.replace('손 석 구씨', '손석구')\n",
    "        elif '손 석 구가' in word_join :\n",
    "            word_join = word_join.replace('손 석 구가', '손석구')\n",
    "        elif '손 석 구만' in word_join :\n",
    "            word_join = word_join.replace('손 석 구만', '손석구')\n",
    "        elif '손 석 구' in word_join :\n",
    "            word_join = word_join.replace('손 석 구', '손석구')\n",
    "        elif '강해 상의' in word_join :\n",
    "            word_join = word_join.replace('강해 상의', '강해상')\n",
    "        elif '강해 상이' in word_join :\n",
    "            word_join = word_join.replace('강해 상이', '강해상')\n",
    "        elif '강 해상도' in word_join :\n",
    "            word_join = word_join.replace('강 해상도', '강해상')\n",
    "        elif '강 해상' in word_join :\n",
    "            word_join = word_join.replace('강 해상', '강해상')\n",
    "        elif '강 해 상'in word_join :\n",
    "            word_join = word_join.replace('강 해 상', '강해상')\n",
    "        elif '장 이 수도' in word_join :\n",
    "            word_join = word_join.replace('장 이 수도', '장이수')\n",
    "        elif '고장 이수' in word_join :\n",
    "            word_join = word_join.replace('고장 이수', '장이수')\n",
    "        elif '장 이수역' in word_join :\n",
    "            word_join = word_join.replace('장 이수역', '장이수')\n",
    "        elif '장 이 수의' in word_join :\n",
    "            word_join = word_join.replace('장 이 수의', '장이수')\n",
    "        elif '장 이수' in word_join :\n",
    "            word_join = word_join.replace('장 이수', '장이수')\n",
    "        elif '장 이 수' in word_join :\n",
    "            word_join = word_join.replace('장 이 수', '장이수')\n",
    "        else:\n",
    "            pass\n",
    "        words = word_join.split(' ')\n",
    "    \n",
    "    words = [w for w in words if not w in stop_words] #불용어 제거\n",
    "    return words"
   ]
  },
  {
   "cell_type": "markdown",
   "id": "6c79e39a",
   "metadata": {},
   "source": [
    "# 불용어처리"
   ]
  },
  {
   "cell_type": "code",
   "execution_count": 8,
   "id": "2127928b",
   "metadata": {},
   "outputs": [
    {
     "name": "stdout",
     "output_type": "stream",
     "text": [
      "803\n"
     ]
    }
   ],
   "source": [
    "# 불용어처리\n",
    "pop_word = ['영화', '진짜', '역시', '그냥', '최고', '보기', '정말', '보고', '포함', '이후',\n",
    "            '스포일러', '편도', '영화관', '정도', '편이', '장면', '느낌', '사람', '처음', '자체',\n",
    "            '이수', '내내', '계속', '간만', '때문', '하나', '조금', '완전', '무조건', '만큼', \n",
    "            '이다', '다', '같다','던데', '기고', '나온다', '있다', '많다', '그래서', '그렇게', '아직', \n",
    "            '근데', '그래도', '어떻다', '딱', '이렇다', '같이', '함께', '물론','그만큼', '스럽다',  \n",
    "            '그저', '누군지', '그걸', '특히', '아무리', '되게', '한동안', '뿐이다', '결국', '라면', \n",
    "            '첨','인하다', '오랜만', '이리', '히', '이미', '오래', '의하다', '이어서', '암튼', '아직도',\n",
    "            '간간히', '탱', '우', '아무튼', '아무렇다', '푹푹', '팍팍', '앙', '후딱', '흑', '왠지', \n",
    "            '맨날', '어느', '희다', '아무래도', '으', '대놓고', '너무나', '빨리', '깜짝깜짝', '저렇게', \n",
    "            '쉽다', '넘치다', '역다', '성하다', '한테', '한번', '아무', '이제','뭐', '해도', '은', '는'\n",
    "            '근래', '더욱', '보시', '그대로', '크게', '순간','이영화', '라서', '여서', '장', '이', \n",
    "            '다운',  '경우', '무비','세라', '가지', '덕분', '손', '석', '구', '강', '해', '상', '수']\n",
    "\n",
    "f = open('c:/coding/multicampus/datas/한글 불용어.txt', 'r', encoding='utf8')\n",
    "stop_words = f.read().splitlines()\n",
    "[stop_words.append(stop) for stop in pop_word]\n",
    "print(len(stop_words))"
   ]
  },
  {
   "cell_type": "markdown",
   "id": "04a6fb36",
   "metadata": {},
   "source": [
    "# 감정 분류 리스트 합침"
   ]
  },
  {
   "cell_type": "code",
   "execution_count": 11,
   "id": "fe0fb622",
   "metadata": {},
   "outputs": [],
   "source": [
    "positive_a = ['재밌다', '좋다', '시원하다', '통쾌하다', '미치다', '기대하다', '시원시원하다', '시원시원', \n",
    "            '많이', '그렇다', '강하다', '이렇게', '멋지다', '좋아하다', '완벽하다', '엄청나다', '쏠쏠하다',\n",
    "            '솔직하다', '멋있다', '엄청', '즐겁다', '훨씬', '만족하다',  '강력하다', '치밀하다', '필요하다', \n",
    "            '높다', '유쾌하다', '괜찮다', '확실하다',   '야하다', '충분하다', '만족스럽다', '어마어마하다', \n",
    "            '비슷하다', '섹시하다', '화끈하다', '적절하다', '훌륭하다', '궁금하다', '색다르다', '장난없다',\n",
    "            '빠르다', '탄탄하다', '새롭다', '깔끔하다', '쎄다',  '성공하다', '대단하다', '담백하다', '그나마', \n",
    "            '강렬하다', '적당하다', '귀엽다', '편하다', '짜릿하다', '못지않다',  '곱다', '딱이다', '꽉꽉',\n",
    "            '굉장하다', '찰지다', '반하다', '후련하다', '신나다', '빵터지다', '화려하다', '알차다', '건강하다',\n",
    "            '뛰어나다', '잘생기다', '신선하다', '자연스럽다', '행복하다', '반갑다', '상당하다', '조아', '충실하다', \n",
    "            '드디어', '너무나도', '유머러스하다', '다양하다', '당연하다', '맛있다', '착하다', '잘맞다', '드물다',\n",
    "            '끝내주다', '언제나', '든든하다', '완전하다', '편안하다', '중요하다', '정확하다', '설레다', '놀래다', \n",
    "            '영리하다', '가득하다', '소소하다', '피식', '유일하다', '맛깔나다', '흥미롭다', '그립다', '첨으로', \n",
    "            '고맙다', '특별하다', '정말로', '잔잔하다', '신기하다', '개웃', '여전하다', '아주아주', '필요없다', \n",
    "            '풍부하다', '상쾌하다', '열심히', '매끄럽다', '사랑스럽다', '열광하다', '굳다', '진정하다', '의외로',\n",
    "            '부탁드리다', '가능하다']\n",
    "\n",
    "positive_nn = ['최고', '정말', '역시', '재미', '기대', '코믹', '웃음', '격감', '대박', '추천', '간만', '유머'\n",
    "               , '매력', '존잼', '킬링타임', '강추', '명작', '재밋음', '만족', '감탄','짱짱','유쾌', '재밋어',\n",
    "               '재미나', '재밋', '웃기', '빵빵',  '개꿀잼', '사이다', '시원', '통쾌',  '순삭', '진심', '쵝오',\n",
    "               '굿굿', '최고다', '흥미진진', '화이팅', '만점', '케미', '상쾌', '졸잼', '압도', '박수',\n",
    "               '레전드', '소름', '추앙']\n",
    "\n",
    "negative_a = ['없다', '부족하다', '잔인하다', '아니다', '지루하다', '없이', '망하다', '실망하다', '답답하다', \n",
    "            '밉다', '어색하다', '힘들다', '안되다', '힘드다', '덜하다','나쁘다', '약하다', '똑같다', \n",
    "            '아깝다', '재미없다', '추하다', '아쉽다', '무섭다', '뻔하다', '유치하다', '단순하다', '짧다', '살벌하다',\n",
    "            '낮다', '잔혹하다', '불편하다', '어설프다', '식상하다', '진부하다', '이상하다', '불쌍하다', '싫다', \n",
    "            '심하다', '괜히', '딱하다', '그만', '싫어하다', '시끄럽다', '실패하다', '안타깝다', '부실하다', \n",
    "            '빈약하다', '무리다', '비싸다', '안쓰럽다', '어쩌나', '섬뜩하다', '불필요하다', '차갑다', '징그럽다', \n",
    "            '어둡다', '맵다', '심각하다', '쓰리다', '마르다', '쓸데없이', '흠잡다', '어이없다', '무자비하다', \n",
    "            '끔찍하다', '평범하다', '쓸데없다', '복잡하다', '불안하다', '피곤하다', '억지스럽다', '흔하다', '작다',\n",
    "            '길다', '부자연스럽다', '급하다', '우울하다', '안좋다', '심심하다', '짜증나다', '가볍다', '그럭저럭',\n",
    "            '익숙하다', '힘드다']\n",
    "\n",
    "negative_nn = ['지루함', '아쉬움', '억지', '실망', '별로']\n",
    "\n",
    "positive = positive_a + positive_nn\n",
    "negative = negative_a + negative_nn"
   ]
  },
  {
   "cell_type": "markdown",
   "id": "2b81e138",
   "metadata": {},
   "source": [
    "# 전체 리뷰 sentiment 판단"
   ]
  },
  {
   "cell_type": "code",
   "execution_count": 13,
   "id": "b13069f9",
   "metadata": {},
   "outputs": [],
   "source": [
    "#없음 None, 1개 str, 2개이상 list\n",
    "tagset = None\n",
    "col = 'review'\n",
    "results =[]\n",
    "for line in rev[col]: #전체 데이터 전처리\n",
    "    result = review_preproces_ko(line, stop_words, tagset)\n",
    "    results.append(result)\n",
    "\n",
    "data = np.concatenate(results).tolist() #1차원 리스트로 축소"
   ]
  },
  {
   "cell_type": "markdown",
   "id": "54e696db",
   "metadata": {},
   "source": [
    "- 긍정단어 포함 +1\n",
    "- 부정단어 포함 -1\n",
    "- 아예 점수 부여 없다 == 0"
   ]
  },
  {
   "cell_type": "code",
   "execution_count": 14,
   "id": "cdb5f5c0",
   "metadata": {},
   "outputs": [
    {
     "data": {
      "text/plain": [
       "'오늘 해방일 지 프리퀄 인 범죄 도시 보고왔습니다 구씨 도랑 뛰어넘고 옷 위로 들어나는 뛰어난 피지 컬 가지고도 산포시 밭일 싱크대 하며 폐인 처럼 술 만 마시고 살 게 됐는지 잘 느껴지는 작품 이었습니다 보통 깡패 아니었던거 같았는데 프리퀄 다담 계 있네요 ㅎ 많은 분 구씨 프리퀄 꼭 감상 하시고 드라마 더 몰입 하실 있었으면 합니다 강추'"
      ]
     },
     "execution_count": 14,
     "metadata": {},
     "output_type": "execute_result"
    }
   ],
   "source": [
    "rev_joins = []\n",
    "for result in results:\n",
    "    rev_join = ' '.join(result)\n",
    "    rev_joins.append(rev_join)\n",
    "rev_joins[0]"
   ]
  },
  {
   "cell_type": "markdown",
   "id": "979d5f90",
   "metadata": {},
   "source": [
    "# 감정 분석 DataFrame 생성"
   ]
  },
  {
   "cell_type": "code",
   "execution_count": 17,
   "id": "f12a6362",
   "metadata": {},
   "outputs": [
    {
     "name": "stdout",
     "output_type": "stream",
     "text": [
      "<class 'pandas.core.frame.DataFrame'>\n",
      "RangeIndex: 1330 entries, 0 to 1329\n",
      "Data columns (total 2 columns):\n",
      " #   Column         Non-Null Count  Dtype \n",
      "---  ------         --------------  ----- \n",
      " 0   ratings        1330 non-null   int64 \n",
      " 1   clean_reviews  1330 non-null   object\n",
      "dtypes: int64(1), object(1)\n",
      "memory usage: 20.9+ KB\n"
     ]
    }
   ],
   "source": [
    "clean_rev_df = pd.DataFrame({'ratings':rev['rating'], 'clean_reviews':rev_joins})\n",
    "clean_rev_df.info()"
   ]
  },
  {
   "cell_type": "code",
   "execution_count": 18,
   "id": "3a08ea34",
   "metadata": {},
   "outputs": [],
   "source": [
    "def sentiment_list(data_list):\n",
    "    pos_count = []\n",
    "    neg_count = []\n",
    "    sentiment = []\n",
    "    for clean_review in data_list:\n",
    "        pos = 0\n",
    "        neg = 0\n",
    "        for p in positive:\n",
    "            if p in clean_review:\n",
    "                pos += 1\n",
    "        for n in negative:\n",
    "            if n in clean_review:\n",
    "                neg += -1\n",
    "        pos_count.append(pos)\n",
    "        neg_count.append(neg)\n",
    "        sentiment.append(pos+neg)\n",
    "    return [pos_count, neg_count, sentiment]"
   ]
  },
  {
   "cell_type": "code",
   "execution_count": 19,
   "id": "ee035051",
   "metadata": {},
   "outputs": [
    {
     "data": {
      "text/html": [
       "<div>\n",
       "<style scoped>\n",
       "    .dataframe tbody tr th:only-of-type {\n",
       "        vertical-align: middle;\n",
       "    }\n",
       "\n",
       "    .dataframe tbody tr th {\n",
       "        vertical-align: top;\n",
       "    }\n",
       "\n",
       "    .dataframe thead th {\n",
       "        text-align: right;\n",
       "    }\n",
       "</style>\n",
       "<table border=\"1\" class=\"dataframe\">\n",
       "  <thead>\n",
       "    <tr style=\"text-align: right;\">\n",
       "      <th></th>\n",
       "      <th>ratings</th>\n",
       "      <th>clean_reviews</th>\n",
       "      <th>pos_count</th>\n",
       "      <th>neg_count</th>\n",
       "      <th>sentiment</th>\n",
       "    </tr>\n",
       "  </thead>\n",
       "  <tbody>\n",
       "    <tr>\n",
       "      <th>0</th>\n",
       "      <td>10</td>\n",
       "      <td>오늘 해방일 지 프리퀄 인 범죄 도시 보고왔습니다 구씨 도랑 뛰어넘고 옷 위로 들어...</td>\n",
       "      <td>1</td>\n",
       "      <td>0</td>\n",
       "      <td>1</td>\n",
       "    </tr>\n",
       "    <tr>\n",
       "      <th>1</th>\n",
       "      <td>1</td>\n",
       "      <td>세 라니 기 막힙니다 수위 사라졌나요 들은 영향 받습니다 잔인한 즐기는지 인성 심각...</td>\n",
       "      <td>1</td>\n",
       "      <td>0</td>\n",
       "      <td>1</td>\n",
       "    </tr>\n",
       "    <tr>\n",
       "      <th>2</th>\n",
       "      <td>10</td>\n",
       "      <td>오늘 봤는데 액션 유머 적절히 섞인 재미 난 한편 이었어요 새로운 감독 대한 걱정 ...</td>\n",
       "      <td>4</td>\n",
       "      <td>0</td>\n",
       "      <td>4</td>\n",
       "    </tr>\n",
       "    <tr>\n",
       "      <th>3</th>\n",
       "      <td>3</td>\n",
       "      <td>흥행 위 해서 라지 만 너무 잔인합니다 한국 리도 잔인하게 연출 될까 요 재밌자고 ...</td>\n",
       "      <td>0</td>\n",
       "      <td>0</td>\n",
       "      <td>0</td>\n",
       "    </tr>\n",
       "    <tr>\n",
       "      <th>4</th>\n",
       "      <td>9</td>\n",
       "      <td>속편 별로 다는 선입견 별 기대 안 하고 봤는데 전편 재미있네요 오락 영화로 만족</td>\n",
       "      <td>3</td>\n",
       "      <td>-1</td>\n",
       "      <td>2</td>\n",
       "    </tr>\n",
       "  </tbody>\n",
       "</table>\n",
       "</div>"
      ],
      "text/plain": [
       "   ratings                                      clean_reviews  pos_count  \\\n",
       "0       10  오늘 해방일 지 프리퀄 인 범죄 도시 보고왔습니다 구씨 도랑 뛰어넘고 옷 위로 들어...          1   \n",
       "1        1  세 라니 기 막힙니다 수위 사라졌나요 들은 영향 받습니다 잔인한 즐기는지 인성 심각...          1   \n",
       "2       10  오늘 봤는데 액션 유머 적절히 섞인 재미 난 한편 이었어요 새로운 감독 대한 걱정 ...          4   \n",
       "3        3  흥행 위 해서 라지 만 너무 잔인합니다 한국 리도 잔인하게 연출 될까 요 재밌자고 ...          0   \n",
       "4        9      속편 별로 다는 선입견 별 기대 안 하고 봤는데 전편 재미있네요 오락 영화로 만족          3   \n",
       "\n",
       "   neg_count  sentiment  \n",
       "0          0          1  \n",
       "1          0          1  \n",
       "2          0          4  \n",
       "3          0          0  \n",
       "4         -1          2  "
      ]
     },
     "execution_count": 19,
     "metadata": {},
     "output_type": "execute_result"
    }
   ],
   "source": [
    "sen_list = sentiment_list(clean_rev_df['clean_reviews'])\n",
    "\n",
    "clean_rev_df['pos_count'] = sen_list[0]\n",
    "clean_rev_df['neg_count'] = sen_list[1]\n",
    "clean_rev_df['sentiment'] = sen_list[2]\n",
    "clean_rev_df.head()"
   ]
  },
  {
   "cell_type": "code",
   "execution_count": 20,
   "id": "8c8f0785",
   "metadata": {},
   "outputs": [
    {
     "name": "stdout",
     "output_type": "stream",
     "text": [
      "<class 'pandas.core.frame.DataFrame'>\n",
      "RangeIndex: 1330 entries, 0 to 1329\n",
      "Data columns (total 5 columns):\n",
      " #   Column         Non-Null Count  Dtype \n",
      "---  ------         --------------  ----- \n",
      " 0   ratings        1330 non-null   int64 \n",
      " 1   clean_reviews  1330 non-null   object\n",
      " 2   pos_count      1330 non-null   int64 \n",
      " 3   neg_count      1330 non-null   int64 \n",
      " 4   sentiment      1330 non-null   int64 \n",
      "dtypes: int64(4), object(1)\n",
      "memory usage: 52.1+ KB\n"
     ]
    }
   ],
   "source": [
    "clean_rev_df.info()"
   ]
  },
  {
   "cell_type": "code",
   "execution_count": 21,
   "id": "ed70b94e",
   "metadata": {},
   "outputs": [
    {
     "data": {
      "text/html": [
       "<div>\n",
       "<style scoped>\n",
       "    .dataframe tbody tr th:only-of-type {\n",
       "        vertical-align: middle;\n",
       "    }\n",
       "\n",
       "    .dataframe tbody tr th {\n",
       "        vertical-align: top;\n",
       "    }\n",
       "\n",
       "    .dataframe thead th {\n",
       "        text-align: right;\n",
       "    }\n",
       "</style>\n",
       "<table border=\"1\" class=\"dataframe\">\n",
       "  <thead>\n",
       "    <tr style=\"text-align: right;\">\n",
       "      <th></th>\n",
       "      <th></th>\n",
       "      <th></th>\n",
       "      <th>ratings</th>\n",
       "      <th>clean_reviews</th>\n",
       "    </tr>\n",
       "    <tr>\n",
       "      <th>sentiment</th>\n",
       "      <th>pos_count</th>\n",
       "      <th>neg_count</th>\n",
       "      <th></th>\n",
       "      <th></th>\n",
       "    </tr>\n",
       "  </thead>\n",
       "  <tbody>\n",
       "    <tr>\n",
       "      <th>-2</th>\n",
       "      <th>0</th>\n",
       "      <th>-2</th>\n",
       "      <td>3</td>\n",
       "      <td>3</td>\n",
       "    </tr>\n",
       "    <tr>\n",
       "      <th rowspan=\"2\" valign=\"top\">-1</th>\n",
       "      <th>0</th>\n",
       "      <th>-1</th>\n",
       "      <td>63</td>\n",
       "      <td>63</td>\n",
       "    </tr>\n",
       "    <tr>\n",
       "      <th>1</th>\n",
       "      <th>-2</th>\n",
       "      <td>5</td>\n",
       "      <td>5</td>\n",
       "    </tr>\n",
       "    <tr>\n",
       "      <th rowspan=\"3\" valign=\"top\">0</th>\n",
       "      <th>0</th>\n",
       "      <th>0</th>\n",
       "      <td>650</td>\n",
       "      <td>650</td>\n",
       "    </tr>\n",
       "    <tr>\n",
       "      <th>1</th>\n",
       "      <th>-1</th>\n",
       "      <td>33</td>\n",
       "      <td>33</td>\n",
       "    </tr>\n",
       "    <tr>\n",
       "      <th>2</th>\n",
       "      <th>-2</th>\n",
       "      <td>3</td>\n",
       "      <td>3</td>\n",
       "    </tr>\n",
       "    <tr>\n",
       "      <th rowspan=\"5\" valign=\"top\">1</th>\n",
       "      <th>1</th>\n",
       "      <th>0</th>\n",
       "      <td>327</td>\n",
       "      <td>327</td>\n",
       "    </tr>\n",
       "    <tr>\n",
       "      <th>2</th>\n",
       "      <th>-1</th>\n",
       "      <td>17</td>\n",
       "      <td>17</td>\n",
       "    </tr>\n",
       "    <tr>\n",
       "      <th>3</th>\n",
       "      <th>-2</th>\n",
       "      <td>1</td>\n",
       "      <td>1</td>\n",
       "    </tr>\n",
       "    <tr>\n",
       "      <th>4</th>\n",
       "      <th>-3</th>\n",
       "      <td>1</td>\n",
       "      <td>1</td>\n",
       "    </tr>\n",
       "    <tr>\n",
       "      <th>5</th>\n",
       "      <th>-4</th>\n",
       "      <td>1</td>\n",
       "      <td>1</td>\n",
       "    </tr>\n",
       "    <tr>\n",
       "      <th rowspan=\"3\" valign=\"top\">2</th>\n",
       "      <th>2</th>\n",
       "      <th>0</th>\n",
       "      <td>135</td>\n",
       "      <td>135</td>\n",
       "    </tr>\n",
       "    <tr>\n",
       "      <th>3</th>\n",
       "      <th>-1</th>\n",
       "      <td>10</td>\n",
       "      <td>10</td>\n",
       "    </tr>\n",
       "    <tr>\n",
       "      <th>4</th>\n",
       "      <th>-2</th>\n",
       "      <td>2</td>\n",
       "      <td>2</td>\n",
       "    </tr>\n",
       "    <tr>\n",
       "      <th rowspan=\"3\" valign=\"top\">3</th>\n",
       "      <th>3</th>\n",
       "      <th>0</th>\n",
       "      <td>58</td>\n",
       "      <td>58</td>\n",
       "    </tr>\n",
       "    <tr>\n",
       "      <th>4</th>\n",
       "      <th>-1</th>\n",
       "      <td>1</td>\n",
       "      <td>1</td>\n",
       "    </tr>\n",
       "    <tr>\n",
       "      <th>5</th>\n",
       "      <th>-2</th>\n",
       "      <td>2</td>\n",
       "      <td>2</td>\n",
       "    </tr>\n",
       "    <tr>\n",
       "      <th rowspan=\"2\" valign=\"top\">4</th>\n",
       "      <th>4</th>\n",
       "      <th>0</th>\n",
       "      <td>11</td>\n",
       "      <td>11</td>\n",
       "    </tr>\n",
       "    <tr>\n",
       "      <th>5</th>\n",
       "      <th>-1</th>\n",
       "      <td>1</td>\n",
       "      <td>1</td>\n",
       "    </tr>\n",
       "    <tr>\n",
       "      <th>5</th>\n",
       "      <th>5</th>\n",
       "      <th>0</th>\n",
       "      <td>3</td>\n",
       "      <td>3</td>\n",
       "    </tr>\n",
       "    <tr>\n",
       "      <th>6</th>\n",
       "      <th>6</th>\n",
       "      <th>0</th>\n",
       "      <td>1</td>\n",
       "      <td>1</td>\n",
       "    </tr>\n",
       "    <tr>\n",
       "      <th rowspan=\"2\" valign=\"top\">7</th>\n",
       "      <th>7</th>\n",
       "      <th>0</th>\n",
       "      <td>1</td>\n",
       "      <td>1</td>\n",
       "    </tr>\n",
       "    <tr>\n",
       "      <th>9</th>\n",
       "      <th>-2</th>\n",
       "      <td>1</td>\n",
       "      <td>1</td>\n",
       "    </tr>\n",
       "  </tbody>\n",
       "</table>\n",
       "</div>"
      ],
      "text/plain": [
       "                               ratings  clean_reviews\n",
       "sentiment pos_count neg_count                        \n",
       "-2        0         -2               3              3\n",
       "-1        0         -1              63             63\n",
       "          1         -2               5              5\n",
       " 0        0          0             650            650\n",
       "          1         -1              33             33\n",
       "          2         -2               3              3\n",
       " 1        1          0             327            327\n",
       "          2         -1              17             17\n",
       "          3         -2               1              1\n",
       "          4         -3               1              1\n",
       "          5         -4               1              1\n",
       " 2        2          0             135            135\n",
       "          3         -1              10             10\n",
       "          4         -2               2              2\n",
       " 3        3          0              58             58\n",
       "          4         -1               1              1\n",
       "          5         -2               2              2\n",
       " 4        4          0              11             11\n",
       "          5         -1               1              1\n",
       " 5        5          0               3              3\n",
       " 6        6          0               1              1\n",
       " 7        7          0               1              1\n",
       "          9         -2               1              1"
      ]
     },
     "execution_count": 21,
     "metadata": {},
     "output_type": "execute_result"
    }
   ],
   "source": [
    "clean_rev_df.groupby(['sentiment', 'pos_count', 'neg_count']).count() "
   ]
  },
  {
   "cell_type": "code",
   "execution_count": null,
   "id": "5153f794",
   "metadata": {},
   "outputs": [],
   "source": []
  }
 ],
 "metadata": {
  "kernelspec": {
   "display_name": "Python 3 (ipykernel)",
   "language": "python",
   "name": "python3"
  },
  "language_info": {
   "codemirror_mode": {
    "name": "ipython",
    "version": 3
   },
   "file_extension": ".py",
   "mimetype": "text/x-python",
   "name": "python",
   "nbconvert_exporter": "python",
   "pygments_lexer": "ipython3",
   "version": "3.9.12"
  },
  "toc": {
   "base_numbering": 1,
   "nav_menu": {},
   "number_sections": true,
   "sideBar": true,
   "skip_h1_title": false,
   "title_cell": "Table of Contents",
   "title_sidebar": "Contents",
   "toc_cell": false,
   "toc_position": {},
   "toc_section_display": true,
   "toc_window_display": false
  }
 },
 "nbformat": 4,
 "nbformat_minor": 5
}
